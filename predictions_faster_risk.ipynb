{
 "cells": [
  {
   "cell_type": "code",
   "execution_count": 1,
   "metadata": {},
   "outputs": [],
   "source": [
    "import pandas as pd\n",
    "import numpy as np\n",
    "from fasterrisk.fasterrisk import RiskScoreOptimizer, RiskScoreClassifier\n",
    "from sklearn.model_selection import train_test_split\n",
    "import time\n",
    "from sklearn.linear_model import LogisticRegression\n",
    "from fasterrisk.binarization_util import convert_continuous_df_to_binary_df\n",
    "from sklearn.model_selection import train_test_split\n",
    "from sklearn.metrics import log_loss"
   ]
  },
  {
   "cell_type": "code",
   "execution_count": 8,
   "metadata": {},
   "outputs": [],
   "source": [
    "num_random_seeds = 2\n",
    "\n",
    "sparsity = [5] #[5, 6, 7, 8, 9, 10]\n",
    "coeff_bounds = [5] #[5, 10, 15]\n",
    "\n",
    "TARGET_VARIABLE = \"qualified_gagne_2\"\n",
    "prediction_output = \"predictions/obermeyer/fasterrisk_\"+TARGET_VARIABLE+\".csv\""
   ]
  },
  {
   "cell_type": "code",
   "execution_count": 9,
   "metadata": {},
   "outputs": [],
   "source": [
    "data_source = \"data/obermeyer/obermeyer_data_cleaned.csv\"\n",
    "features = ['dem_female', 'dem_age_band_18-24_tm1', 'dem_age_band_25-34_tm1', 'dem_age_band_35-44_tm1', 'dem_age_band_45-54_tm1',\n",
    "            'dem_age_band_55-64_tm1', 'dem_age_band_65-74_tm1', 'dem_age_band_75+_tm1', 'hypertension_elixhauser_tm1', 'cost_dialysis_tm1',\n",
    "            'cost_emergency_tm1', 'cost_home_health_tm1', 'cost_ip_medical_tm1', 'cost_ip_surgical_tm1', 'cost_laboratory_tm1',\n",
    "            'cost_op_primary_care_tm1', 'cost_op_specialists_tm1', 'cost_op_surgery_tm1', 'cost_other_tm1', 'cost_pharmacy_tm1',\n",
    "            'cost_physical_therapy_tm1', 'cost_radiology_tm1', 'gagne_sum_tm1']\n",
    "other_variables = ['person_id', 'gagne_sum_t', 'cost_t']"
   ]
  },
  {
   "cell_type": "code",
   "execution_count": 10,
   "metadata": {},
   "outputs": [
    {
     "name": "stderr",
     "output_type": "stream",
     "text": [
      "/var/folders/6w/yt_9nm1s5ngbsytz47vfxfjh0000gn/T/ipykernel_4356/3053974972.py:4: SettingWithCopyWarning: \n",
      "A value is trying to be set on a copy of a slice from a DataFrame.\n",
      "Try using .loc[row_indexer,col_indexer] = value instead\n",
      "\n",
      "See the caveats in the documentation: https://pandas.pydata.org/pandas-docs/stable/user_guide/indexing.html#returning-a-view-versus-a-copy\n",
      "  y.loc[:, TARGET_VARIABLE] = (y[TARGET_VARIABLE] * 2) - 1\n"
     ]
    },
    {
     "name": "stdout",
     "output_type": "stream",
     "text": [
      "Converting continuous features to binary features in the dataframe......\n",
      "We select thresholds for each continuous feature by sampling (without replacement) <= max_num_thresholds_per_feature values from all unique values in that feature column.\n",
      "Finish converting continuous features to binary features......\n"
     ]
    }
   ],
   "source": [
    "df = pd.read_csv(data_source)\n",
    "X = df[features]\n",
    "y = df[[TARGET_VARIABLE]+other_variables]\n",
    "y.loc[:, TARGET_VARIABLE] = (y[TARGET_VARIABLE] * 2) - 1\n",
    "\n",
    "X_binarized_df, featureIndex_to_groupIndex = convert_continuous_df_to_binary_df(X, get_featureIndex_to_groupIndex=True)"
   ]
  },
  {
   "cell_type": "code",
   "execution_count": 11,
   "metadata": {},
   "outputs": [
    {
     "name": "stdout",
     "output_type": "stream",
     "text": [
      "Random Seed, k, b: 0 5 5\n",
      "0.2896223875720162\n",
      "\n",
      "Random Seed, k, b: 1 5 5\n",
      "0.2787109538982964\n",
      "\n"
     ]
    }
   ],
   "source": [
    "output = []\n",
    "\n",
    "for random_seed in range(num_random_seeds):\n",
    "    X_train, X_test, y_train, y_test = train_test_split(X_binarized_df, y, test_size=0.20, random_state=random_seed)\n",
    "    X_train, X_val, y_train, y_val = train_test_split(X_train, y_train, test_size=0.25, random_state=random_seed)\n",
    "    \n",
    "    cost = y_test[\"cost_t\"].to_numpy()\n",
    "    gagne = y_test[\"gagne_sum_t\"].to_numpy()\n",
    "    person_id = y_test['person_id'].to_numpy()\n",
    "\n",
    "    y_train = y_train[TARGET_VARIABLE].to_numpy()\n",
    "    y_val = y_val[TARGET_VARIABLE].to_numpy()\n",
    "    y_test = y_test[TARGET_VARIABLE].to_numpy()\n",
    "    X_train = X_train.to_numpy()\n",
    "    X_val = X_val.to_numpy()\n",
    "    X_test = X_test.to_numpy()\n",
    "\n",
    "    predictions = {}\n",
    "    training_loss = {}\n",
    "    validation_loss = {}\n",
    "    i = 0\n",
    "    \n",
    "    for k in sparsity:\n",
    "        for b in coeff_bounds:\n",
    "            print(\"Random Seed, k, b:\", random_seed, k, b)\n",
    "\n",
    "            RiskScoreOptimizer_m = RiskScoreOptimizer(X = X_train, y = y_train, k = k, lb = -b, ub = b,\n",
    "                                                     select_top_m=100, parent_size=20, num_ray_search=40)\n",
    "                                              #group_sparsity = 3, \\\n",
    "                                              #featureIndex_to_groupIndex = featureIndex_to_groupIndex)    \n",
    "            RiskScoreOptimizer_m.optimize()\n",
    "            multipliers, sparseDiversePool_beta0_integer, sparseDiversePool_betas_integer = RiskScoreOptimizer_m.get_models()\n",
    "\n",
    "            val_loss = []\n",
    "            for model_index in range(len(multipliers)):\n",
    "                multiplier = multipliers[model_index]\n",
    "                intercept = sparseDiversePool_beta0_integer[model_index]\n",
    "                coefficients = sparseDiversePool_betas_integer[model_index]\n",
    "                RiskScoreClassifier_m = RiskScoreClassifier(multiplier, intercept, coefficients, X_train = X_train)\n",
    "                \n",
    "                predictions[f'm_{i+1}'] = RiskScoreClassifier_m.predict_prob(X_test)\n",
    "                training_loss[f'm_{i+1}'] = log_loss(y_train, RiskScoreClassifier_m.predict_prob(X_train))\n",
    "                validation_loss[f'm_{i+1}'] = log_loss(y_val, RiskScoreClassifier_m.predict_prob(X_val))\n",
    "                val_loss.append(log_loss(y_val, RiskScoreClassifier_m.predict_prob(X_val)))\n",
    "                i += 1\n",
    "            print(np.mean(val_loss))\n",
    "            print()\n",
    "            \n",
    "    predictions_df = pd.concat([\n",
    "        pd.DataFrame(predictions),\n",
    "        pd.DataFrame(training_loss, index=[0]),\n",
    "        pd.DataFrame(validation_loss, index=[0])]).reset_index(drop=True)\n",
    "    \n",
    "    predictions_df[\"y\"] = np.concatenate([y_test, [np.nan, np.nan]])\n",
    "    predictions_df[\"person_id\"] = np.concatenate([person_id, [-2, -1]]) # -1 indicates validation loss, -2 indicates training loss\n",
    "    predictions_df['cost_t'] = np.concatenate([cost, [np.nan, np.nan]]) \n",
    "    predictions_df['gagne_sum_t'] = np.concatenate([gagne, [np.nan, np.nan]])\n",
    "    predictions_df[\"seed\"] = random_seed\n",
    "\n",
    "    output.append(predictions_df)\n",
    "    \n",
    "output = pd.concat(output)\n",
    "output.loc[:, \"y\"] = (output[\"y\"] + 1) / 2\n",
    "for c in output.columns:\n",
    "    if c.startswith(\"m_\"):\n",
    "        output[c] = output[c].astype('float32')"
   ]
  },
  {
   "cell_type": "code",
   "execution_count": 12,
   "metadata": {},
   "outputs": [],
   "source": [
    "output.to_csv(prediction_output, index=False)"
   ]
  },
  {
   "cell_type": "code",
   "execution_count": null,
   "metadata": {},
   "outputs": [],
   "source": []
  }
 ],
 "metadata": {
  "kernelspec": {
   "display_name": "Python 3 (ipykernel)",
   "language": "python",
   "name": "python3"
  },
  "language_info": {
   "codemirror_mode": {
    "name": "ipython",
    "version": 3
   },
   "file_extension": ".py",
   "mimetype": "text/x-python",
   "name": "python",
   "nbconvert_exporter": "python",
   "pygments_lexer": "ipython3",
   "version": "3.9.21"
  }
 },
 "nbformat": 4,
 "nbformat_minor": 4
}
