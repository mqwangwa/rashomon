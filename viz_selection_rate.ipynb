{
 "cells": [
  {
   "cell_type": "code",
   "execution_count": 1,
   "id": "42dbea4d-48a0-43da-8027-dc0f17d137a9",
   "metadata": {},
   "outputs": [],
   "source": [
    "import pandas as pd\n",
    "from allocations import Allocations\n",
    "import matplotlib.pyplot as plt\n",
    "import numpy as np"
   ]
  },
  {
   "cell_type": "code",
   "execution_count": 52,
   "id": "34ab5b37-ee0a-4f69-be16-e268ac9c2edc",
   "metadata": {},
   "outputs": [],
   "source": [
    "methods = [\n",
    "    \"fasterrisk\",\n",
    "    \"bootstrap_nn\",\n",
    "    \"nn_variance\",\n",
    "    \"awp\"]\n",
    "\n",
    "labels = [\n",
    "    \"Feature Selection\",\n",
    "    \"Training Data\",\n",
    "    \"Training Initialization\",\n",
    "    \"Weight Perturbation\"\n",
    "]\n",
    "\n",
    "SELECTION_RATE = 0.25\n",
    "QUALIFICATION_COLUMN = \"qualified_gagne_2\"\n",
    "ITERATIONS_PER_SPLIT = 25\n",
    "TEST_SIZE = 1000\n",
    "RASHOMON_EPSILON = 0.01\n",
    "USE_BEST = True\n",
    "\n",
    "output_file = \"viz/sickness_ratio.jpg\"\n",
    "if USE_BEST:\n",
    "    output_file = \"viz/sickness_ratio_best.jpg\"\n",
    "data = pd.read_csv(\"data/obermeyer/obermeyer_data_cleaned.csv\")"
   ]
  },
  {
   "cell_type": "code",
   "execution_count": 41,
   "id": "431de1eb-430a-4e2e-8899-d90f34b37d37",
   "metadata": {},
   "outputs": [
    {
     "name": "stdout",
     "output_type": "stream",
     "text": [
      "fasterrisk\n",
      "bootstrap_nn\n",
      "nn_variance\n",
      "awp\n"
     ]
    }
   ],
   "source": [
    "all_results = []\n",
    "baseline = []\n",
    "\n",
    "for m in methods:\n",
    "    print(m)\n",
    "    #df = pd.read_csv(\"results/\"+m+\"_\"+QUALIFICATION_COLUMN+\".csv\")\n",
    "    df = pd.read_csv(\"test_bootstrap_lr_qualified_gagne_2.csv\")\n",
    "    a = Allocations(df, TEST_SIZE, SELECTION_RATE, \"y\", RASHOMON_EPSILON, ITERATIONS_PER_SPLIT)\n",
    "    allocations, people = a.get_allocations()\n",
    "\n",
    "    results = []\n",
    "    for seed in allocations[\"seed\"].unique():\n",
    "        for iteration in allocations[\"iteration\"].unique():\n",
    "            curr_people = list(people.loc[((people[\"seed\"]==seed)&(people[\"iteration\"]==iteration)), \"people\"])[0]\n",
    "            test_data = data.loc[data[\"person_id\"].isin(curr_people), [\"person_id\", QUALIFICATION_COLUMN, \"race\"]]\n",
    "    \n",
    "            curr_allocations = allocations.loc[(allocations[\"seed\"]==seed)&(allocations[\"iteration\"]==iteration), \"selected\"].to_list()\n",
    "            results_inner = []\n",
    "            for a in curr_allocations:\n",
    "                results_inner.append(test_data.loc[test_data[\"person_id\"].isin(a), \"race\"].sum() / len(a))\n",
    "\n",
    "            if USE_BEST:\n",
    "                results.append(max(results_inner))\n",
    "            else:\n",
    "                results += results_inner\n",
    "                            \n",
    "            # Baseline Simulations\n",
    "            qualified = test_data[test_data[QUALIFICATION_COLUMN]==1]\n",
    "            unqualified = test_data[test_data[QUALIFICATION_COLUMN]==0]\n",
    "            k = int(TEST_SIZE*SELECTION_RATE)\n",
    "            k_prime = int(np.round(allocations.loc[(allocations[\"seed\"]==seed)&(allocations[\"iteration\"]==iteration), \"k'\"].mean()))\n",
    "            k_minus_k_prime = k - k_prime\n",
    "\n",
    "            if USE_BEST:\n",
    "                group_qualified = len(qualified[qualified[\"race\"]==1])\n",
    "                group_unqualified = len(unqualified[unqualified[\"race\"]==0])\n",
    "                baseline.append((min(k_prime, group_qualified) + min(k_minus_k_prime, group_unqualified))/k)\n",
    "            else:\n",
    "                for i in range(100):\n",
    "                    selected = pd.concat([qualified.sample(n=k_prime), unqualified.sample(n=k_minus_k_prime)])                \n",
    "                    baseline.append(selected[\"race\"].sum()/len(selected))\n",
    "    all_results.append(results)"
   ]
  },
  {
   "cell_type": "code",
   "execution_count": 42,
   "id": "b8a27211-7122-4b56-be81-360e9b397630",
   "metadata": {},
   "outputs": [],
   "source": [
    "all_results.append(baseline)\n",
    "all_results.reverse()\n",
    "labels.reverse()"
   ]
  },
  {
   "cell_type": "code",
   "execution_count": 57,
   "id": "1f4c0725-ba9a-4545-85e6-1c3130983a04",
   "metadata": {},
   "outputs": [
    {
     "data": {
      "image/png": "[encoded data removed]",
      "text/plain": [
       "<Figure size 750x250 with 1 Axes>"
      ]
     },
     "metadata": {},
     "output_type": "display_data"
    }
   ],
   "source": [
    "fig, ax = plt.subplots(figsize=(7.5,2.5))\n",
    "bp_dict = ax.boxplot(all_results, showfliers=False, vert=False, notch=False, widths=0.4)\n",
    "\n",
    "ax.set_yticklabels([\"All Rashomon Allocations\"]+labels)\n",
    "\n",
    "if USE_BEST:\n",
    "    ax.set_xlabel(\"Highest Proportion of Selected Patients who are Black\")\n",
    "else:\n",
    "    ax.set_xlabel(\"Proportion of Selected Patients who are Black\")\n",
    "\n",
    "plt.grid(True, axis='x', alpha=0.5)\n",
    "fig.tight_layout()\n",
    "fig.savefig(output_file, dpi=500)"
   ]
  },
  {
   "cell_type": "code",
   "execution_count": null,
   "id": "ec5f3998-0c3f-4f73-815e-f1f2acc1494f",
   "metadata": {},
   "outputs": [],
   "source": []
  }
 ],
 "metadata": {
  "kernelspec": {
   "display_name": "Python 3 (ipykernel)",
   "language": "python",
   "name": "python3"
  },
  "language_info": {
   "codemirror_mode": {
    "name": "ipython",
    "version": 3
   },
   "file_extension": ".py",
   "mimetype": "text/x-python",
   "name": "python",
   "nbconvert_exporter": "python",
   "pygments_lexer": "ipython3",
   "version": "3.9.21"
  }
 },
 "nbformat": 4,
 "nbformat_minor": 5
}
