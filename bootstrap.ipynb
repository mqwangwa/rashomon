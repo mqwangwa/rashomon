{
 "cells": [
  {
   "cell_type": "code",
   "execution_count": 1,
   "metadata": {},
   "outputs": [],
   "source": [
    "import pandas as pd\n",
    "import numpy as np\n",
    "from sklearn.ensemble import RandomForestRegressor\n",
    "from sklearn.linear_model import LinearRegression\n",
    "from sklearn.neural_network import MLPRegressor\n",
    "from sklearn.model_selection import train_test_split\n",
    "from tqdm import tqdm\n",
    "from sklearn.metrics import mean_squared_error"
   ]
  },
  {
   "cell_type": "code",
   "execution_count": 2,
   "metadata": {},
   "outputs": [],
   "source": [
    "RANDOM_SEED = 0\n",
    "num_bootstrap_models = 10000\n",
    "MODEL_CLASS = \"rf\" #lr,nn,rf"
   ]
  },
  {
   "cell_type": "code",
   "execution_count": 3,
   "metadata": {},
   "outputs": [],
   "source": [
    "data_source = \"data/obermeyer/obermeyer_data_cleaned.csv\"\n",
    "prediction_output = \"predictions/obermeyer/bootstrap_\"+MODEL_CLASS+\"_\"+str(RANDOM_SEED)+\".csv\"\n",
    "target_variable = \"cost_t\"\n",
    "features = ['dem_female', 'dem_age_band_18-24_tm1', 'dem_age_band_25-34_tm1', 'dem_age_band_35-44_tm1', 'dem_age_band_45-54_tm1',\n",
    "            'dem_age_band_55-64_tm1', 'dem_age_band_65-74_tm1', 'dem_age_band_75+_tm1', 'hypertension_elixhauser_tm1', 'cost_dialysis_tm1',\n",
    "            'cost_emergency_tm1', 'cost_home_health_tm1', 'cost_ip_medical_tm1', 'cost_ip_surgical_tm1', 'cost_laboratory_tm1',\n",
    "            'cost_op_primary_care_tm1', 'cost_op_specialists_tm1', 'cost_op_surgery_tm1', 'cost_other_tm1', 'cost_pharmacy_tm1',\n",
    "            'cost_physical_therapy_tm1', 'cost_radiology_tm1', 'gagne_sum_tm1']\n",
    "other_variables = ['person_id', 'qualified_cost_25', 'qualified_cost_75', 'qualified_cost_50', 'qualified_gagne_1', 'qualified_gagne_2', 'qualified_gagne_3']"
   ]
  },
  {
   "cell_type": "code",
   "execution_count": 4,
   "metadata": {},
   "outputs": [],
   "source": [
    "df = pd.read_csv(data_source)\n",
    "X = df[features+other_variables]\n",
    "y = df[target_variable]"
   ]
  },
  {
   "cell_type": "code",
   "execution_count": 5,
   "metadata": {},
   "outputs": [],
   "source": [
    "def get_bootstrap_model(X_train, y_train, X_test, random_seed, bootstrap_size=0.5):\n",
    "    np.random.seed(random_seed)\n",
    "    idx = np.random.permutation(len(X_train))[:int(len(X_train)*bootstrap_size)]\n",
    "    if MODEL_CLASS == \"lr\":\n",
    "        model = LinearRegression()\n",
    "    elif MODEL_CLASS == \"rf\":\n",
    "        model = RandomForestRegressor(random_state=random_seed)\n",
    "    elif MODEL_CLASS == \"nn\":\n",
    "        model = MLPRegressor(random_state=random_seed)\n",
    "    model.fit(X_train[idx], y_train[idx])\n",
    "    return model.predict(X_test)"
   ]
  },
  {
   "cell_type": "code",
   "execution_count": 6,
   "metadata": {},
   "outputs": [
    {
     "name": "stdout",
     "output_type": "stream",
     "text": [
      "random seed 0\n"
     ]
    },
    {
     "name": "stderr",
     "output_type": "stream",
     "text": [
      "100%|███████████████████████████████████████████| 10/10 [01:18<00:00,  7.88s/it]\n"
     ]
    }
   ],
   "source": [
    "output = []\n",
    "for random_seed in [RANDOM_SEED]:\n",
    "    print(\"random seed\", random_seed)\n",
    "    X_train, X_test, y_train, y_test = train_test_split(X, y, test_size=0.33, random_state=random_seed)\n",
    "    \n",
    "    cost_threshold_25 = X_test['qualified_cost_25'].to_numpy()\n",
    "    cost_threshold_50 = X_test['qualified_cost_50'].to_numpy()\n",
    "    cost_threshold_75 = X_test['qualified_cost_75'].to_numpy()\n",
    "    gagne_threshold_1 = X_test['qualified_gagne_1'].to_numpy()\n",
    "    gagne_threshold_2 = X_test['qualified_gagne_2'].to_numpy()\n",
    "    gagne_threshold_3 = X_test['qualified_gagne_3'].to_numpy()\n",
    "    test_idx = X_test['person_id'].to_numpy()\n",
    "    \n",
    "    # print(test_idx.isna().sum())\n",
    "    X_train = X_train.drop(columns=other_variables).to_numpy()\n",
    "    y_train = y_train.to_numpy()\n",
    "    X_test = X_test.drop(columns=other_variables).to_numpy()\n",
    "    y_test = y_test.to_numpy()\n",
    "\n",
    "    predictions = []\n",
    "    columns = []\n",
    "    for i in tqdm(range(num_bootstrap_models)):\n",
    "        columns.append(f'm_{i+1}')\n",
    "        scores = get_bootstrap_model(X_train, y_train, X_test, random_seed=i, bootstrap_size=0.5)\n",
    "        predictions.append(scores)\n",
    "    \n",
    "    predictions_df = pd.DataFrame(predictions).transpose()\n",
    "    predictions_df.columns=columns\n",
    "    predictions_df[\"y\"] = y_test\n",
    "    predictions_df[\"person_id\"] = test_idx \n",
    "    predictions_df[\"seed\"] = random_seed\n",
    "    \n",
    "    predictions_df['qualified_cost_25'] = cost_threshold_25\n",
    "    predictions_df['qualified_cost_50'] = cost_threshold_50\n",
    "    predictions_df['qualified_cost_75'] = cost_threshold_75\n",
    "    predictions_df['qualified_gagne_1'] = gagne_threshold_1\n",
    "    predictions_df['qualified_gagne_2'] = gagne_threshold_2\n",
    "    predictions_df['qualified_gagne_3'] = gagne_threshold_3\n",
    "\n",
    "    output.append(predictions_df)\n",
    "output = pd.concat(output)"
   ]
  },
  {
   "cell_type": "code",
   "execution_count": 10,
   "metadata": {},
   "outputs": [
    {
     "name": "stdout",
     "output_type": "stream",
     "text": [
      "<class 'pandas.core.frame.DataFrame'>\n",
      "RangeIndex: 16099 entries, 0 to 16098\n",
      "Data columns (total 19 columns):\n",
      " #   Column             Non-Null Count  Dtype  \n",
      "---  ------             --------------  -----  \n",
      " 0   m_1                16099 non-null  float64\n",
      " 1   m_2                16099 non-null  float64\n",
      " 2   m_3                16099 non-null  float64\n",
      " 3   m_4                16099 non-null  float64\n",
      " 4   m_5                16099 non-null  float64\n",
      " 5   m_6                16099 non-null  float64\n",
      " 6   m_7                16099 non-null  float64\n",
      " 7   m_8                16099 non-null  float64\n",
      " 8   m_9                16099 non-null  float64\n",
      " 9   m_10               16099 non-null  float64\n",
      " 10  y                  16099 non-null  float64\n",
      " 11  person_id          16099 non-null  int64  \n",
      " 12  seed               16099 non-null  int64  \n",
      " 13  qualified_cost_25  16099 non-null  int64  \n",
      " 14  qualified_cost_50  16099 non-null  int64  \n",
      " 15  qualified_cost_75  16099 non-null  int64  \n",
      " 16  qualified_gagne_1  16099 non-null  int64  \n",
      " 17  qualified_gagne_2  16099 non-null  int64  \n",
      " 18  qualified_gagne_3  16099 non-null  int64  \n",
      "dtypes: float64(11), int64(8)\n",
      "memory usage: 2.3 MB\n",
      "None\n"
     ]
    }
   ],
   "source": [
    "print(output.info())"
   ]
  },
  {
   "cell_type": "code",
   "execution_count": 9,
   "metadata": {},
   "outputs": [],
   "source": [
    "output.to_csv(prediction_output, index=False)"
   ]
  },
  {
   "cell_type": "code",
   "execution_count": null,
   "metadata": {},
   "outputs": [],
   "source": []
  }
 ],
 "metadata": {
  "kernelspec": {
   "display_name": "Python 3 (ipykernel)",
   "language": "python",
   "name": "python3"
  },
  "language_info": {
   "codemirror_mode": {
    "name": "ipython",
    "version": 3
   },
   "file_extension": ".py",
   "mimetype": "text/x-python",
   "name": "python",
   "nbconvert_exporter": "python",
   "pygments_lexer": "ipython3",
   "version": "3.13.0"
  }
 },
 "nbformat": 4,
 "nbformat_minor": 4
}
