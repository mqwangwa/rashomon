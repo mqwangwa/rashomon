{
 "cells": [
  {
   "cell_type": "code",
   "execution_count": 8,
   "id": "bfec0d00-2dd8-4829-b531-c6190e2ad6bc",
   "metadata": {},
   "outputs": [],
   "source": [
    "import pandas as pd\n",
    "import numpy as np\n",
    "import torch\n",
    "from torch import nn\n",
    "import torch.nn.functional as F\n",
    "import random\n",
    "from sklearn.model_selection import train_test_split\n",
    "from tqdm import tqdm"
   ]
  },
  {
   "cell_type": "code",
   "execution_count": 10,
   "id": "0896284e-4449-4993-b7ac-6e87111270ef",
   "metadata": {},
   "outputs": [],
   "source": [
    "# PREDICTION VARIABLES\n",
    "num_random_seeds = 10\n",
    "iterations_per_seed = 10\n",
    "test_size = 0.20\n",
    "validation_size = 0.25\n",
    "\n",
    "MIN_EPOCH = 200\n",
    "MAX_EPOCH = 300\n",
    "NNEURON = 100\n",
    "NLAYER = 1\n",
    "BETA1 = 0.9\n",
    "BETA2 = 0.999\n",
    "TRAINLR = 0.001\n",
    "device = torch.device(\"cuda:0\" if torch.cuda.is_available() else \"cpu\")\n",
    "\n",
    "TARGET_VARIABLE = \"qualified_gagne_2\"\n",
    "prediction_output = \"predictions/obermeyer/nn_variance_\"+TARGET_VARIABLE+\".csv\""
   ]
  },
  {
   "cell_type": "code",
   "execution_count": 11,
   "id": "11f207a9-d63e-407e-8057-eb8ad101f9ca",
   "metadata": {},
   "outputs": [],
   "source": [
    "# SETUP VARIABLES\n",
    "data_source = \"data/obermeyer/obermeyer_data_cleaned.csv\"\n",
    "features = ['dem_female', 'dem_age_band_18-24_tm1', 'dem_age_band_25-34_tm1', 'dem_age_band_35-44_tm1', 'dem_age_band_45-54_tm1',\n",
    "            'dem_age_band_55-64_tm1', 'dem_age_band_65-74_tm1', 'dem_age_band_75+_tm1', 'hypertension_elixhauser_tm1', 'cost_dialysis_tm1',\n",
    "            'cost_emergency_tm1', 'cost_home_health_tm1', 'cost_ip_medical_tm1', 'cost_ip_surgical_tm1', 'cost_laboratory_tm1',\n",
    "            'cost_op_primary_care_tm1', 'cost_op_specialists_tm1', 'cost_op_surgery_tm1', 'cost_other_tm1', 'cost_pharmacy_tm1',\n",
    "            'cost_physical_therapy_tm1', 'cost_radiology_tm1', 'gagne_sum_tm1']\n",
    "other_variables = ['person_id', 'gagne_sum_t', 'cost_t']"
   ]
  },
  {
   "cell_type": "code",
   "execution_count": 12,
   "id": "7f17af6e-465b-48c5-b9b8-04bad1b420da",
   "metadata": {},
   "outputs": [],
   "source": [
    "df = pd.read_csv(data_source)\n",
    "X = df[features+other_variables]\n",
    "y = df[TARGET_VARIABLE]"
   ]
  },
  {
   "cell_type": "code",
   "execution_count": 13,
   "id": "461820e6-6b8c-4d1f-812b-f36c1b5b6d0c",
   "metadata": {},
   "outputs": [],
   "source": [
    "## Multi-layer preceptron with weight perturbation\n",
    "class MLP(nn.Module):\n",
    "    def __init__(self, nn_arch):\n",
    "        super(MLP, self).__init__()\n",
    "        self.nfeature, self.nclass, self.nneuron, self.nlayer = nn_arch\n",
    "\n",
    "        self.read_in = nn.Linear(self.nfeature, self.nneuron)\n",
    "        self.ff = nn.Linear(self.nneuron, self.nneuron)\n",
    "        self.read_out = nn.Linear(self.nneuron, self.nclass)\n",
    "\n",
    "    def forward(self, x):\n",
    "        x = self.read_in(x)\n",
    "        for _ in range(self.nlayer):\n",
    "            x = F.relu(self.ff(x))\n",
    "\n",
    "        logits = self.read_out(x)\n",
    "        return logits\n",
    "\n",
    "\n",
    "def train_model(model, X, y, epoch, optimizer, criterion, device):\n",
    "    for _ in range(epoch):\n",
    "        model.train()\n",
    "        optimizer.zero_grad()\n",
    "        outputs = model(torch.Tensor(X).to(device))\n",
    "        loss = criterion(torch.squeeze(outputs), torch.Tensor(y).type(torch.LongTensor).to(device))\n",
    "        loss.backward()\n",
    "        optimizer.step()\n",
    "\n",
    "    return model\n",
    "\n",
    "def get_next_epoch(model, X, y, optimizer, criterion, device):\n",
    "    model.train()\n",
    "    optimizer.zero_grad()  \n",
    "    outputs = model(torch.Tensor(X).to(device))\n",
    "    loss = criterion(torch.squeeze(outputs), torch.Tensor(y).type(torch.LongTensor).to(device))\n",
    "    loss.backward()\n",
    "    optimizer.step()\n",
    "    return model\n",
    "\n",
    "def evaluate(model, X, y, criterion, device):\n",
    "    model.eval()\n",
    "    logits = model(torch.Tensor(X).to(device))\n",
    "    return criterion(torch.squeeze(logits), torch.Tensor(y).type(torch.LongTensor).to(device)).item()\n",
    "\n",
    "def predict(model, X, class_target=1):\n",
    "    model.eval()\n",
    "    logits = model(torch.Tensor(X).to(device))\n",
    "    pred = F.softmax(logits, dim=1)\n",
    "    return pred[:, class_target].detach().cpu().numpy()"
   ]
  },
  {
   "cell_type": "code",
   "execution_count": 14,
   "id": "bcf4b525-3eca-4e38-aebc-4b13a2708206",
   "metadata": {},
   "outputs": [
    {
     "name": "stdout",
     "output_type": "stream",
     "text": [
      "Random Seed: 0\n"
     ]
    },
    {
     "name": "stderr",
     "output_type": "stream",
     "text": [
      "100%|██████████| 10/10 [00:59<00:00,  5.91s/it]\n"
     ]
    },
    {
     "name": "stdout",
     "output_type": "stream",
     "text": [
      "Random Seed: 1\n"
     ]
    },
    {
     "name": "stderr",
     "output_type": "stream",
     "text": [
      "100%|██████████| 10/10 [00:56<00:00,  5.69s/it]\n"
     ]
    }
   ],
   "source": [
    "output = []\n",
    "\n",
    "for random_seed in range(num_random_seeds):\n",
    "    print(\"Random Seed:\", random_seed)\n",
    "    X_train, X_test, y_train, y_test = train_test_split(X, y, test_size=test_size, random_state=random_seed)\n",
    "    X_train, X_val, y_train, y_val = train_test_split(X_train, y_train, test_size=validation_size, random_state=random_seed)\n",
    "    \n",
    "    cost = X_test[\"cost_t\"].to_numpy()\n",
    "    gagne = X_test[\"gagne_sum_t\"].to_numpy()\n",
    "    person_id = X_test['person_id'].to_numpy()\n",
    "    \n",
    "    X_train = X_train.drop(columns=other_variables).to_numpy()\n",
    "    y_train = y_train.to_numpy()\n",
    "    X_val = X_val.drop(columns=other_variables).to_numpy()\n",
    "    y_val = y_val.to_numpy()\n",
    "    X_test = X_test.drop(columns=other_variables).to_numpy()\n",
    "    y_test = y_test.to_numpy()\n",
    "\n",
    "    nfeature = X_train.shape[1]\n",
    "    nclass = len(set(y_train))\n",
    "    nn_arch = [nfeature, nclass, NNEURON, NLAYER]\n",
    "\n",
    "    predictions = {}\n",
    "    training_loss = {}\n",
    "    validation_loss = {}\n",
    "    i = 0\n",
    "    for iteration in tqdm(range(iterations_per_seed)):\n",
    "        np.random.seed(iteration*random_seed)\n",
    "        random.seed(iteration*random_seed)\n",
    "        torch.manual_seed(iteration*random_seed)\n",
    "\n",
    "        model = MLP(nn_arch).to(device)\n",
    "        criterion = nn.CrossEntropyLoss()\n",
    "        optimizer = torch.optim.Adam(model.parameters(), betas=[BETA1, BETA2], lr=TRAINLR)\n",
    "        model = train_model(model, X_train, y_train, MIN_EPOCH-1, optimizer, criterion, device)\n",
    "\n",
    "        for epoch in range(MIN_EPOCH, MAX_EPOCH):\n",
    "            model = get_next_epoch(model, X_train, y_train, optimizer, criterion, device)\n",
    "            predictions[f'm_{i+1}'] = predict(model, X_test)\n",
    "            training_loss[f'm_{i+1}'] = evaluate(model, X_train, y_train, criterion, device)\n",
    "            validation_loss[f'm_{i+1}'] = evaluate(model, X_val, y_val, criterion, device)\n",
    "            i += 1\n",
    "\n",
    "    predictions_df = pd.concat([\n",
    "        pd.DataFrame(predictions),\n",
    "        pd.DataFrame(training_loss, index=[0]),\n",
    "        pd.DataFrame(validation_loss, index=[0])]).reset_index(drop=True)\n",
    "    \n",
    "    predictions_df[\"y\"] = np.concatenate([y_test, [np.nan, np.nan]])\n",
    "    predictions_df[\"person_id\"] = np.concatenate([person_id, [-2, -1]]) # -1 indicates validation loss, -2 indicates training loss\n",
    "    predictions_df['cost_t'] = np.concatenate([cost, [np.nan, np.nan]]) \n",
    "    predictions_df['gagne_sum_t'] = np.concatenate([gagne, [np.nan, np.nan]])\n",
    "    predictions_df[\"seed\"] = random_seed\n",
    "\n",
    "    output.append(predictions_df)\n",
    "    \n",
    "output = pd.concat(output)    \n",
    "for c in output.columns:\n",
    "    if c.startswith(\"m_\"):\n",
    "        output[c] = output[c].astype('float32')"
   ]
  },
  {
   "cell_type": "code",
   "execution_count": 86,
   "id": "2884690f-8be3-4fe8-9e27-a03baf05bee7",
   "metadata": {},
   "outputs": [],
   "source": [
    "output.to_csv(prediction_output, index=False)"
   ]
  }
 ],
 "metadata": {
  "kernelspec": {
   "display_name": "Python 3 (ipykernel)",
   "language": "python",
   "name": "python3"
  },
  "language_info": {
   "codemirror_mode": {
    "name": "ipython",
    "version": 3
   },
   "file_extension": ".py",
   "mimetype": "text/x-python",
   "name": "python",
   "nbconvert_exporter": "python",
   "pygments_lexer": "ipython3",
   "version": "3.12.8"
  }
 },
 "nbformat": 4,
 "nbformat_minor": 5
}
