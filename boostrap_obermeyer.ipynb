{
 "cells": [
  {
   "cell_type": "code",
   "execution_count": 1,
   "metadata": {},
   "outputs": [],
   "source": [
    "import pandas as pd\n",
    "import numpy as np\n",
    "# from sklearn.ensemble import RandomForestClassifier\n",
    "from sklearn.linear_model import LinearRegression\n",
    "from sklearn.model_selection import train_test_split\n",
    "from tqdm import tqdm"
   ]
  },
  {
   "cell_type": "code",
   "execution_count": 2,
   "metadata": {},
   "outputs": [],
   "source": [
    "num_random_seeds = 5\n",
    "num_bootstrap_models = 100"
   ]
  },
  {
   "cell_type": "code",
   "execution_count": 8,
   "metadata": {},
   "outputs": [],
   "source": [
    "data_source = \"data/obermeyer/obermeyer_data_cleaned.csv\"\n",
    "prediction_output = \"predictions/obermeyer/model_predictions_25.csv\"\n",
    "target_variable = \"cost_t\"\n",
    "features = ['dem_female', 'dem_age_band_18-24_tm1', 'dem_age_band_25-34_tm1', 'dem_age_band_35-44_tm1', 'dem_age_band_45-54_tm1',\n",
    "            'dem_age_band_55-64_tm1', 'dem_age_band_65-74_tm1', 'dem_age_band_75+_tm1', 'hypertension_elixhauser_tm1', 'cost_dialysis_tm1',\n",
    "            'cost_emergency_tm1', 'cost_home_health_tm1', 'cost_ip_medical_tm1', 'cost_ip_surgical_tm1', 'cost_laboratory_tm1',\n",
    "            'cost_op_primary_care_tm1', 'cost_op_specialists_tm1', 'cost_op_surgery_tm1', 'cost_other_tm1', 'cost_pharmacy_tm1',\n",
    "            'cost_physical_therapy_tm1', 'cost_radiology_tm1', 'gagne_sum_tm1', 'person_id', 'threshold_25', 'threshold_50', 'threshold_75']"
   ]
  },
  {
   "cell_type": "code",
   "execution_count": 9,
   "metadata": {},
   "outputs": [],
   "source": [
    "df = pd.read_csv(data_source)\n",
    "X = df[features]\n",
    "y = df[target_variable]"
   ]
  },
  {
   "cell_type": "code",
   "execution_count": 10,
   "metadata": {},
   "outputs": [
    {
     "data": {
      "text/plain": [
       "0"
      ]
     },
     "execution_count": 10,
     "metadata": {},
     "output_type": "execute_result"
    }
   ],
   "source": [
    "df['person_id'].isna().sum()"
   ]
  },
  {
   "cell_type": "code",
   "execution_count": 11,
   "metadata": {},
   "outputs": [],
   "source": [
    "def get_bootstrap_model(X_train, y_train, X_test, random_seed, bootstrap_size=0.5):\n",
    "    np.random.seed(random_seed)\n",
    "    idx = np.random.permutation(len(X_train))[:int(len(X_train)*bootstrap_size)]\n",
    "    model = LinearRegression()\n",
    "    # model = RandomForest(n_estimators=25, random_state=random_seed)\n",
    "    model.fit(X_train[idx], y_train[idx])\n",
    "    scores = model.predict(X_test)\n",
    "    # scores = model.predict_proba(X_test)[:, 1]\n",
    "    return scores"
   ]
  },
  {
   "cell_type": "code",
   "execution_count": 12,
   "metadata": {},
   "outputs": [
    {
     "name": "stdout",
     "output_type": "stream",
     "text": [
      "random seed 0\n"
     ]
    },
    {
     "name": "stderr",
     "output_type": "stream",
     "text": [
      "100%|██████████| 100/100 [00:19<00:00,  5.13it/s]\n"
     ]
    },
    {
     "name": "stdout",
     "output_type": "stream",
     "text": [
      "predictions length 16099\n",
      "index length 16099\n",
      "random seed 1\n"
     ]
    },
    {
     "name": "stderr",
     "output_type": "stream",
     "text": [
      "100%|██████████| 100/100 [00:19<00:00,  5.22it/s]\n"
     ]
    },
    {
     "name": "stdout",
     "output_type": "stream",
     "text": [
      "predictions length 16099\n",
      "index length 16099\n",
      "random seed 2\n"
     ]
    },
    {
     "name": "stderr",
     "output_type": "stream",
     "text": [
      "100%|██████████| 100/100 [00:19<00:00,  5.13it/s]\n"
     ]
    },
    {
     "name": "stdout",
     "output_type": "stream",
     "text": [
      "predictions length 16099\n",
      "index length 16099\n",
      "random seed 3\n"
     ]
    },
    {
     "name": "stderr",
     "output_type": "stream",
     "text": [
      "100%|██████████| 100/100 [00:15<00:00,  6.54it/s]\n"
     ]
    },
    {
     "name": "stdout",
     "output_type": "stream",
     "text": [
      "predictions length 16099\n",
      "index length 16099\n",
      "random seed 4\n"
     ]
    },
    {
     "name": "stderr",
     "output_type": "stream",
     "text": [
      "100%|██████████| 100/100 [00:20<00:00,  4.78it/s]\n"
     ]
    },
    {
     "name": "stdout",
     "output_type": "stream",
     "text": [
      "predictions length 16099\n",
      "index length 16099\n"
     ]
    }
   ],
   "source": [
    "output = []\n",
    "for random_seed in range(num_random_seeds):\n",
    "    print(\"random seed\", random_seed)\n",
    "    X_train, X_test, y_train, y_test = train_test_split(X, y, test_size=0.33, random_state=random_seed)\n",
    "    threshold_25 = X_test['threshold_25'].to_numpy()\n",
    "    threshold_50 = X_test['threshold_50'].to_numpy()\n",
    "    threshold_75 = X_test['threshold_75'].to_numpy()\n",
    "    test_idx = X_test['person_id'].to_numpy()\n",
    "    # print(test_idx.isna().sum())\n",
    "    X_train = X_train.drop(columns=['person_id']).to_numpy()\n",
    "    y_train = y_train.to_numpy()\n",
    "    X_test = X_test.drop(columns=['person_id']).to_numpy()\n",
    "    y_test = y_test.to_numpy()\n",
    "\n",
    "    predictions = []\n",
    "    columns = []\n",
    "    accuracy = []\n",
    "    for i in tqdm(range(num_bootstrap_models)):\n",
    "        columns.append(f'm_{i+1}')\n",
    "        scores = get_bootstrap_model(X_train, y_train, X_test, random_seed=i, bootstrap_size=0.5)\n",
    "        predictions.append(scores)\n",
    "        accuracy.append(float((np.round(scores)==y_test).sum() / len(y_test)))\n",
    "    \n",
    "    predictions_df = pd.DataFrame(predictions).transpose()\n",
    "    predictions_df.columns=columns\n",
    "    print(\"predictions length\", len(predictions_df))\n",
    "    predictions_df[\"y\"] = y_test\n",
    "    print(\"index length\", len(test_idx))\n",
    "    predictions_df[\"idx\"] = test_idx \n",
    "    predictions_df[\"seed\"] = random_seed\n",
    "    predictions_df['threshold_25'] = threshold_25\n",
    "    predictions_df['threshold_50'] = threshold_50\n",
    "    predictions_df['threshold_75'] = threshold_75\n",
    "    output.append(predictions_df)\n",
    "output = pd.concat(output)"
   ]
  },
  {
   "cell_type": "code",
   "execution_count": 13,
   "metadata": {},
   "outputs": [],
   "source": [
    "output.to_csv(prediction_output, index=False)"
   ]
  },
  {
   "cell_type": "code",
   "execution_count": 23,
   "metadata": {},
   "outputs": [
    {
     "data": {
      "text/html": [
       "<div>\n",
       "<style scoped>\n",
       "    .dataframe tbody tr th:only-of-type {\n",
       "        vertical-align: middle;\n",
       "    }\n",
       "\n",
       "    .dataframe tbody tr th {\n",
       "        vertical-align: top;\n",
       "    }\n",
       "\n",
       "    .dataframe thead th {\n",
       "        text-align: right;\n",
       "    }\n",
       "</style>\n",
       "<table border=\"1\" class=\"dataframe\">\n",
       "  <thead>\n",
       "    <tr style=\"text-align: right;\">\n",
       "      <th></th>\n",
       "      <th>m_1</th>\n",
       "      <th>m_2</th>\n",
       "      <th>m_3</th>\n",
       "      <th>m_4</th>\n",
       "      <th>m_5</th>\n",
       "      <th>m_6</th>\n",
       "      <th>m_7</th>\n",
       "      <th>m_8</th>\n",
       "      <th>m_9</th>\n",
       "      <th>m_10</th>\n",
       "      <th>...</th>\n",
       "      <th>m_94</th>\n",
       "      <th>m_95</th>\n",
       "      <th>m_96</th>\n",
       "      <th>m_97</th>\n",
       "      <th>m_98</th>\n",
       "      <th>m_99</th>\n",
       "      <th>m_100</th>\n",
       "      <th>y</th>\n",
       "      <th>idx</th>\n",
       "      <th>seed</th>\n",
       "    </tr>\n",
       "  </thead>\n",
       "  <tbody>\n",
       "    <tr>\n",
       "      <th>0</th>\n",
       "      <td>0.006753</td>\n",
       "      <td>0.008166</td>\n",
       "      <td>0.007790</td>\n",
       "      <td>0.008346</td>\n",
       "      <td>0.007259</td>\n",
       "      <td>0.007138</td>\n",
       "      <td>0.008137</td>\n",
       "      <td>0.008380</td>\n",
       "      <td>0.006640</td>\n",
       "      <td>0.007848</td>\n",
       "      <td>...</td>\n",
       "      <td>0.008560</td>\n",
       "      <td>0.007984</td>\n",
       "      <td>0.007430</td>\n",
       "      <td>0.008216</td>\n",
       "      <td>0.007169</td>\n",
       "      <td>0.007849</td>\n",
       "      <td>0.007113</td>\n",
       "      <td>0.009628</td>\n",
       "      <td>2545</td>\n",
       "      <td>0</td>\n",
       "    </tr>\n",
       "    <tr>\n",
       "      <th>1</th>\n",
       "      <td>0.013049</td>\n",
       "      <td>0.013692</td>\n",
       "      <td>0.013846</td>\n",
       "      <td>0.014468</td>\n",
       "      <td>0.014478</td>\n",
       "      <td>0.014450</td>\n",
       "      <td>0.014055</td>\n",
       "      <td>0.013888</td>\n",
       "      <td>0.014334</td>\n",
       "      <td>0.014554</td>\n",
       "      <td>...</td>\n",
       "      <td>0.014325</td>\n",
       "      <td>0.014512</td>\n",
       "      <td>0.013678</td>\n",
       "      <td>0.013755</td>\n",
       "      <td>0.013935</td>\n",
       "      <td>0.014385</td>\n",
       "      <td>0.014230</td>\n",
       "      <td>0.004905</td>\n",
       "      <td>8198</td>\n",
       "      <td>0</td>\n",
       "    </tr>\n",
       "    <tr>\n",
       "      <th>2</th>\n",
       "      <td>0.021138</td>\n",
       "      <td>0.018986</td>\n",
       "      <td>0.018488</td>\n",
       "      <td>0.018745</td>\n",
       "      <td>0.017153</td>\n",
       "      <td>0.019729</td>\n",
       "      <td>0.018739</td>\n",
       "      <td>0.017566</td>\n",
       "      <td>0.018916</td>\n",
       "      <td>0.019219</td>\n",
       "      <td>...</td>\n",
       "      <td>0.019216</td>\n",
       "      <td>0.020513</td>\n",
       "      <td>0.019854</td>\n",
       "      <td>0.018457</td>\n",
       "      <td>0.018957</td>\n",
       "      <td>0.019271</td>\n",
       "      <td>0.019365</td>\n",
       "      <td>0.009446</td>\n",
       "      <td>46461</td>\n",
       "      <td>0</td>\n",
       "    </tr>\n",
       "    <tr>\n",
       "      <th>3</th>\n",
       "      <td>0.002706</td>\n",
       "      <td>0.002252</td>\n",
       "      <td>0.002763</td>\n",
       "      <td>0.002001</td>\n",
       "      <td>0.003470</td>\n",
       "      <td>0.001979</td>\n",
       "      <td>0.002444</td>\n",
       "      <td>0.002950</td>\n",
       "      <td>0.002548</td>\n",
       "      <td>0.002147</td>\n",
       "      <td>...</td>\n",
       "      <td>0.003356</td>\n",
       "      <td>0.003260</td>\n",
       "      <td>0.002520</td>\n",
       "      <td>0.002663</td>\n",
       "      <td>0.003136</td>\n",
       "      <td>0.002370</td>\n",
       "      <td>0.002492</td>\n",
       "      <td>0.002361</td>\n",
       "      <td>30620</td>\n",
       "      <td>0</td>\n",
       "    </tr>\n",
       "    <tr>\n",
       "      <th>4</th>\n",
       "      <td>0.009980</td>\n",
       "      <td>0.012810</td>\n",
       "      <td>0.014430</td>\n",
       "      <td>0.010169</td>\n",
       "      <td>0.011937</td>\n",
       "      <td>0.010077</td>\n",
       "      <td>0.014131</td>\n",
       "      <td>0.012601</td>\n",
       "      <td>0.011287</td>\n",
       "      <td>0.011969</td>\n",
       "      <td>...</td>\n",
       "      <td>0.011391</td>\n",
       "      <td>0.010872</td>\n",
       "      <td>0.013481</td>\n",
       "      <td>0.012869</td>\n",
       "      <td>0.011242</td>\n",
       "      <td>0.012343</td>\n",
       "      <td>0.011475</td>\n",
       "      <td>0.003996</td>\n",
       "      <td>47418</td>\n",
       "      <td>0</td>\n",
       "    </tr>\n",
       "  </tbody>\n",
       "</table>\n",
       "<p>5 rows × 103 columns</p>\n",
       "</div>"
      ],
      "text/plain": [
       "        m_1       m_2       m_3       m_4       m_5       m_6       m_7  \\\n",
       "0  0.006753  0.008166  0.007790  0.008346  0.007259  0.007138  0.008137   \n",
       "1  0.013049  0.013692  0.013846  0.014468  0.014478  0.014450  0.014055   \n",
       "2  0.021138  0.018986  0.018488  0.018745  0.017153  0.019729  0.018739   \n",
       "3  0.002706  0.002252  0.002763  0.002001  0.003470  0.001979  0.002444   \n",
       "4  0.009980  0.012810  0.014430  0.010169  0.011937  0.010077  0.014131   \n",
       "\n",
       "        m_8       m_9      m_10  ...      m_94      m_95      m_96      m_97  \\\n",
       "0  0.008380  0.006640  0.007848  ...  0.008560  0.007984  0.007430  0.008216   \n",
       "1  0.013888  0.014334  0.014554  ...  0.014325  0.014512  0.013678  0.013755   \n",
       "2  0.017566  0.018916  0.019219  ...  0.019216  0.020513  0.019854  0.018457   \n",
       "3  0.002950  0.002548  0.002147  ...  0.003356  0.003260  0.002520  0.002663   \n",
       "4  0.012601  0.011287  0.011969  ...  0.011391  0.010872  0.013481  0.012869   \n",
       "\n",
       "       m_98      m_99     m_100         y    idx  seed  \n",
       "0  0.007169  0.007849  0.007113  0.009628   2545     0  \n",
       "1  0.013935  0.014385  0.014230  0.004905   8198     0  \n",
       "2  0.018957  0.019271  0.019365  0.009446  46461     0  \n",
       "3  0.003136  0.002370  0.002492  0.002361  30620     0  \n",
       "4  0.011242  0.012343  0.011475  0.003996  47418     0  \n",
       "\n",
       "[5 rows x 103 columns]"
      ]
     },
     "execution_count": 23,
     "metadata": {},
     "output_type": "execute_result"
    }
   ],
   "source": [
    "output.head()"
   ]
  }
 ],
 "metadata": {
  "kernelspec": {
   "display_name": "Python 3",
   "language": "python",
   "name": "python3"
  },
  "language_info": {
   "codemirror_mode": {
    "name": "ipython",
    "version": 3
   },
   "file_extension": ".py",
   "mimetype": "text/x-python",
   "name": "python",
   "nbconvert_exporter": "python",
   "pygments_lexer": "ipython3",
   "version": "3.12.1"
  }
 },
 "nbformat": 4,
 "nbformat_minor": 4
}
