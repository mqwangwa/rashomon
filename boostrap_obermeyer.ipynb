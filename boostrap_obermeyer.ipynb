{
 "cells": [
  {
   "cell_type": "code",
   "execution_count": 1,
   "metadata": {},
   "outputs": [],
   "source": [
    "import pandas as pd\n",
    "import numpy as np\n",
    "# from sklearn.ensemble import RandomForestClassifier\n",
    "from sklearn.linear_model import LinearRegression\n",
    "from sklearn.model_selection import train_test_split\n",
    "from tqdm import tqdm"
   ]
  },
  {
   "cell_type": "code",
   "execution_count": 2,
   "metadata": {},
   "outputs": [],
   "source": [
    "num_random_seeds = 5\n",
    "num_bootstrap_models = 100"
   ]
  },
  {
   "cell_type": "code",
   "execution_count": 3,
   "metadata": {},
   "outputs": [],
   "source": [
    "data_source = \"data/obermeyer/obermeyer_data_cleaned.csv\"\n",
    "prediction_output = \"predictions/obermeyer/bootstrap_regression.csv\"\n",
    "target_variable = \"cost_t\"\n",
    "features = ['dem_female', 'dem_age_band_18-24_tm1', 'dem_age_band_25-34_tm1', 'dem_age_band_35-44_tm1', 'dem_age_band_45-54_tm1',\n",
    "            'dem_age_band_55-64_tm1', 'dem_age_band_65-74_tm1', 'dem_age_band_75+_tm1', 'hypertension_elixhauser_tm1', 'cost_dialysis_tm1',\n",
    "            'cost_emergency_tm1', 'cost_home_health_tm1', 'cost_ip_medical_tm1', 'cost_ip_surgical_tm1', 'cost_laboratory_tm1',\n",
    "            'cost_op_primary_care_tm1', 'cost_op_specialists_tm1', 'cost_op_surgery_tm1', 'cost_other_tm1', 'cost_pharmacy_tm1',\n",
    "            'cost_physical_therapy_tm1', 'cost_radiology_tm1', 'gagne_sum_tm1', 'person_id', 'threshold_25', 'threshold_50', 'threshold_75']"
   ]
  },
  {
   "cell_type": "code",
   "execution_count": 4,
   "metadata": {},
   "outputs": [],
   "source": [
    "df = pd.read_csv(data_source)\n",
    "X = df[features]\n",
    "y = df[target_variable]"
   ]
  },
  {
   "cell_type": "code",
   "execution_count": 5,
   "metadata": {},
   "outputs": [],
   "source": [
    "def get_bootstrap_model(X_train, y_train, X_test, random_seed, bootstrap_size=0.5):\n",
    "    np.random.seed(random_seed)\n",
    "    idx = np.random.permutation(len(X_train))[:int(len(X_train)*bootstrap_size)]\n",
    "    model = LinearRegression()\n",
    "    # model = RandomForest(n_estimators=25, random_state=random_seed)\n",
    "    model.fit(X_train[idx], y_train[idx])\n",
    "    scores = model.predict(X_test)\n",
    "    # scores = model.predict_proba(X_test)[:, 1]\n",
    "    return scores"
   ]
  },
  {
   "cell_type": "code",
   "execution_count": 6,
   "metadata": {},
   "outputs": [
    {
     "name": "stdout",
     "output_type": "stream",
     "text": [
      "random seed 0\n"
     ]
    },
    {
     "name": "stderr",
     "output_type": "stream",
     "text": [
      "100%|████████████████████████████████████████| 100/100 [00:00<00:00, 124.94it/s]\n"
     ]
    },
    {
     "name": "stdout",
     "output_type": "stream",
     "text": [
      "random seed 1\n"
     ]
    },
    {
     "name": "stderr",
     "output_type": "stream",
     "text": [
      "100%|████████████████████████████████████████| 100/100 [00:00<00:00, 129.93it/s]\n"
     ]
    },
    {
     "name": "stdout",
     "output_type": "stream",
     "text": [
      "random seed 2\n"
     ]
    },
    {
     "name": "stderr",
     "output_type": "stream",
     "text": [
      "100%|████████████████████████████████████████| 100/100 [00:00<00:00, 130.73it/s]\n"
     ]
    },
    {
     "name": "stdout",
     "output_type": "stream",
     "text": [
      "random seed 3\n"
     ]
    },
    {
     "name": "stderr",
     "output_type": "stream",
     "text": [
      "100%|████████████████████████████████████████| 100/100 [00:00<00:00, 128.72it/s]\n"
     ]
    },
    {
     "name": "stdout",
     "output_type": "stream",
     "text": [
      "random seed 4\n"
     ]
    },
    {
     "name": "stderr",
     "output_type": "stream",
     "text": [
      "100%|████████████████████████████████████████| 100/100 [00:00<00:00, 129.93it/s]\n"
     ]
    }
   ],
   "source": [
    "output = []\n",
    "for random_seed in range(num_random_seeds):\n",
    "    print(\"random seed\", random_seed)\n",
    "    X_train, X_test, y_train, y_test = train_test_split(X, y, test_size=0.33, random_state=random_seed)\n",
    "    threshold_25 = X_test['threshold_25'].to_numpy()\n",
    "    threshold_50 = X_test['threshold_50'].to_numpy()\n",
    "    threshold_75 = X_test['threshold_75'].to_numpy()\n",
    "    test_idx = X_test['person_id'].to_numpy()\n",
    "    # print(test_idx.isna().sum())\n",
    "    X_train = X_train.drop(columns=['person_id']).to_numpy()\n",
    "    y_train = y_train.to_numpy()\n",
    "    X_test = X_test.drop(columns=['person_id']).to_numpy()\n",
    "    y_test = y_test.to_numpy()\n",
    "\n",
    "    predictions = []\n",
    "    columns = []\n",
    "    accuracy = []\n",
    "    for i in tqdm(range(num_bootstrap_models)):\n",
    "        columns.append(f'm_{i+1}')\n",
    "        scores = get_bootstrap_model(X_train, y_train, X_test, random_seed=i, bootstrap_size=0.5)\n",
    "        predictions.append(scores)\n",
    "        accuracy.append(float((np.round(scores)==y_test).sum() / len(y_test)))\n",
    "    \n",
    "    predictions_df = pd.DataFrame(predictions).transpose()\n",
    "    predictions_df.columns=columns\n",
    "    predictions_df[\"y\"] = y_test\n",
    "    predictions_df[\"idx\"] = test_idx \n",
    "    predictions_df[\"seed\"] = random_seed\n",
    "    predictions_df['threshold_25'] = threshold_25\n",
    "    predictions_df['threshold_50'] = threshold_50\n",
    "    predictions_df['threshold_75'] = threshold_75\n",
    "    output.append(predictions_df)\n",
    "output = pd.concat(output)"
   ]
  },
  {
   "cell_type": "code",
   "execution_count": 7,
   "metadata": {},
   "outputs": [
    {
     "data": {
      "text/html": [
       "<div>\n",
       "<style scoped>\n",
       "    .dataframe tbody tr th:only-of-type {\n",
       "        vertical-align: middle;\n",
       "    }\n",
       "\n",
       "    .dataframe tbody tr th {\n",
       "        vertical-align: top;\n",
       "    }\n",
       "\n",
       "    .dataframe thead th {\n",
       "        text-align: right;\n",
       "    }\n",
       "</style>\n",
       "<table border=\"1\" class=\"dataframe\">\n",
       "  <thead>\n",
       "    <tr style=\"text-align: right;\">\n",
       "      <th></th>\n",
       "      <th>m_1</th>\n",
       "      <th>m_2</th>\n",
       "      <th>m_3</th>\n",
       "      <th>m_4</th>\n",
       "      <th>m_5</th>\n",
       "      <th>m_6</th>\n",
       "      <th>m_7</th>\n",
       "      <th>m_8</th>\n",
       "      <th>m_9</th>\n",
       "      <th>m_10</th>\n",
       "      <th>...</th>\n",
       "      <th>m_97</th>\n",
       "      <th>m_98</th>\n",
       "      <th>m_99</th>\n",
       "      <th>m_100</th>\n",
       "      <th>y</th>\n",
       "      <th>idx</th>\n",
       "      <th>seed</th>\n",
       "      <th>threshold_25</th>\n",
       "      <th>threshold_50</th>\n",
       "      <th>threshold_75</th>\n",
       "    </tr>\n",
       "  </thead>\n",
       "  <tbody>\n",
       "    <tr>\n",
       "      <th>0</th>\n",
       "      <td>0.002421</td>\n",
       "      <td>0.003610</td>\n",
       "      <td>0.003165</td>\n",
       "      <td>0.003973</td>\n",
       "      <td>0.002966</td>\n",
       "      <td>0.003023</td>\n",
       "      <td>0.004011</td>\n",
       "      <td>0.003947</td>\n",
       "      <td>0.002069</td>\n",
       "      <td>0.003313</td>\n",
       "      <td>...</td>\n",
       "      <td>0.003707</td>\n",
       "      <td>0.002858</td>\n",
       "      <td>0.003587</td>\n",
       "      <td>0.002265</td>\n",
       "      <td>0.009628</td>\n",
       "      <td>2545</td>\n",
       "      <td>0</td>\n",
       "      <td>1</td>\n",
       "      <td>1</td>\n",
       "      <td>0</td>\n",
       "    </tr>\n",
       "    <tr>\n",
       "      <th>1</th>\n",
       "      <td>0.002649</td>\n",
       "      <td>0.003736</td>\n",
       "      <td>0.003636</td>\n",
       "      <td>0.004470</td>\n",
       "      <td>0.004497</td>\n",
       "      <td>0.004651</td>\n",
       "      <td>0.003741</td>\n",
       "      <td>0.003640</td>\n",
       "      <td>0.003776</td>\n",
       "      <td>0.003868</td>\n",
       "      <td>...</td>\n",
       "      <td>0.003432</td>\n",
       "      <td>0.004454</td>\n",
       "      <td>0.004208</td>\n",
       "      <td>0.003848</td>\n",
       "      <td>0.004905</td>\n",
       "      <td>8198</td>\n",
       "      <td>0</td>\n",
       "      <td>1</td>\n",
       "      <td>0</td>\n",
       "      <td>0</td>\n",
       "    </tr>\n",
       "    <tr>\n",
       "      <th>2</th>\n",
       "      <td>0.011027</td>\n",
       "      <td>0.009651</td>\n",
       "      <td>0.008816</td>\n",
       "      <td>0.009000</td>\n",
       "      <td>0.007810</td>\n",
       "      <td>0.010168</td>\n",
       "      <td>0.008848</td>\n",
       "      <td>0.007403</td>\n",
       "      <td>0.009044</td>\n",
       "      <td>0.009038</td>\n",
       "      <td>...</td>\n",
       "      <td>0.008080</td>\n",
       "      <td>0.009222</td>\n",
       "      <td>0.009075</td>\n",
       "      <td>0.009436</td>\n",
       "      <td>0.009446</td>\n",
       "      <td>46461</td>\n",
       "      <td>0</td>\n",
       "      <td>1</td>\n",
       "      <td>1</td>\n",
       "      <td>0</td>\n",
       "    </tr>\n",
       "    <tr>\n",
       "      <th>3</th>\n",
       "      <td>0.000716</td>\n",
       "      <td>0.000319</td>\n",
       "      <td>0.000656</td>\n",
       "      <td>0.000320</td>\n",
       "      <td>0.001263</td>\n",
       "      <td>0.000155</td>\n",
       "      <td>0.000235</td>\n",
       "      <td>0.000826</td>\n",
       "      <td>0.000541</td>\n",
       "      <td>0.000026</td>\n",
       "      <td>...</td>\n",
       "      <td>0.000658</td>\n",
       "      <td>0.000799</td>\n",
       "      <td>0.000269</td>\n",
       "      <td>0.000765</td>\n",
       "      <td>0.002361</td>\n",
       "      <td>30620</td>\n",
       "      <td>0</td>\n",
       "      <td>1</td>\n",
       "      <td>0</td>\n",
       "      <td>0</td>\n",
       "    </tr>\n",
       "    <tr>\n",
       "      <th>4</th>\n",
       "      <td>0.000632</td>\n",
       "      <td>0.004498</td>\n",
       "      <td>0.005682</td>\n",
       "      <td>0.001974</td>\n",
       "      <td>0.003122</td>\n",
       "      <td>0.002559</td>\n",
       "      <td>0.005822</td>\n",
       "      <td>0.003704</td>\n",
       "      <td>0.002814</td>\n",
       "      <td>0.003566</td>\n",
       "      <td>...</td>\n",
       "      <td>0.004030</td>\n",
       "      <td>0.002461</td>\n",
       "      <td>0.003393</td>\n",
       "      <td>0.003114</td>\n",
       "      <td>0.003996</td>\n",
       "      <td>47418</td>\n",
       "      <td>0</td>\n",
       "      <td>1</td>\n",
       "      <td>0</td>\n",
       "      <td>0</td>\n",
       "    </tr>\n",
       "  </tbody>\n",
       "</table>\n",
       "<p>5 rows × 106 columns</p>\n",
       "</div>"
      ],
      "text/plain": [
       "        m_1       m_2       m_3       m_4       m_5       m_6       m_7  \\\n",
       "0  0.002421  0.003610  0.003165  0.003973  0.002966  0.003023  0.004011   \n",
       "1  0.002649  0.003736  0.003636  0.004470  0.004497  0.004651  0.003741   \n",
       "2  0.011027  0.009651  0.008816  0.009000  0.007810  0.010168  0.008848   \n",
       "3  0.000716  0.000319  0.000656  0.000320  0.001263  0.000155  0.000235   \n",
       "4  0.000632  0.004498  0.005682  0.001974  0.003122  0.002559  0.005822   \n",
       "\n",
       "        m_8       m_9      m_10  ...      m_97      m_98      m_99     m_100  \\\n",
       "0  0.003947  0.002069  0.003313  ...  0.003707  0.002858  0.003587  0.002265   \n",
       "1  0.003640  0.003776  0.003868  ...  0.003432  0.004454  0.004208  0.003848   \n",
       "2  0.007403  0.009044  0.009038  ...  0.008080  0.009222  0.009075  0.009436   \n",
       "3  0.000826  0.000541  0.000026  ...  0.000658  0.000799  0.000269  0.000765   \n",
       "4  0.003704  0.002814  0.003566  ...  0.004030  0.002461  0.003393  0.003114   \n",
       "\n",
       "          y    idx  seed  threshold_25  threshold_50  threshold_75  \n",
       "0  0.009628   2545     0             1             1             0  \n",
       "1  0.004905   8198     0             1             0             0  \n",
       "2  0.009446  46461     0             1             1             0  \n",
       "3  0.002361  30620     0             1             0             0  \n",
       "4  0.003996  47418     0             1             0             0  \n",
       "\n",
       "[5 rows x 106 columns]"
      ]
     },
     "execution_count": 7,
     "metadata": {},
     "output_type": "execute_result"
    }
   ],
   "source": [
    "output.head()"
   ]
  },
  {
   "cell_type": "code",
   "execution_count": 8,
   "metadata": {},
   "outputs": [],
   "source": [
    "output.to_csv(prediction_output, index=False)"
   ]
  },
  {
   "cell_type": "code",
   "execution_count": null,
   "metadata": {},
   "outputs": [],
   "source": []
  }
 ],
 "metadata": {
  "kernelspec": {
   "display_name": "Python 3 (ipykernel)",
   "language": "python",
   "name": "python3"
  },
  "language_info": {
   "codemirror_mode": {
    "name": "ipython",
    "version": 3
   },
   "file_extension": ".py",
   "mimetype": "text/x-python",
   "name": "python",
   "nbconvert_exporter": "python",
   "pygments_lexer": "ipython3",
   "version": "3.13.0"
  }
 },
 "nbformat": 4,
 "nbformat_minor": 4
}
