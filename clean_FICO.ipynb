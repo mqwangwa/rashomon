{
 "cells": [
  {
   "cell_type": "code",
   "execution_count": 1,
   "metadata": {},
   "outputs": [],
   "source": [
    "import pandas as pd"
   ]
  },
  {
   "cell_type": "code",
   "execution_count": 2,
   "metadata": {},
   "outputs": [],
   "source": [
    "output_file = \"heloc_dataset_cleaned.csv\"\n",
    "df = pd.read_csv(\"heloc_dataset_v1.csv\")\n",
    "columnNames = [\"RiskPerformance\", \"ExternalRiskEstimate\", \"MSinceOldestTradeOpen\", \"MSinceMostRecentTradeOpen\",\n",
    "               \"AverageMInFile\", \"NumSatisfactoryTrades\", \"NumTrades60Ever2DerogPubRec\", \"NumTrades90Ever2DerogPubRec\",\n",
    "               \"PercentTradesNeverDelq\", \"MSinceMostRecentDelq\", \"MaxDelq2PublicRecLast12M\", \"MaxDelqEver\", \"NumTotalTrades\",\n",
    "               \"NumTradesOpeninLast12M\", \"PercentInstallTrades\", \"MSinceMostRecentInqexcl7days\", \"NumInqLast6M\",\n",
    "               \"NumInqLast6Mexcl7days\", \"NetFractionRevolvingBurden\", \"NetFractionInstallBurden\", \"NumRevolvingTradesWBalance\",\n",
    "               \"NumInstallTradesWBalance\", \"NumBank2NatlTradesWHighUtilization\", \"PercentTradesWBalance\"]\n",
    "df.columns = columnNames"
   ]
  },
  {
   "cell_type": "code",
   "execution_count": 3,
   "metadata": {},
   "outputs": [],
   "source": [
    "def modify_value(value, non_negative_mean, column):\n",
    "    if value < 0 and value not in {-9, -8, -7}:\n",
    "        raise ValueError(f\"Invalid negative value: {value} in {column}\")\n",
    "    elif value in (-9, -8, -7):\n",
    "        return non_negative_mean\n",
    "    else:\n",
    "        return value"
   ]
  },
  {
   "cell_type": "code",
   "execution_count": 4,
   "metadata": {},
   "outputs": [],
   "source": [
    "df.loc[:, 'RiskPerformance'] = df['RiskPerformance'].apply(lambda x: 1 if x==\"Good\" else 0)\n",
    "for column_name in columnNames[1:]:\n",
    "    non_negative_mean = df.loc[df[column_name] >= 0, column_name].mean()\n",
    "    df[column_name] = df[column_name].apply(modify_value, args=(non_negative_mean,column_name))\n",
    "    df[column_name] = (df[column_name]-df[column_name].min()) / (df[column_name].max() - df[column_name].min())"
   ]
  },
  {
   "cell_type": "code",
   "execution_count": 5,
   "metadata": {},
   "outputs": [],
   "source": [
    "df.to_csv(output_file, index=True)"
   ]
  }
 ],
 "metadata": {
  "kernelspec": {
   "display_name": "Python 3",
   "language": "python",
   "name": "python3"
  },
  "language_info": {
   "codemirror_mode": {
    "name": "ipython",
    "version": 3
   },
   "file_extension": ".py",
   "mimetype": "text/x-python",
   "name": "python",
   "nbconvert_exporter": "python",
   "pygments_lexer": "ipython3",
   "version": "3.12.1"
  }
 },
 "nbformat": 4,
 "nbformat_minor": 2
}
