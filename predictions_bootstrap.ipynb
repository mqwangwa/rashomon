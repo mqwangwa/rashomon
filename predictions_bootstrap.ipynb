{
 "cells": [
  {
   "cell_type": "code",
   "execution_count": 1,
   "metadata": {},
   "outputs": [],
   "source": [
    "import pandas as pd\n",
    "import numpy as np\n",
    "from sklearn.ensemble import RandomForestRegressor, RandomForestClassifier\n",
    "from sklearn.linear_model import LinearRegression, LogisticRegression\n",
    "from sklearn.neural_network import MLPRegressor, MLPClassifier\n",
    "from sklearn.model_selection import train_test_split\n",
    "from tqdm import tqdm\n",
    "from sklearn.metrics import log_loss"
   ]
  },
  {
   "cell_type": "code",
   "execution_count": null,
   "metadata": {},
   "outputs": [],
   "source": [
    "# PREDICTION VARIABLES\n",
    "num_random_seeds = 1\n",
    "num_bootstrap_models = 10\n",
    "test_size = 0.20\n",
    "validation_size = 0.25\n",
    "\n",
    "MODEL_CLASS = \"nn\" #lr,nn,rf\n",
    "BOOTSTRAP_SIZE = 0.50\n",
    "\n",
    "TARGET_VARIABLE = \"qualified_gagne_3\"\n",
    "prediction_output = \"predictions/obermeyer/bootstrap_\"+MODEL_CLASS+\"_\"+TARGET_VARIABLE+\".csv\""
   ]
  },
  {
   "cell_type": "code",
   "execution_count": null,
   "metadata": {},
   "outputs": [],
   "source": [
    "# SETUP VARIABLES\n",
    "data_source = \"data/obermeyer/obermeyer_data_cleaned.csv\"\n",
    "features = ['dem_female', 'dem_age_band_18-24_tm1', 'dem_age_band_25-34_tm1', 'dem_age_band_35-44_tm1', 'dem_age_band_45-54_tm1',\n",
    "            'dem_age_band_55-64_tm1', 'dem_age_band_65-74_tm1', 'dem_age_band_75+_tm1', 'hypertension_elixhauser_tm1', 'cost_dialysis_tm1',\n",
    "            'cost_emergency_tm1', 'cost_home_health_tm1', 'cost_ip_medical_tm1', 'cost_ip_surgical_tm1', 'cost_laboratory_tm1',\n",
    "            'cost_op_primary_care_tm1', 'cost_op_specialists_tm1', 'cost_op_surgery_tm1', 'cost_other_tm1', 'cost_pharmacy_tm1',\n",
    "            'cost_physical_therapy_tm1', 'cost_radiology_tm1', 'gagne_sum_tm1']\n",
    "other_variables = ['person_id', 'gagne_sum_t', 'cost_t']"
   ]
  },
  {
   "cell_type": "code",
   "execution_count": 4,
   "metadata": {},
   "outputs": [],
   "source": [
    "df = pd.read_csv(data_source)\n",
    "X = df[features+other_variables]\n",
    "y = df[TARGET_VARIABLE]"
   ]
  },
  {
   "cell_type": "code",
   "execution_count": 5,
   "metadata": {},
   "outputs": [],
   "source": [
    "def get_bootstrap_model(X_train, y_train, random_seed, bootstrap_size=BOOTSTRAP_SIZE):\n",
    "    np.random.seed(random_seed)\n",
    "    idx = np.random.permutation(len(X_train))[:int(len(X_train)*bootstrap_size)]\n",
    "    if MODEL_CLASS == \"lr\":\n",
    "        model = LogisticRegression()\n",
    "        #model = LinearRegression()\n",
    "    elif MODEL_CLASS == \"rf\":\n",
    "        model = RandomForestClassifier(random_state=random_seed)\n",
    "        #model = RandomForestRegressor(random_state=random_seed)\n",
    "    elif MODEL_CLASS == \"nn\":\n",
    "        model = MLPClassifier(random_state=random_seed)\n",
    "        #model = MLPRegressor(random_state=random_seed)\n",
    "    model.fit(X_train[idx], y_train[idx])\n",
    "    return model"
   ]
  },
  {
   "cell_type": "code",
   "execution_count": 6,
   "metadata": {},
   "outputs": [
    {
     "name": "stdout",
     "output_type": "stream",
     "text": [
      "random seed 0\n"
     ]
    },
    {
     "name": "stderr",
     "output_type": "stream",
     "text": [
      "/Users/shomik/miniforge3/envs/pytorch_env/lib/python3.12/site-packages/sklearn/neural_network/_multilayer_perceptron.py:691: ConvergenceWarning: Stochastic Optimizer: Maximum iterations (200) reached and the optimization hasn't converged yet.\n",
      "  warnings.warn(\n",
      "/Users/shomik/miniforge3/envs/pytorch_env/lib/python3.12/site-packages/sklearn/neural_network/_multilayer_perceptron.py:691: ConvergenceWarning: Stochastic Optimizer: Maximum iterations (200) reached and the optimization hasn't converged yet.\n",
      "  warnings.warn(\n",
      "/Users/shomik/miniforge3/envs/pytorch_env/lib/python3.12/site-packages/sklearn/neural_network/_multilayer_perceptron.py:691: ConvergenceWarning: Stochastic Optimizer: Maximum iterations (200) reached and the optimization hasn't converged yet.\n",
      "  warnings.warn(\n",
      "/Users/shomik/miniforge3/envs/pytorch_env/lib/python3.12/site-packages/sklearn/neural_network/_multilayer_perceptron.py:691: ConvergenceWarning: Stochastic Optimizer: Maximum iterations (200) reached and the optimization hasn't converged yet.\n",
      "  warnings.warn(\n",
      "100%|███████████████████████████████████████████| 10/10 [00:27<00:00,  2.76s/it]\n"
     ]
    }
   ],
   "source": [
    "output = []\n",
    "for random_seed in range(num_random_seeds):\n",
    "    print(\"random seed\", random_seed)\n",
    "    X_train, X_test, y_train, y_test = train_test_split(X, y, test_size=test_size, random_state=random_seed)\n",
    "    X_train, X_val, y_train, y_val = train_test_split(X_train, y_train, test_size=validation_size, random_state=random_seed)\n",
    "\n",
    "    cost = X_test[\"cost_t\"].to_numpy()\n",
    "    gagne = X_test[\"gagne_sum_t\"].to_numpy()\n",
    "    person_id = X_test['person_id'].to_numpy()\n",
    "    \n",
    "    X_train = X_train.drop(columns=other_variables).to_numpy()\n",
    "    y_train = y_train.to_numpy()\n",
    "    X_val = X_val.drop(columns=other_variables).to_numpy()\n",
    "    y_val = y_val.to_numpy()\n",
    "    X_test = X_test.drop(columns=other_variables).to_numpy()\n",
    "    y_test = y_test.to_numpy()\n",
    "\n",
    "    predictions = {}\n",
    "    training_loss = {}\n",
    "    validation_loss = {}\n",
    "    for i in tqdm(range(num_bootstrap_models)):\n",
    "        model = get_bootstrap_model(X_train, y_train, random_seed=i, bootstrap_size=BOOTSTRAP_SIZE)        \n",
    "        predictions[f'm_{i+1}'] = model.predict_proba(X_test)[:, 1]\n",
    "        training_loss[f'm_{i+1}'] = log_loss(y_train, model.predict_proba(X_train))\n",
    "        validation_loss[f'm_{i+1}'] = log_loss(y_val, model.predict_proba(X_val))\n",
    "                            \n",
    "    predictions_df = pd.concat([\n",
    "        pd.DataFrame(predictions),\n",
    "        pd.DataFrame(training_loss, index=[0]),\n",
    "        pd.DataFrame(validation_loss, index=[0])]).reset_index(drop=True)\n",
    "    \n",
    "    predictions_df[\"y\"] = np.concatenate([y_test, [np.nan, np.nan]])\n",
    "    predictions_df[\"person_id\"] = np.concatenate([person_id, [-2, -1]]) # -1 indicates validation loss, -2 indicates training loss\n",
    "    predictions_df['cost_t'] = np.concatenate([cost, [np.nan, np.nan]]) \n",
    "    predictions_df['gagne_sum_t'] = np.concatenate([gagne, [np.nan, np.nan]])\n",
    "    predictions_df[\"seed\"] = random_seed\n",
    "\n",
    "    output.append(predictions_df)\n",
    "    \n",
    "output = pd.concat(output)"
   ]
  },
  {
   "cell_type": "code",
   "execution_count": 63,
   "metadata": {},
   "outputs": [],
   "source": [
    "output.to_csv(prediction_output, index=False)"
   ]
  },
  {
   "cell_type": "code",
   "execution_count": null,
   "metadata": {},
   "outputs": [],
   "source": [
    "output.head()"
   ]
  }
 ],
 "metadata": {
  "kernelspec": {
   "display_name": "Python 3 (ipykernel)",
   "language": "python",
   "name": "python3"
  },
  "language_info": {
   "codemirror_mode": {
    "name": "ipython",
    "version": 3
   },
   "file_extension": ".py",
   "mimetype": "text/x-python",
   "name": "python",
   "nbconvert_exporter": "python",
   "pygments_lexer": "ipython3",
   "version": "3.12.8"
  }
 },
 "nbformat": 4,
 "nbformat_minor": 4
}
