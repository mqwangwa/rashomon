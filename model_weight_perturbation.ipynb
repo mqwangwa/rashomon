{
 "cells": [
  {
   "cell_type": "code",
   "execution_count": 2,
   "metadata": {},
   "outputs": [],
   "source": [
    "import pandas as pd\n",
    "import numpy as np\n",
    "from sklearn.ensemble import RandomForestRegressor\n",
    "from sklearn.linear_model import LinearRegression\n",
    "from sklearn.neural_network import MLPRegressor\n",
    "from sklearn.model_selection import train_test_split\n",
    "from tqdm import tqdm\n",
    "from sklearn.metrics import mean_squared_error\n",
    "import scipy as sp"
   ]
  },
  {
   "cell_type": "code",
   "execution_count": 3,
   "metadata": {},
   "outputs": [],
   "source": [
    "NUM_RANDOM_SEEDS = 5\n",
    "MODEL_CLASS = \"lr\"\n",
    "EPSILON = 0.05\n",
    "NUM_PERTURBED_MODELS = 100"
   ]
  },
  {
   "cell_type": "code",
   "execution_count": 4,
   "metadata": {},
   "outputs": [],
   "source": [
    "data_source = \"data/obermeyer/obermeyer_data_cleaned.csv\"\n",
    "prediction_output = \"predictions/obermeyer/model_weight_perturbation_\"+MODEL_CLASS+\".csv\"\n",
    "target_variable = \"cost_t\"\n",
    "features = ['dem_female', 'dem_age_band_18-24_tm1', 'dem_age_band_25-34_tm1', 'dem_age_band_35-44_tm1', 'dem_age_band_45-54_tm1',\n",
    "            'dem_age_band_55-64_tm1', 'dem_age_band_65-74_tm1', 'dem_age_band_75+_tm1', 'hypertension_elixhauser_tm1', 'cost_dialysis_tm1',\n",
    "            'cost_emergency_tm1', 'cost_home_health_tm1', 'cost_ip_medical_tm1', 'cost_ip_surgical_tm1', 'cost_laboratory_tm1',\n",
    "            'cost_op_primary_care_tm1', 'cost_op_specialists_tm1', 'cost_op_surgery_tm1', 'cost_other_tm1', 'cost_pharmacy_tm1',\n",
    "            'cost_physical_therapy_tm1', 'cost_radiology_tm1', 'gagne_sum_tm1']\n",
    "other_variables = ['person_id', 'qualified_cost_25', 'qualified_cost_75', 'qualified_cost_50', 'qualified_gagne_1', 'qualified_gagne_2', 'qualified_gagne_3']"
   ]
  },
  {
   "cell_type": "code",
   "execution_count": 7,
   "metadata": {},
   "outputs": [],
   "source": [
    "df = pd.read_csv(data_source)\n",
    "X = df[features+other_variables]\n",
    "y = df[target_variable]"
   ]
  },
  {
   "cell_type": "code",
   "execution_count": 8,
   "metadata": {},
   "outputs": [],
   "source": [
    "def get_baseline_model_coefficients(X_train, y_train):\n",
    "    if MODEL_CLASS == \"lr\":\n",
    "        model = LinearRegression()\n",
    "    model.fit(X_train, y_train)\n",
    "    return model.coef_"
   ]
  },
  {
   "cell_type": "code",
   "execution_count": 9,
   "metadata": {},
   "outputs": [],
   "source": [
    "def get_perturbed_weights(baseline_weights, epsilon):\n",
    "    random_vector = np.random.randn(*baseline_weights.shape)\n",
    "    random_vector = random_vector / np.linalg.norm(random_vector)\n",
    "    perturbation = np.random.uniform(0, epsilon) * random_vector\n",
    "    w = baseline_weights + perturbation\n",
    "    return w"
   ]
  },
  {
   "cell_type": "code",
   "execution_count": 10,
   "metadata": {},
   "outputs": [],
   "source": [
    "def get_predictions_columns(X_test, baseline_weights, epsilon):\n",
    "    predictions = []\n",
    "    columns = []\n",
    "    for i in tqdm(range(NUM_PERTURBED_MODELS)):\n",
    "        perturbed_weights = get_perturbed_weights(baseline_weights, epsilon)\n",
    "        predictions.append(np.dot(X_test, perturbed_weights))\n",
    "        columns.append(f'm_{i+1}')\n",
    "    return predictions, columns"
   ]
  },
  {
   "cell_type": "code",
   "execution_count": 14,
   "metadata": {},
   "outputs": [
    {
     "name": "stdout",
     "output_type": "stream",
     "text": [
      "random seed 0\n"
     ]
    },
    {
     "name": "stderr",
     "output_type": "stream",
     "text": [
      "100%|██████████| 100/100 [00:00<00:00, 371.09it/s]\n"
     ]
    },
    {
     "name": "stdout",
     "output_type": "stream",
     "text": [
      "random seed 1\n"
     ]
    },
    {
     "name": "stderr",
     "output_type": "stream",
     "text": [
      "100%|██████████| 100/100 [00:00<00:00, 347.43it/s]\n"
     ]
    },
    {
     "name": "stdout",
     "output_type": "stream",
     "text": [
      "random seed 2\n"
     ]
    },
    {
     "name": "stderr",
     "output_type": "stream",
     "text": [
      "100%|██████████| 100/100 [00:00<00:00, 374.07it/s]\n"
     ]
    },
    {
     "name": "stdout",
     "output_type": "stream",
     "text": [
      "random seed 3\n"
     ]
    },
    {
     "name": "stderr",
     "output_type": "stream",
     "text": [
      "100%|██████████| 100/100 [00:00<00:00, 355.26it/s]\n"
     ]
    },
    {
     "name": "stdout",
     "output_type": "stream",
     "text": [
      "random seed 4\n"
     ]
    },
    {
     "name": "stderr",
     "output_type": "stream",
     "text": [
      "100%|██████████| 100/100 [00:00<00:00, 356.78it/s]\n"
     ]
    }
   ],
   "source": [
    "output = []\n",
    "for random_seed in range(NUM_RANDOM_SEEDS):\n",
    "    print(\"random seed\", random_seed)\n",
    "    X_train, X_test, y_train, y_test = train_test_split(X, y, test_size=0.33, random_state=random_seed)\n",
    "    \n",
    "    cost_threshold_25 = X_test['qualified_cost_25'].to_numpy()\n",
    "    cost_threshold_50 = X_test['qualified_cost_50'].to_numpy()\n",
    "    cost_threshold_75 = X_test['qualified_cost_75'].to_numpy()\n",
    "    gagne_threshold_1 = X_test['qualified_gagne_1'].to_numpy()\n",
    "    gagne_threshold_2 = X_test['qualified_gagne_2'].to_numpy()\n",
    "    gagne_threshold_3 = X_test['qualified_gagne_3'].to_numpy()\n",
    "    test_idx = X_test['person_id'].to_numpy()\n",
    "\n",
    "    X_train = X_train.drop(columns=other_variables).to_numpy()\n",
    "    X_train = sp.linalg.orth(X_train)\n",
    "    y_train = y_train.to_numpy()\n",
    "    X_test = X_test.drop(columns=other_variables).to_numpy()\n",
    "    X_test = sp.linalg.orth(X_test)\n",
    "    y_test = y_test.to_numpy()\n",
    "\n",
    "    baseline_weights = get_baseline_model_coefficients(X_train, y_train)\n",
    "    predictions, columns = get_predictions_columns(X_test, baseline_weights, EPSILON)\n",
    "    \n",
    "    \n",
    "    predictions_df = pd.DataFrame(predictions).transpose()\n",
    "    predictions_df.columns=columns\n",
    "    predictions_df[\"y\"] = y_test\n",
    "    predictions_df[\"person_id\"] = test_idx \n",
    "    predictions_df[\"seed\"] = random_seed\n",
    "    \n",
    "    predictions_df['qualified_cost_25'] = cost_threshold_25\n",
    "    predictions_df['qualified_cost_50'] = cost_threshold_50\n",
    "    predictions_df['qualified_cost_75'] = cost_threshold_75\n",
    "    predictions_df['qualified_gagne_1'] = gagne_threshold_1\n",
    "    predictions_df['qualified_gagne_2'] = gagne_threshold_2\n",
    "    predictions_df['qualified_gagne_3'] = gagne_threshold_3\n",
    "\n",
    "    output.append(predictions_df)\n",
    "output = pd.concat(output)"
   ]
  },
  {
   "cell_type": "code",
   "execution_count": 15,
   "metadata": {},
   "outputs": [
    {
     "data": {
      "text/html": [
       "<div>\n",
       "<style scoped>\n",
       "    .dataframe tbody tr th:only-of-type {\n",
       "        vertical-align: middle;\n",
       "    }\n",
       "\n",
       "    .dataframe tbody tr th {\n",
       "        vertical-align: top;\n",
       "    }\n",
       "\n",
       "    .dataframe thead th {\n",
       "        text-align: right;\n",
       "    }\n",
       "</style>\n",
       "<table border=\"1\" class=\"dataframe\">\n",
       "  <thead>\n",
       "    <tr style=\"text-align: right;\">\n",
       "      <th></th>\n",
       "      <th>m_1</th>\n",
       "      <th>m_2</th>\n",
       "      <th>m_3</th>\n",
       "      <th>m_4</th>\n",
       "      <th>m_5</th>\n",
       "      <th>m_6</th>\n",
       "      <th>m_7</th>\n",
       "      <th>m_8</th>\n",
       "      <th>m_9</th>\n",
       "      <th>m_10</th>\n",
       "      <th>...</th>\n",
       "      <th>m_100</th>\n",
       "      <th>y</th>\n",
       "      <th>person_id</th>\n",
       "      <th>seed</th>\n",
       "      <th>qualified_cost_25</th>\n",
       "      <th>qualified_cost_50</th>\n",
       "      <th>qualified_cost_75</th>\n",
       "      <th>qualified_gagne_1</th>\n",
       "      <th>qualified_gagne_2</th>\n",
       "      <th>qualified_gagne_3</th>\n",
       "    </tr>\n",
       "  </thead>\n",
       "  <tbody>\n",
       "    <tr>\n",
       "      <th>0</th>\n",
       "      <td>0.007089</td>\n",
       "      <td>0.007156</td>\n",
       "      <td>0.007029</td>\n",
       "      <td>0.007102</td>\n",
       "      <td>0.006922</td>\n",
       "      <td>0.007039</td>\n",
       "      <td>0.007221</td>\n",
       "      <td>0.007198</td>\n",
       "      <td>0.007105</td>\n",
       "      <td>0.007117</td>\n",
       "      <td>...</td>\n",
       "      <td>0.006859</td>\n",
       "      <td>0.009628</td>\n",
       "      <td>2545</td>\n",
       "      <td>0</td>\n",
       "      <td>0</td>\n",
       "      <td>1</td>\n",
       "      <td>1</td>\n",
       "      <td>1</td>\n",
       "      <td>0</td>\n",
       "      <td>0</td>\n",
       "    </tr>\n",
       "    <tr>\n",
       "      <th>1</th>\n",
       "      <td>0.010493</td>\n",
       "      <td>0.010462</td>\n",
       "      <td>0.010987</td>\n",
       "      <td>0.010489</td>\n",
       "      <td>0.010355</td>\n",
       "      <td>0.010560</td>\n",
       "      <td>0.010672</td>\n",
       "      <td>0.010709</td>\n",
       "      <td>0.010589</td>\n",
       "      <td>0.010639</td>\n",
       "      <td>...</td>\n",
       "      <td>0.010455</td>\n",
       "      <td>0.004905</td>\n",
       "      <td>8198</td>\n",
       "      <td>0</td>\n",
       "      <td>0</td>\n",
       "      <td>0</td>\n",
       "      <td>1</td>\n",
       "      <td>1</td>\n",
       "      <td>1</td>\n",
       "      <td>0</td>\n",
       "    </tr>\n",
       "    <tr>\n",
       "      <th>2</th>\n",
       "      <td>0.039912</td>\n",
       "      <td>0.039877</td>\n",
       "      <td>0.040471</td>\n",
       "      <td>0.039823</td>\n",
       "      <td>0.040040</td>\n",
       "      <td>0.040202</td>\n",
       "      <td>0.039607</td>\n",
       "      <td>0.040148</td>\n",
       "      <td>0.039583</td>\n",
       "      <td>0.039899</td>\n",
       "      <td>...</td>\n",
       "      <td>0.039697</td>\n",
       "      <td>0.009446</td>\n",
       "      <td>46461</td>\n",
       "      <td>0</td>\n",
       "      <td>0</td>\n",
       "      <td>1</td>\n",
       "      <td>1</td>\n",
       "      <td>0</td>\n",
       "      <td>0</td>\n",
       "      <td>0</td>\n",
       "    </tr>\n",
       "    <tr>\n",
       "      <th>3</th>\n",
       "      <td>-0.006416</td>\n",
       "      <td>-0.006375</td>\n",
       "      <td>-0.006342</td>\n",
       "      <td>-0.006257</td>\n",
       "      <td>-0.006310</td>\n",
       "      <td>-0.006390</td>\n",
       "      <td>-0.006002</td>\n",
       "      <td>-0.006293</td>\n",
       "      <td>-0.006223</td>\n",
       "      <td>-0.006374</td>\n",
       "      <td>...</td>\n",
       "      <td>-0.006495</td>\n",
       "      <td>0.002361</td>\n",
       "      <td>30620</td>\n",
       "      <td>0</td>\n",
       "      <td>0</td>\n",
       "      <td>0</td>\n",
       "      <td>1</td>\n",
       "      <td>0</td>\n",
       "      <td>0</td>\n",
       "      <td>0</td>\n",
       "    </tr>\n",
       "    <tr>\n",
       "      <th>4</th>\n",
       "      <td>-0.007824</td>\n",
       "      <td>-0.007816</td>\n",
       "      <td>-0.008165</td>\n",
       "      <td>-0.007837</td>\n",
       "      <td>-0.008462</td>\n",
       "      <td>-0.007940</td>\n",
       "      <td>-0.007493</td>\n",
       "      <td>-0.007855</td>\n",
       "      <td>-0.007970</td>\n",
       "      <td>-0.007930</td>\n",
       "      <td>...</td>\n",
       "      <td>-0.008012</td>\n",
       "      <td>0.003996</td>\n",
       "      <td>47418</td>\n",
       "      <td>0</td>\n",
       "      <td>0</td>\n",
       "      <td>0</td>\n",
       "      <td>1</td>\n",
       "      <td>1</td>\n",
       "      <td>1</td>\n",
       "      <td>0</td>\n",
       "    </tr>\n",
       "  </tbody>\n",
       "</table>\n",
       "<p>5 rows × 109 columns</p>\n",
       "</div>"
      ],
      "text/plain": [
       "        m_1       m_2       m_3       m_4       m_5       m_6       m_7  \\\n",
       "0  0.007089  0.007156  0.007029  0.007102  0.006922  0.007039  0.007221   \n",
       "1  0.010493  0.010462  0.010987  0.010489  0.010355  0.010560  0.010672   \n",
       "2  0.039912  0.039877  0.040471  0.039823  0.040040  0.040202  0.039607   \n",
       "3 -0.006416 -0.006375 -0.006342 -0.006257 -0.006310 -0.006390 -0.006002   \n",
       "4 -0.007824 -0.007816 -0.008165 -0.007837 -0.008462 -0.007940 -0.007493   \n",
       "\n",
       "        m_8       m_9      m_10  ...     m_100         y  person_id  seed  \\\n",
       "0  0.007198  0.007105  0.007117  ...  0.006859  0.009628       2545     0   \n",
       "1  0.010709  0.010589  0.010639  ...  0.010455  0.004905       8198     0   \n",
       "2  0.040148  0.039583  0.039899  ...  0.039697  0.009446      46461     0   \n",
       "3 -0.006293 -0.006223 -0.006374  ... -0.006495  0.002361      30620     0   \n",
       "4 -0.007855 -0.007970 -0.007930  ... -0.008012  0.003996      47418     0   \n",
       "\n",
       "   qualified_cost_25  qualified_cost_50  qualified_cost_75  qualified_gagne_1  \\\n",
       "0                  0                  1                  1                  1   \n",
       "1                  0                  0                  1                  1   \n",
       "2                  0                  1                  1                  0   \n",
       "3                  0                  0                  1                  0   \n",
       "4                  0                  0                  1                  1   \n",
       "\n",
       "   qualified_gagne_2  qualified_gagne_3  \n",
       "0                  0                  0  \n",
       "1                  1                  0  \n",
       "2                  0                  0  \n",
       "3                  0                  0  \n",
       "4                  1                  0  \n",
       "\n",
       "[5 rows x 109 columns]"
      ]
     },
     "execution_count": 15,
     "metadata": {},
     "output_type": "execute_result"
    }
   ],
   "source": [
    "output.head()"
   ]
  },
  {
   "cell_type": "code",
   "execution_count": 16,
   "metadata": {},
   "outputs": [
    {
     "name": "stdout",
     "output_type": "stream",
     "text": [
      "<class 'pandas.core.frame.DataFrame'>\n",
      "Index: 80495 entries, 0 to 16098\n",
      "Columns: 109 entries, m_1 to qualified_gagne_3\n",
      "dtypes: float64(101), int64(8)\n",
      "memory usage: 67.6 MB\n"
     ]
    }
   ],
   "source": [
    "output.info()"
   ]
  },
  {
   "cell_type": "code",
   "execution_count": 17,
   "metadata": {},
   "outputs": [],
   "source": [
    "output.to_csv(prediction_output, index=False)"
   ]
  }
 ],
 "metadata": {
  "kernelspec": {
   "display_name": "Python 3",
   "language": "python",
   "name": "python3"
  },
  "language_info": {
   "codemirror_mode": {
    "name": "ipython",
    "version": 3
   },
   "file_extension": ".py",
   "mimetype": "text/x-python",
   "name": "python",
   "nbconvert_exporter": "python",
   "pygments_lexer": "ipython3",
   "version": "3.12.1"
  }
 },
 "nbformat": 4,
 "nbformat_minor": 2
}
