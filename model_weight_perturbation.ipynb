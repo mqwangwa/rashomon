{
 "cells": [
  {
   "cell_type": "code",
   "execution_count": 2,
   "metadata": {},
   "outputs": [],
   "source": [
    "import pandas as pd\n",
    "import numpy as np\n",
    "import scipy as sp\n",
    "from sklearn.linear_model import LinearRegression\n",
    "from sklearn.model_selection import train_test_split\n",
    "from tqdm import tqdm"
   ]
  },
  {
   "cell_type": "code",
   "execution_count": 18,
   "metadata": {},
   "outputs": [],
   "source": [
    "NUM_RANDOM_SEEDS = 10\n",
    "MODEL_CLASS = \"lr\"\n",
    "EPSILON = 0.05\n",
    "NUM_PERTURBED_MODELS = 100"
   ]
  },
  {
   "cell_type": "code",
   "execution_count": 4,
   "metadata": {},
   "outputs": [],
   "source": [
    "data_source = \"data/obermeyer/obermeyer_data_cleaned.csv\"\n",
    "prediction_output = \"predictions/obermeyer/model_weight_perturbation_\"+MODEL_CLASS+\".csv\"\n",
    "target_variable = \"cost_t\"\n",
    "features = ['dem_female', 'dem_age_band_18-24_tm1', 'dem_age_band_25-34_tm1', 'dem_age_band_35-44_tm1', 'dem_age_band_45-54_tm1',\n",
    "            'dem_age_band_55-64_tm1', 'dem_age_band_65-74_tm1', 'dem_age_band_75+_tm1', 'hypertension_elixhauser_tm1', 'cost_dialysis_tm1',\n",
    "            'cost_emergency_tm1', 'cost_home_health_tm1', 'cost_ip_medical_tm1', 'cost_ip_surgical_tm1', 'cost_laboratory_tm1',\n",
    "            'cost_op_primary_care_tm1', 'cost_op_specialists_tm1', 'cost_op_surgery_tm1', 'cost_other_tm1', 'cost_pharmacy_tm1',\n",
    "            'cost_physical_therapy_tm1', 'cost_radiology_tm1', 'gagne_sum_tm1']\n",
    "other_variables = ['person_id', 'qualified_cost_25', 'qualified_cost_75', 'qualified_cost_50', 'qualified_gagne_1', 'qualified_gagne_2', 'qualified_gagne_3']"
   ]
  },
  {
   "cell_type": "code",
   "execution_count": 19,
   "metadata": {},
   "outputs": [],
   "source": [
    "df = pd.read_csv(data_source)\n",
    "X = df[features+other_variables]\n",
    "y = df[target_variable]"
   ]
  },
  {
   "cell_type": "code",
   "execution_count": null,
   "metadata": {},
   "outputs": [],
   "source": [
    "def get_baseline_model_coefficients(X_train, y_train):\n",
    "    if MODEL_CLASS == \"lr\":\n",
    "        model = LinearRegression()\n",
    "    model.fit(X_train, y_train)\n",
    "    return model.coef_"
   ]
  },
  {
   "cell_type": "code",
   "execution_count": 21,
   "metadata": {},
   "outputs": [],
   "source": [
    "def get_perturbed_weights(baseline_weights, epsilon):\n",
    "    random_vector = np.random.randn(*baseline_weights.shape)\n",
    "    random_vector = random_vector / np.linalg.norm(random_vector)\n",
    "    perturbation = np.random.uniform(0, epsilon) * random_vector\n",
    "    w = baseline_weights + perturbation\n",
    "    if np.linalg.norm(w - baseline_weights) > epsilon:\n",
    "        print(f\"Oh no! Got a distance of {np.linalg.norm(w - baseline_weights)}\")\n",
    "    return w"
   ]
  },
  {
   "cell_type": "code",
   "execution_count": 22,
   "metadata": {},
   "outputs": [],
   "source": [
    "def get_predictions_columns(X_test, X_train, y_train, baseline_weights, epsilon, y_true, baseline_loss):\n",
    "    predictions = []\n",
    "    columns = []\n",
    "    count = 0\n",
    "    better = 0\n",
    "    for i in tqdm(range(NUM_PERTURBED_MODELS)):\n",
    "        perturbed_weights = get_perturbed_weights(baseline_weights, epsilon)\n",
    "        y_pred = np.dot(X_test, perturbed_weights)\n",
    "        train_pred = np.dot(X_train, perturbed_weights)\n",
    "        rss_loss = np.sum((y_train - train_pred) ** 2)\n",
    "        if rss_loss - baseline_loss > epsilon:\n",
    "            # print(f\"Uh oh! Got a RSS loss of {rss_loss}\") # check this against the training loss\n",
    "            count += 1\n",
    "            continue\n",
    "        if rss_loss < baseline_loss:\n",
    "            # print(f\"perturbation {i} led to a better model\")\n",
    "            better += 1\n",
    "        predictions.append(y_pred)\n",
    "        columns.append(f'm_{i+1}')\n",
    "    print(f\"Number of models with high loss: {count}\")\n",
    "    print(f\"Number of models with lower loss: {better}\")\n",
    "    return predictions, columns"
   ]
  },
  {
   "cell_type": "code",
   "execution_count": null,
   "metadata": {},
   "outputs": [
    {
     "name": "stdout",
     "output_type": "stream",
     "text": [
      "random seed 0\n",
      "(32685, 24)\n",
      "(32685, 23)\n",
      "beginning to train model\n",
      "model has been trained!\n",
      "baseline loss 21.541711873644218\n"
     ]
    },
    {
     "name": "stderr",
     "output_type": "stream",
     "text": [
      "100%|██████████| 100/100 [00:00<00:00, 466.08it/s]\n"
     ]
    },
    {
     "name": "stdout",
     "output_type": "stream",
     "text": [
      "Number of models with high loss: 100\n",
      "Number of models with lower loss: 0\n",
      "\n",
      "random seed 1\n",
      "(32685, 24)\n",
      "(32685, 23)\n",
      "beginning to train model\n",
      "model has been trained!\n",
      "baseline loss 20.23699967509895\n"
     ]
    },
    {
     "name": "stderr",
     "output_type": "stream",
     "text": [
      "100%|██████████| 100/100 [00:00<00:00, 274.93it/s]\n"
     ]
    },
    {
     "name": "stdout",
     "output_type": "stream",
     "text": [
      "Number of models with high loss: 100\n",
      "Number of models with lower loss: 0\n",
      "\n",
      "random seed 2\n",
      "(32685, 24)\n",
      "(32685, 23)\n",
      "beginning to train model\n",
      "model has been trained!\n",
      "baseline loss 29.938669394658575\n"
     ]
    },
    {
     "name": "stderr",
     "output_type": "stream",
     "text": [
      "100%|██████████| 100/100 [00:00<00:00, 287.22it/s]\n"
     ]
    },
    {
     "name": "stdout",
     "output_type": "stream",
     "text": [
      "Number of models with high loss: 0\n",
      "Number of models with lower loss: 100\n",
      "\n",
      "random seed 3\n",
      "(32685, 24)\n",
      "(32685, 23)\n",
      "beginning to train model\n",
      "model has been trained!\n",
      "baseline loss 26.492346390315113\n"
     ]
    },
    {
     "name": "stderr",
     "output_type": "stream",
     "text": [
      "100%|██████████| 100/100 [00:00<00:00, 610.93it/s]\n"
     ]
    },
    {
     "name": "stdout",
     "output_type": "stream",
     "text": [
      "Number of models with high loss: 100\n",
      "Number of models with lower loss: 0\n",
      "\n",
      "random seed 4\n",
      "(32685, 24)\n",
      "(32685, 23)\n",
      "beginning to train model\n",
      "model has been trained!\n",
      "baseline loss 18.077839767411866\n"
     ]
    },
    {
     "name": "stderr",
     "output_type": "stream",
     "text": [
      "100%|██████████| 100/100 [00:00<00:00, 512.29it/s]\n"
     ]
    },
    {
     "name": "stdout",
     "output_type": "stream",
     "text": [
      "Number of models with high loss: 100\n",
      "Number of models with lower loss: 0\n",
      "\n",
      "random seed 5\n",
      "(32685, 24)\n",
      "(32685, 23)\n",
      "beginning to train model\n",
      "model has been trained!\n",
      "baseline loss 21.410827405051165\n"
     ]
    },
    {
     "name": "stderr",
     "output_type": "stream",
     "text": [
      "100%|██████████| 100/100 [00:00<00:00, 274.27it/s]\n"
     ]
    },
    {
     "name": "stdout",
     "output_type": "stream",
     "text": [
      "Number of models with high loss: 100\n",
      "Number of models with lower loss: 0\n",
      "\n",
      "random seed 6\n",
      "(32685, 24)\n",
      "(32685, 23)\n",
      "beginning to train model\n",
      "model has been trained!\n",
      "baseline loss 34.546349138162434\n"
     ]
    },
    {
     "name": "stderr",
     "output_type": "stream",
     "text": [
      "100%|██████████| 100/100 [00:00<00:00, 554.00it/s]\n"
     ]
    },
    {
     "name": "stdout",
     "output_type": "stream",
     "text": [
      "Number of models with high loss: 0\n",
      "Number of models with lower loss: 100\n",
      "\n",
      "random seed 7\n",
      "(32685, 24)\n",
      "(32685, 23)\n",
      "beginning to train model\n",
      "model has been trained!\n",
      "baseline loss 23.272498343866864\n"
     ]
    },
    {
     "name": "stderr",
     "output_type": "stream",
     "text": [
      "100%|██████████| 100/100 [00:00<00:00, 346.13it/s]\n"
     ]
    },
    {
     "name": "stdout",
     "output_type": "stream",
     "text": [
      "Number of models with high loss: 100\n",
      "Number of models with lower loss: 0\n",
      "\n",
      "random seed 8\n",
      "(32685, 24)\n",
      "(32685, 23)\n",
      "beginning to train model\n",
      "model has been trained!\n",
      "baseline loss 23.74339618698992\n"
     ]
    },
    {
     "name": "stderr",
     "output_type": "stream",
     "text": [
      "100%|██████████| 100/100 [00:00<00:00, 381.07it/s]\n"
     ]
    },
    {
     "name": "stdout",
     "output_type": "stream",
     "text": [
      "Number of models with high loss: 100\n",
      "Number of models with lower loss: 0\n",
      "\n",
      "random seed 9\n",
      "(32685, 24)\n",
      "(32685, 23)\n",
      "beginning to train model\n",
      "model has been trained!\n",
      "baseline loss 23.987708565133435\n"
     ]
    },
    {
     "name": "stderr",
     "output_type": "stream",
     "text": [
      "100%|██████████| 100/100 [00:00<00:00, 338.53it/s]\n"
     ]
    },
    {
     "name": "stdout",
     "output_type": "stream",
     "text": [
      "Number of models with high loss: 100\n",
      "Number of models with lower loss: 0\n",
      "\n"
     ]
    }
   ],
   "source": [
    "output = []\n",
    "for random_seed in range(NUM_RANDOM_SEEDS):\n",
    "    print(\"random seed\", random_seed)\n",
    "    X_train, X_test, y_train, y_test = train_test_split(X, y, test_size=0.33, random_state=random_seed)\n",
    "    \n",
    "    cost_threshold_25 = X_test['qualified_cost_25'].to_numpy()\n",
    "    cost_threshold_50 = X_test['qualified_cost_50'].to_numpy()\n",
    "    cost_threshold_75 = X_test['qualified_cost_75'].to_numpy()\n",
    "    gagne_threshold_1 = X_test['qualified_gagne_1'].to_numpy()\n",
    "    gagne_threshold_2 = X_test['qualified_gagne_2'].to_numpy()\n",
    "    gagne_threshold_3 = X_test['qualified_gagne_3'].to_numpy()\n",
    "    test_idx = X_test['person_id'].to_numpy()\n",
    "\n",
    "    X_train = X_train.drop(columns=other_variables).to_numpy()\n",
    "    # print(X_train.shape)\n",
    "    # basis = sp.linalg.orth(X_train)\n",
    "    # basis = np.transpose(basis)\n",
    "    # print(basis.shape)\n",
    "    # X_train_proj = np.dot(X_train, basis)\n",
    "    # print(X_train_proj.shape)\n",
    "    y_train = y_train.to_numpy()\n",
    "    # print(y_train.shape)\n",
    "    X_test = X_test.drop(columns=other_variables).to_numpy()\n",
    "    # X_test_proj = np.dot(X_test, basis)\n",
    "    y_test = y_test.to_numpy()\n",
    "\n",
    "\n",
    "    intercept_idx = 0\n",
    "    Xf_train = np.insert(X_train, intercept_idx, 1.0, axis=1)\n",
    "    print(Xf_train.shape)\n",
    "    X_train_proj = sp.linalg.orth(X_train)\n",
    "    print(X_train_proj.shape)\n",
    "    # Xf_test = np.insert(X_train, intercept_idx, 1.0, axis=1)\n",
    "    X_test_proj = sp.linalg.orth(X_test)\n",
    "    # X_train_proj = X_train\n",
    "    # X_test_proj = X_test\n",
    "    # print(\"arrays all set up\")\n",
    "\n",
    "    baseline_weights = get_baseline_model_coefficients(X_train_proj, y_train)\n",
    "    baseline_prediction = np.dot(X_test_proj, baseline_weights)\n",
    "    baseline_loss = np.sum((y_test - baseline_prediction) ** 2)\n",
    "    print(f\"baseline loss {baseline_loss}\")\n",
    "    predictions, columns = get_predictions_columns(X_test_proj, X_train_proj, y_train, baseline_weights, EPSILON, y_test, baseline_loss)\n",
    "    \n",
    "    \n",
    "    predictions_df = pd.DataFrame(predictions).transpose()\n",
    "    predictions_df.columns=columns\n",
    "    predictions_df[\"y\"] = y_test\n",
    "    predictions_df[\"person_id\"] = test_idx \n",
    "    predictions_df[\"seed\"] = random_seed\n",
    "    \n",
    "    predictions_df['qualified_cost_25'] = cost_threshold_25\n",
    "    predictions_df['qualified_cost_50'] = cost_threshold_50\n",
    "    predictions_df['qualified_cost_75'] = cost_threshold_75\n",
    "    predictions_df['qualified_gagne_1'] = gagne_threshold_1\n",
    "    predictions_df['qualified_gagne_2'] = gagne_threshold_2\n",
    "    predictions_df['qualified_gagne_3'] = gagne_threshold_3\n",
    "\n",
    "    output.append(predictions_df)\n",
    "    print()\n",
    "output = pd.concat(output)"
   ]
  },
  {
   "cell_type": "code",
   "execution_count": 28,
   "metadata": {},
   "outputs": [
    {
     "data": {
      "text/html": [
       "<div>\n",
       "<style scoped>\n",
       "    .dataframe tbody tr th:only-of-type {\n",
       "        vertical-align: middle;\n",
       "    }\n",
       "\n",
       "    .dataframe tbody tr th {\n",
       "        vertical-align: top;\n",
       "    }\n",
       "\n",
       "    .dataframe thead th {\n",
       "        text-align: right;\n",
       "    }\n",
       "</style>\n",
       "<table border=\"1\" class=\"dataframe\">\n",
       "  <thead>\n",
       "    <tr style=\"text-align: right;\">\n",
       "      <th></th>\n",
       "      <th>y</th>\n",
       "      <th>person_id</th>\n",
       "      <th>seed</th>\n",
       "      <th>qualified_cost_25</th>\n",
       "      <th>qualified_cost_50</th>\n",
       "      <th>qualified_cost_75</th>\n",
       "      <th>qualified_gagne_1</th>\n",
       "      <th>qualified_gagne_2</th>\n",
       "      <th>qualified_gagne_3</th>\n",
       "      <th>m_1</th>\n",
       "      <th>...</th>\n",
       "      <th>m_91</th>\n",
       "      <th>m_92</th>\n",
       "      <th>m_93</th>\n",
       "      <th>m_94</th>\n",
       "      <th>m_95</th>\n",
       "      <th>m_96</th>\n",
       "      <th>m_97</th>\n",
       "      <th>m_98</th>\n",
       "      <th>m_99</th>\n",
       "      <th>m_100</th>\n",
       "    </tr>\n",
       "  </thead>\n",
       "  <tbody>\n",
       "    <tr>\n",
       "      <th>0</th>\n",
       "      <td>0.009628</td>\n",
       "      <td>2545</td>\n",
       "      <td>0</td>\n",
       "      <td>0</td>\n",
       "      <td>1</td>\n",
       "      <td>1</td>\n",
       "      <td>1</td>\n",
       "      <td>0</td>\n",
       "      <td>0</td>\n",
       "      <td>NaN</td>\n",
       "      <td>...</td>\n",
       "      <td>NaN</td>\n",
       "      <td>NaN</td>\n",
       "      <td>NaN</td>\n",
       "      <td>NaN</td>\n",
       "      <td>NaN</td>\n",
       "      <td>NaN</td>\n",
       "      <td>NaN</td>\n",
       "      <td>NaN</td>\n",
       "      <td>NaN</td>\n",
       "      <td>NaN</td>\n",
       "    </tr>\n",
       "    <tr>\n",
       "      <th>1</th>\n",
       "      <td>0.004905</td>\n",
       "      <td>8198</td>\n",
       "      <td>0</td>\n",
       "      <td>0</td>\n",
       "      <td>0</td>\n",
       "      <td>1</td>\n",
       "      <td>1</td>\n",
       "      <td>1</td>\n",
       "      <td>0</td>\n",
       "      <td>NaN</td>\n",
       "      <td>...</td>\n",
       "      <td>NaN</td>\n",
       "      <td>NaN</td>\n",
       "      <td>NaN</td>\n",
       "      <td>NaN</td>\n",
       "      <td>NaN</td>\n",
       "      <td>NaN</td>\n",
       "      <td>NaN</td>\n",
       "      <td>NaN</td>\n",
       "      <td>NaN</td>\n",
       "      <td>NaN</td>\n",
       "    </tr>\n",
       "    <tr>\n",
       "      <th>2</th>\n",
       "      <td>0.009446</td>\n",
       "      <td>46461</td>\n",
       "      <td>0</td>\n",
       "      <td>0</td>\n",
       "      <td>1</td>\n",
       "      <td>1</td>\n",
       "      <td>0</td>\n",
       "      <td>0</td>\n",
       "      <td>0</td>\n",
       "      <td>NaN</td>\n",
       "      <td>...</td>\n",
       "      <td>NaN</td>\n",
       "      <td>NaN</td>\n",
       "      <td>NaN</td>\n",
       "      <td>NaN</td>\n",
       "      <td>NaN</td>\n",
       "      <td>NaN</td>\n",
       "      <td>NaN</td>\n",
       "      <td>NaN</td>\n",
       "      <td>NaN</td>\n",
       "      <td>NaN</td>\n",
       "    </tr>\n",
       "    <tr>\n",
       "      <th>3</th>\n",
       "      <td>0.002361</td>\n",
       "      <td>30620</td>\n",
       "      <td>0</td>\n",
       "      <td>0</td>\n",
       "      <td>0</td>\n",
       "      <td>1</td>\n",
       "      <td>0</td>\n",
       "      <td>0</td>\n",
       "      <td>0</td>\n",
       "      <td>NaN</td>\n",
       "      <td>...</td>\n",
       "      <td>NaN</td>\n",
       "      <td>NaN</td>\n",
       "      <td>NaN</td>\n",
       "      <td>NaN</td>\n",
       "      <td>NaN</td>\n",
       "      <td>NaN</td>\n",
       "      <td>NaN</td>\n",
       "      <td>NaN</td>\n",
       "      <td>NaN</td>\n",
       "      <td>NaN</td>\n",
       "    </tr>\n",
       "    <tr>\n",
       "      <th>4</th>\n",
       "      <td>0.003996</td>\n",
       "      <td>47418</td>\n",
       "      <td>0</td>\n",
       "      <td>0</td>\n",
       "      <td>0</td>\n",
       "      <td>1</td>\n",
       "      <td>1</td>\n",
       "      <td>1</td>\n",
       "      <td>0</td>\n",
       "      <td>NaN</td>\n",
       "      <td>...</td>\n",
       "      <td>NaN</td>\n",
       "      <td>NaN</td>\n",
       "      <td>NaN</td>\n",
       "      <td>NaN</td>\n",
       "      <td>NaN</td>\n",
       "      <td>NaN</td>\n",
       "      <td>NaN</td>\n",
       "      <td>NaN</td>\n",
       "      <td>NaN</td>\n",
       "      <td>NaN</td>\n",
       "    </tr>\n",
       "  </tbody>\n",
       "</table>\n",
       "<p>5 rows × 109 columns</p>\n",
       "</div>"
      ],
      "text/plain": [
       "          y  person_id  seed  qualified_cost_25  qualified_cost_50  \\\n",
       "0  0.009628       2545     0                  0                  1   \n",
       "1  0.004905       8198     0                  0                  0   \n",
       "2  0.009446      46461     0                  0                  1   \n",
       "3  0.002361      30620     0                  0                  0   \n",
       "4  0.003996      47418     0                  0                  0   \n",
       "\n",
       "   qualified_cost_75  qualified_gagne_1  qualified_gagne_2  qualified_gagne_3  \\\n",
       "0                  1                  1                  0                  0   \n",
       "1                  1                  1                  1                  0   \n",
       "2                  1                  0                  0                  0   \n",
       "3                  1                  0                  0                  0   \n",
       "4                  1                  1                  1                  0   \n",
       "\n",
       "   m_1  ...  m_91  m_92  m_93  m_94  m_95  m_96  m_97  m_98  m_99  m_100  \n",
       "0  NaN  ...   NaN   NaN   NaN   NaN   NaN   NaN   NaN   NaN   NaN    NaN  \n",
       "1  NaN  ...   NaN   NaN   NaN   NaN   NaN   NaN   NaN   NaN   NaN    NaN  \n",
       "2  NaN  ...   NaN   NaN   NaN   NaN   NaN   NaN   NaN   NaN   NaN    NaN  \n",
       "3  NaN  ...   NaN   NaN   NaN   NaN   NaN   NaN   NaN   NaN   NaN    NaN  \n",
       "4  NaN  ...   NaN   NaN   NaN   NaN   NaN   NaN   NaN   NaN   NaN    NaN  \n",
       "\n",
       "[5 rows x 109 columns]"
      ]
     },
     "execution_count": 28,
     "metadata": {},
     "output_type": "execute_result"
    }
   ],
   "source": [
    "output.head()"
   ]
  },
  {
   "cell_type": "code",
   "execution_count": 29,
   "metadata": {},
   "outputs": [
    {
     "name": "stdout",
     "output_type": "stream",
     "text": [
      "<class 'pandas.core.frame.DataFrame'>\n",
      "Index: 160990 entries, 0 to 16098\n",
      "Columns: 109 entries, y to m_100\n",
      "dtypes: float64(101), int64(8)\n",
      "memory usage: 135.1 MB\n"
     ]
    }
   ],
   "source": [
    "output.info()"
   ]
  },
  {
   "cell_type": "code",
   "execution_count": 30,
   "metadata": {},
   "outputs": [],
   "source": [
    "output.to_csv(prediction_output, index=False)"
   ]
  }
 ],
 "metadata": {
  "kernelspec": {
   "display_name": "Python 3",
   "language": "python",
   "name": "python3"
  },
  "language_info": {
   "codemirror_mode": {
    "name": "ipython",
    "version": 3
   },
   "file_extension": ".py",
   "mimetype": "text/x-python",
   "name": "python",
   "nbconvert_exporter": "python",
   "pygments_lexer": "ipython3",
   "version": "3.12.1"
  }
 },
 "nbformat": 4,
 "nbformat_minor": 2
}
