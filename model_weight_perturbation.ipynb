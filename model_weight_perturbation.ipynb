{
 "cells": [
  {
   "cell_type": "code",
   "execution_count": 13,
   "metadata": {},
   "outputs": [],
   "source": [
    "import pandas as pd\n",
    "import numpy as np\n",
    "from sklearn.ensemble import RandomForestRegressor\n",
    "from sklearn.linear_model import LinearRegression\n",
    "from sklearn.neural_network import MLPRegressor\n",
    "from sklearn.model_selection import train_test_split\n",
    "from tqdm import tqdm\n",
    "from sklearn.metrics import mean_squared_error\n",
    "import scipy as sp"
   ]
  },
  {
   "cell_type": "code",
   "execution_count": 14,
   "metadata": {},
   "outputs": [],
   "source": [
    "NUM_RANDOM_SEEDS = 5\n",
    "MODEL_CLASS = \"lr\"\n",
    "EPSILON = 0.1\n",
    "NUM_PERTURBED_MODELS = 100"
   ]
  },
  {
   "cell_type": "code",
   "execution_count": 15,
   "metadata": {},
   "outputs": [],
   "source": [
    "data_source = \"data/obermeyer/obermeyer_data_cleaned.csv\"\n",
    "prediction_output = \"predictions/obermeyer/model_weight_perturbation_\"+MODEL_CLASS+\".csv\"\n",
    "target_variable = \"cost_t\"\n",
    "features = ['dem_female', 'dem_age_band_18-24_tm1', 'dem_age_band_25-34_tm1', 'dem_age_band_35-44_tm1', 'dem_age_band_45-54_tm1',\n",
    "            'dem_age_band_55-64_tm1', 'dem_age_band_65-74_tm1', 'dem_age_band_75+_tm1', 'hypertension_elixhauser_tm1', 'cost_dialysis_tm1',\n",
    "            'cost_emergency_tm1', 'cost_home_health_tm1', 'cost_ip_medical_tm1', 'cost_ip_surgical_tm1', 'cost_laboratory_tm1',\n",
    "            'cost_op_primary_care_tm1', 'cost_op_specialists_tm1', 'cost_op_surgery_tm1', 'cost_other_tm1', 'cost_pharmacy_tm1',\n",
    "            'cost_physical_therapy_tm1', 'cost_radiology_tm1', 'gagne_sum_tm1']\n",
    "other_variables = ['person_id', 'qualified_cost_25', 'qualified_cost_75', 'qualified_cost_50', 'qualified_gagne_1', 'qualified_gagne_2', 'qualified_gagne_3']"
   ]
  },
  {
   "cell_type": "code",
   "execution_count": 16,
   "metadata": {},
   "outputs": [],
   "source": [
    "df = pd.read_csv(data_source)\n",
    "X = df[features+other_variables]\n",
    "y = df[target_variable]"
   ]
  },
  {
   "cell_type": "code",
   "execution_count": 17,
   "metadata": {},
   "outputs": [],
   "source": [
    "def get_baseline_model_coefficients(X_train, y_train):\n",
    "    if MODEL_CLASS == \"lr\":\n",
    "        model = LinearRegression()\n",
    "    model.fit(X_train, y_train)\n",
    "    return model.coef_"
   ]
  },
  {
   "cell_type": "code",
   "execution_count": 18,
   "metadata": {},
   "outputs": [],
   "source": [
    "def get_perturbed_weights(baseline_weights, epsilon):\n",
    "    random_vector = np.random.randn(*baseline_weights.shape)\n",
    "    random_vector = random_vector / np.linalg.norm(random_vector)\n",
    "    perturbation = np.random.uniform(0, epsilon) * random_vector\n",
    "    w = baseline_weights + perturbation\n",
    "    return w"
   ]
  },
  {
   "cell_type": "code",
   "execution_count": 19,
   "metadata": {},
   "outputs": [],
   "source": [
    "def get_predictions_columns(X_test, baseline_weights, epsilon):\n",
    "    predictions = []\n",
    "    columns = []\n",
    "    for i in tqdm(range(NUM_PERTURBED_MODELS)):\n",
    "        perturbed_weights = get_perturbed_weights(baseline_weights, epsilon)\n",
    "        predictions.append(np.dot(X_test, perturbed_weights))\n",
    "        columns.append(f'm_{i+1}')\n",
    "    return predictions, columns"
   ]
  },
  {
   "cell_type": "code",
   "execution_count": 27,
   "metadata": {},
   "outputs": [
    {
     "name": "stdout",
     "output_type": "stream",
     "text": [
      "random seed 0\n"
     ]
    },
    {
     "name": "stderr",
     "output_type": "stream",
     "text": [
      "100%|███████████████████████████████████████| 100/100 [00:00<00:00, 2002.93it/s]\n"
     ]
    },
    {
     "name": "stdout",
     "output_type": "stream",
     "text": [
      "random seed 1\n"
     ]
    },
    {
     "name": "stderr",
     "output_type": "stream",
     "text": [
      "100%|███████████████████████████████████████| 100/100 [00:00<00:00, 2080.99it/s]\n"
     ]
    },
    {
     "name": "stdout",
     "output_type": "stream",
     "text": [
      "random seed 2\n"
     ]
    },
    {
     "name": "stderr",
     "output_type": "stream",
     "text": [
      "100%|███████████████████████████████████████| 100/100 [00:00<00:00, 2095.42it/s]\n"
     ]
    },
    {
     "name": "stdout",
     "output_type": "stream",
     "text": [
      "random seed 3\n"
     ]
    },
    {
     "name": "stderr",
     "output_type": "stream",
     "text": [
      "100%|███████████████████████████████████████| 100/100 [00:00<00:00, 2152.93it/s]\n"
     ]
    },
    {
     "name": "stdout",
     "output_type": "stream",
     "text": [
      "random seed 4\n"
     ]
    },
    {
     "name": "stderr",
     "output_type": "stream",
     "text": [
      "100%|███████████████████████████████████████| 100/100 [00:00<00:00, 2236.14it/s]\n"
     ]
    }
   ],
   "source": [
    "output = []\n",
    "for random_seed in range(NUM_RANDOM_SEEDS):\n",
    "    print(\"random seed\", random_seed)\n",
    "    X_train, X_test, y_train, y_test = train_test_split(X, y, test_size=0.33, random_state=random_seed)\n",
    "    \n",
    "    cost_threshold_25 = X_test['qualified_cost_25'].to_numpy()\n",
    "    cost_threshold_50 = X_test['qualified_cost_50'].to_numpy()\n",
    "    cost_threshold_75 = X_test['qualified_cost_75'].to_numpy()\n",
    "    gagne_threshold_1 = X_test['qualified_gagne_1'].to_numpy()\n",
    "    gagne_threshold_2 = X_test['qualified_gagne_2'].to_numpy()\n",
    "    gagne_threshold_3 = X_test['qualified_gagne_3'].to_numpy()\n",
    "    test_idx = X_test['person_id'].to_numpy()\n",
    "\n",
    "    # Combine X_train and X_test\n",
    "    X_combined = np.concatenate([\n",
    "        X_train.drop(columns=other_variables).to_numpy(),\n",
    "        X_test.drop(columns=other_variables).to_numpy()\n",
    "    ], axis=0)\n",
    "    \n",
    "    # Orthonormalize the combined matrix\n",
    "    intercept_idx = 0\n",
    "    X_combined = np.insert(X_combined, intercept_idx, 1.0, axis=1)\n",
    "    X_combined_orth = sp.linalg.orth(X_combined)\n",
    "    X_combined_orth = np.delete(X_combined_orth, intercept_idx, axis=1)\n",
    "    \n",
    "    # Split the combined orthonormalized matrix back into X_train and X_test\n",
    "    n_train = X_train.shape[0]\n",
    "    X_train = X_combined_orth[:n_train]\n",
    "    X_test = X_combined_orth[n_train:]\n",
    "    #X_train = X_train.drop(columns=other_variables).to_numpy()\n",
    "    #X_test = X_test.drop(columns=other_variables).to_numpy()\n",
    "\n",
    "\n",
    "    y_train = y_train.to_numpy()\n",
    "    y_test = y_test.to_numpy()\n",
    "\n",
    "    baseline_weights = get_baseline_model_coefficients(X_train, y_train)\n",
    "    predictions, columns = get_predictions_columns(X_test, baseline_weights, EPSILON)\n",
    "    \n",
    "    predictions_df = pd.DataFrame(predictions).transpose()\n",
    "    predictions_df.columns=columns\n",
    "    predictions_df[\"y\"] = y_test\n",
    "    predictions_df[\"person_id\"] = test_idx \n",
    "    predictions_df[\"seed\"] = random_seed\n",
    "    \n",
    "    predictions_df['qualified_cost_25'] = cost_threshold_25\n",
    "    predictions_df['qualified_cost_50'] = cost_threshold_50\n",
    "    predictions_df['qualified_cost_75'] = cost_threshold_75\n",
    "    predictions_df['qualified_gagne_1'] = gagne_threshold_1\n",
    "    predictions_df['qualified_gagne_2'] = gagne_threshold_2\n",
    "    predictions_df['qualified_gagne_3'] = gagne_threshold_3\n",
    "\n",
    "    output.append(predictions_df)\n",
    "output = pd.concat(output)"
   ]
  },
  {
   "cell_type": "code",
   "execution_count": 28,
   "metadata": {},
   "outputs": [
    {
     "data": {
      "text/html": [
       "<div>\n",
       "<style scoped>\n",
       "    .dataframe tbody tr th:only-of-type {\n",
       "        vertical-align: middle;\n",
       "    }\n",
       "\n",
       "    .dataframe tbody tr th {\n",
       "        vertical-align: top;\n",
       "    }\n",
       "\n",
       "    .dataframe thead th {\n",
       "        text-align: right;\n",
       "    }\n",
       "</style>\n",
       "<table border=\"1\" class=\"dataframe\">\n",
       "  <thead>\n",
       "    <tr style=\"text-align: right;\">\n",
       "      <th></th>\n",
       "      <th>m_1</th>\n",
       "      <th>m_2</th>\n",
       "      <th>m_3</th>\n",
       "      <th>m_4</th>\n",
       "      <th>m_5</th>\n",
       "      <th>m_6</th>\n",
       "      <th>m_7</th>\n",
       "      <th>m_8</th>\n",
       "      <th>m_9</th>\n",
       "      <th>m_10</th>\n",
       "      <th>...</th>\n",
       "      <th>m_100</th>\n",
       "      <th>y</th>\n",
       "      <th>person_id</th>\n",
       "      <th>seed</th>\n",
       "      <th>qualified_cost_25</th>\n",
       "      <th>qualified_cost_50</th>\n",
       "      <th>qualified_cost_75</th>\n",
       "      <th>qualified_gagne_1</th>\n",
       "      <th>qualified_gagne_2</th>\n",
       "      <th>qualified_gagne_3</th>\n",
       "    </tr>\n",
       "  </thead>\n",
       "  <tbody>\n",
       "    <tr>\n",
       "      <th>0</th>\n",
       "      <td>-0.006895</td>\n",
       "      <td>-0.006860</td>\n",
       "      <td>-0.006961</td>\n",
       "      <td>-0.006942</td>\n",
       "      <td>-0.006943</td>\n",
       "      <td>-0.006960</td>\n",
       "      <td>-0.006850</td>\n",
       "      <td>-0.006885</td>\n",
       "      <td>-0.006895</td>\n",
       "      <td>-0.006859</td>\n",
       "      <td>...</td>\n",
       "      <td>-0.006749</td>\n",
       "      <td>0.009628</td>\n",
       "      <td>2545</td>\n",
       "      <td>0</td>\n",
       "      <td>0</td>\n",
       "      <td>1</td>\n",
       "      <td>1</td>\n",
       "      <td>1</td>\n",
       "      <td>0</td>\n",
       "      <td>0</td>\n",
       "    </tr>\n",
       "    <tr>\n",
       "      <th>1</th>\n",
       "      <td>-0.000319</td>\n",
       "      <td>-0.000290</td>\n",
       "      <td>-0.000192</td>\n",
       "      <td>-0.000290</td>\n",
       "      <td>-0.000243</td>\n",
       "      <td>-0.000289</td>\n",
       "      <td>-0.000264</td>\n",
       "      <td>-0.000278</td>\n",
       "      <td>-0.000243</td>\n",
       "      <td>-0.000281</td>\n",
       "      <td>...</td>\n",
       "      <td>-0.000296</td>\n",
       "      <td>0.004905</td>\n",
       "      <td>8198</td>\n",
       "      <td>0</td>\n",
       "      <td>0</td>\n",
       "      <td>0</td>\n",
       "      <td>1</td>\n",
       "      <td>1</td>\n",
       "      <td>1</td>\n",
       "      <td>0</td>\n",
       "    </tr>\n",
       "    <tr>\n",
       "      <th>2</th>\n",
       "      <td>0.005642</td>\n",
       "      <td>0.005514</td>\n",
       "      <td>0.005640</td>\n",
       "      <td>0.005482</td>\n",
       "      <td>0.005524</td>\n",
       "      <td>0.005469</td>\n",
       "      <td>0.005553</td>\n",
       "      <td>0.005569</td>\n",
       "      <td>0.005633</td>\n",
       "      <td>0.005514</td>\n",
       "      <td>...</td>\n",
       "      <td>0.005221</td>\n",
       "      <td>0.009446</td>\n",
       "      <td>46461</td>\n",
       "      <td>0</td>\n",
       "      <td>0</td>\n",
       "      <td>1</td>\n",
       "      <td>1</td>\n",
       "      <td>0</td>\n",
       "      <td>0</td>\n",
       "      <td>0</td>\n",
       "    </tr>\n",
       "    <tr>\n",
       "      <th>3</th>\n",
       "      <td>-0.011559</td>\n",
       "      <td>-0.011712</td>\n",
       "      <td>-0.011597</td>\n",
       "      <td>-0.011541</td>\n",
       "      <td>-0.011707</td>\n",
       "      <td>-0.011757</td>\n",
       "      <td>-0.011710</td>\n",
       "      <td>-0.011720</td>\n",
       "      <td>-0.011693</td>\n",
       "      <td>-0.011781</td>\n",
       "      <td>...</td>\n",
       "      <td>-0.011596</td>\n",
       "      <td>0.002361</td>\n",
       "      <td>30620</td>\n",
       "      <td>0</td>\n",
       "      <td>0</td>\n",
       "      <td>0</td>\n",
       "      <td>1</td>\n",
       "      <td>0</td>\n",
       "      <td>0</td>\n",
       "      <td>0</td>\n",
       "    </tr>\n",
       "    <tr>\n",
       "      <th>4</th>\n",
       "      <td>-0.002397</td>\n",
       "      <td>-0.002779</td>\n",
       "      <td>-0.002622</td>\n",
       "      <td>-0.002816</td>\n",
       "      <td>-0.002862</td>\n",
       "      <td>-0.002866</td>\n",
       "      <td>-0.002767</td>\n",
       "      <td>-0.002808</td>\n",
       "      <td>-0.002819</td>\n",
       "      <td>-0.002803</td>\n",
       "      <td>...</td>\n",
       "      <td>-0.002643</td>\n",
       "      <td>0.003996</td>\n",
       "      <td>47418</td>\n",
       "      <td>0</td>\n",
       "      <td>0</td>\n",
       "      <td>0</td>\n",
       "      <td>1</td>\n",
       "      <td>1</td>\n",
       "      <td>1</td>\n",
       "      <td>0</td>\n",
       "    </tr>\n",
       "  </tbody>\n",
       "</table>\n",
       "<p>5 rows × 109 columns</p>\n",
       "</div>"
      ],
      "text/plain": [
       "        m_1       m_2       m_3       m_4       m_5       m_6       m_7  \\\n",
       "0 -0.006895 -0.006860 -0.006961 -0.006942 -0.006943 -0.006960 -0.006850   \n",
       "1 -0.000319 -0.000290 -0.000192 -0.000290 -0.000243 -0.000289 -0.000264   \n",
       "2  0.005642  0.005514  0.005640  0.005482  0.005524  0.005469  0.005553   \n",
       "3 -0.011559 -0.011712 -0.011597 -0.011541 -0.011707 -0.011757 -0.011710   \n",
       "4 -0.002397 -0.002779 -0.002622 -0.002816 -0.002862 -0.002866 -0.002767   \n",
       "\n",
       "        m_8       m_9      m_10  ...     m_100         y  person_id  seed  \\\n",
       "0 -0.006885 -0.006895 -0.006859  ... -0.006749  0.009628       2545     0   \n",
       "1 -0.000278 -0.000243 -0.000281  ... -0.000296  0.004905       8198     0   \n",
       "2  0.005569  0.005633  0.005514  ...  0.005221  0.009446      46461     0   \n",
       "3 -0.011720 -0.011693 -0.011781  ... -0.011596  0.002361      30620     0   \n",
       "4 -0.002808 -0.002819 -0.002803  ... -0.002643  0.003996      47418     0   \n",
       "\n",
       "   qualified_cost_25  qualified_cost_50  qualified_cost_75  qualified_gagne_1  \\\n",
       "0                  0                  1                  1                  1   \n",
       "1                  0                  0                  1                  1   \n",
       "2                  0                  1                  1                  0   \n",
       "3                  0                  0                  1                  0   \n",
       "4                  0                  0                  1                  1   \n",
       "\n",
       "   qualified_gagne_2  qualified_gagne_3  \n",
       "0                  0                  0  \n",
       "1                  1                  0  \n",
       "2                  0                  0  \n",
       "3                  0                  0  \n",
       "4                  1                  0  \n",
       "\n",
       "[5 rows x 109 columns]"
      ]
     },
     "execution_count": 28,
     "metadata": {},
     "output_type": "execute_result"
    }
   ],
   "source": [
    "output.head()"
   ]
  },
  {
   "cell_type": "code",
   "execution_count": 29,
   "metadata": {},
   "outputs": [
    {
     "name": "stdout",
     "output_type": "stream",
     "text": [
      "<class 'pandas.core.frame.DataFrame'>\n",
      "Index: 80495 entries, 0 to 16098\n",
      "Columns: 109 entries, m_1 to qualified_gagne_3\n",
      "dtypes: float64(101), int64(8)\n",
      "memory usage: 67.6 MB\n"
     ]
    }
   ],
   "source": [
    "output.info()"
   ]
  },
  {
   "cell_type": "code",
   "execution_count": 30,
   "metadata": {},
   "outputs": [],
   "source": [
    "output.to_csv(prediction_output, index=False)"
   ]
  },
  {
   "cell_type": "code",
   "execution_count": 35,
   "metadata": {},
   "outputs": [
    {
     "name": "stdout",
     "output_type": "stream",
     "text": [
      "0.0010677815574273667\n",
      "0.00106787081786986\n",
      "0.0010676674279346296\n",
      "0.001067718680443427\n",
      "0.0010677464965612336\n",
      "0.0010677849193506351\n",
      "0.0010677863113521281\n",
      "0.001067540876452576\n",
      "0.0010678586659573586\n",
      "0.001067925883381988\n",
      "0.0010678195320781242\n",
      "0.0010678285896931808\n",
      "0.0010677829885522227\n",
      "0.0010678810264436918\n",
      "0.001067758871357681\n",
      "0.0010674680749241897\n",
      "0.0010676986971594083\n",
      "0.0010679853835873813\n",
      "0.0010675868687960103\n",
      "0.0010678739521049806\n",
      "0.0010676416261707015\n",
      "0.0010677156721232409\n",
      "0.001067804030095661\n",
      "0.0010677097401678734\n",
      "0.0010679343698735573\n",
      "0.0010677526137731904\n",
      "0.0010678201428109186\n",
      "0.0010677689881927435\n",
      "0.0010678335320472923\n",
      "0.0010678442800411718\n",
      "0.0010678378627502626\n",
      "0.0010678914417320752\n",
      "0.001067803187921204\n",
      "0.0010679374317967784\n",
      "0.0010678125289776098\n",
      "0.0010675241052864868\n",
      "0.0010678651249766053\n",
      "0.0010678116743822463\n",
      "0.0010677434685988057\n",
      "0.0010677467579614797\n",
      "0.0010677164080885183\n",
      "0.0010678590148270595\n",
      "0.001067896363974434\n",
      "0.001068001363379565\n",
      "0.0010678442978597454\n",
      "0.0010678060797233609\n",
      "0.0010677392203975993\n",
      "0.001067750101981908\n",
      "0.0010678392898465288\n",
      "0.001067790041042254\n",
      "0.001067902050933096\n",
      "0.001067732526167932\n",
      "0.001067869412073458\n",
      "0.0010676277443609399\n",
      "0.0010677204677970668\n",
      "0.0010676408913925075\n",
      "0.0010676155767279385\n",
      "0.001067559534745533\n",
      "0.001067895439706766\n",
      "0.0010677756094616942\n",
      "0.0010677991396513813\n",
      "0.0010678191906632474\n",
      "0.0010676120370400658\n",
      "0.0010677671323618318\n",
      "0.0010679848152182995\n",
      "0.0010676671200431538\n",
      "0.0010675857552109274\n",
      "0.00106777371318199\n",
      "0.001067698725773804\n",
      "0.0010676808562930591\n",
      "0.0010677731157154357\n",
      "0.001067786464016041\n",
      "0.0010677393881980094\n",
      "0.001067675353643544\n",
      "0.001067697818637717\n",
      "0.0010676368465832972\n",
      "0.0010676082542940544\n",
      "0.001067951142292668\n",
      "0.0010678029883980135\n",
      "0.0010678082938208422\n",
      "0.001067728666757608\n",
      "0.001067842394382499\n",
      "0.0010678965011966717\n",
      "0.0010677972752162431\n",
      "0.0010678406190333617\n",
      "0.001067635554528286\n",
      "0.0010678849145159394\n",
      "0.0010677117533475992\n",
      "0.0010677477579430633\n",
      "0.0010677024534765545\n",
      "0.0010679220653206072\n",
      "0.0010678270987690163\n",
      "0.0010676605275693931\n",
      "0.0010677230712604665\n",
      "0.0010678262545877914\n",
      "0.0010676396608848132\n",
      "0.001067797509847099\n",
      "0.00106787252912094\n",
      "0.0010677841298698345\n",
      "0.0010675696177517707\n"
     ]
    }
   ],
   "source": [
    "for i in range(100):\n",
    "    se = np.mean((output['m_'+str(i+1)] - output['y']) ** 2)\n",
    "    print(se)"
   ]
  },
  {
   "cell_type": "code",
   "execution_count": null,
   "metadata": {},
   "outputs": [],
   "source": []
  }
 ],
 "metadata": {
  "kernelspec": {
   "display_name": "Python 3 (ipykernel)",
   "language": "python",
   "name": "python3"
  },
  "language_info": {
   "codemirror_mode": {
    "name": "ipython",
    "version": 3
   },
   "file_extension": ".py",
   "mimetype": "text/x-python",
   "name": "python",
   "nbconvert_exporter": "python",
   "pygments_lexer": "ipython3",
   "version": "3.13.0"
  }
 },
 "nbformat": 4,
 "nbformat_minor": 4
}
