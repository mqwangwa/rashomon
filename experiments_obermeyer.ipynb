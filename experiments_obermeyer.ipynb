{
 "cells": [
  {
   "cell_type": "code",
   "execution_count": 1,
   "id": "14cb5991-c013-4f15-8c41-4efceaafb6d7",
   "metadata": {},
   "outputs": [],
   "source": [
    "import pandas as pd\n",
    "import numpy as np\n",
    "from allocations import Allocations\n",
    "from metrics import Metrics"
   ]
  },
  {
   "cell_type": "code",
   "execution_count": 2,
   "id": "150afba9-061a-4743-832d-a815f62a8cee",
   "metadata": {},
   "outputs": [],
   "source": [
    "df = pd.read_csv(\"predictions/obermeyer/bootstrap_rf_0.csv\")\n",
    "data = pd.read_csv(\"data/obermeyer/obermeyer_data_cleaned.csv\")"
   ]
  },
  {
   "cell_type": "code",
   "execution_count": 5,
   "id": "4328a762-fc69-4cb6-ac40-48bba998a6db",
   "metadata": {},
   "outputs": [
    {
     "name": "stderr",
     "output_type": "stream",
     "text": [
      "/Users/shomik/Documents/MIT/Rashomon/rashomon/metrics.py:70: RuntimeWarning: Mean of empty slice\n",
      "  metric.append(np.nanmean(metric_inner))\n",
      "/Users/shomik/Documents/MIT/Rashomon/rashomon/metrics.py:251: RuntimeWarning: Mean of empty slice\n",
      "  metric_flattened = [np.nanmean(inner) for inner in metric]\n"
     ]
    },
    {
     "name": "stdout",
     "output_type": "stream",
     "text": [
      "(np.float64(0.034026715821016726), np.float64(0.024519142158864055), np.float64(0.25282858574809075), np.float64(0.03143789219580371))\n",
      "(np.float64(1.4885559623567945), np.float64(0.142995510901804), np.float64(1.7328587801568505), np.float64(0.057181692666898896))\n"
     ]
    },
    {
     "name": "stderr",
     "output_type": "stream",
     "text": [
      "/Users/shomik/Documents/MIT/Rashomon/rashomon/metrics.py:70: RuntimeWarning: Mean of empty slice\n",
      "  metric.append(np.nanmean(metric_inner))\n",
      "/Users/shomik/Documents/MIT/Rashomon/rashomon/metrics.py:251: RuntimeWarning: Mean of empty slice\n",
      "  metric_flattened = [np.nanmean(inner) for inner in metric]\n"
     ]
    },
    {
     "name": "stdout",
     "output_type": "stream",
     "text": [
      "(np.float64(0.028609268170640228), np.float64(0.026253438953010334), np.float64(0.2632306242748745), np.float64(0.030238170413159144))\n",
      "(np.float64(1.5001114353601352), np.float64(0.16083126948329515), np.float64(1.7027228415761055), np.float64(0.05432615968271526))\n"
     ]
    },
    {
     "name": "stderr",
     "output_type": "stream",
     "text": [
      "/Users/shomik/Documents/MIT/Rashomon/rashomon/metrics.py:70: RuntimeWarning: Mean of empty slice\n",
      "  metric.append(np.nanmean(metric_inner))\n",
      "/Users/shomik/Documents/MIT/Rashomon/rashomon/metrics.py:251: RuntimeWarning: Mean of empty slice\n",
      "  metric_flattened = [np.nanmean(inner) for inner in metric]\n"
     ]
    },
    {
     "name": "stdout",
     "output_type": "stream",
     "text": [
      "(np.float64(0.038035975217673774), np.float64(0.024029991811873527), np.float64(0.28332684142791936), np.float64(0.020210320231435045))\n",
      "(np.float64(1.4997313964764039), np.float64(0.14297186623776265), np.float64(1.6928147599802896), np.float64(0.050276772431695))\n"
     ]
    },
    {
     "name": "stderr",
     "output_type": "stream",
     "text": [
      "/Users/shomik/Documents/MIT/Rashomon/rashomon/metrics.py:70: RuntimeWarning: Mean of empty slice\n",
      "  metric.append(np.nanmean(metric_inner))\n"
     ]
    },
    {
     "name": "stdout",
     "output_type": "stream",
     "text": [
      "(np.float64(0.040960923591110705), np.float64(0.046572605495655645), np.float64(0.4623948783110817), np.float64(0.03079333268124515))\n",
      "(np.float64(1.7079039530090165), np.float64(0.08712894143077582), np.float64(1.7328587801568505), np.float64(0.057181692666898896))\n"
     ]
    },
    {
     "name": "stderr",
     "output_type": "stream",
     "text": [
      "/Users/shomik/Documents/MIT/Rashomon/rashomon/metrics.py:70: RuntimeWarning: Mean of empty slice\n",
      "  metric.append(np.nanmean(metric_inner))\n"
     ]
    },
    {
     "name": "stdout",
     "output_type": "stream",
     "text": [
      "(np.float64(0.05350616282956654), np.float64(0.05074047315408379), np.float64(0.4707773775320325), np.float64(0.03527757906599233))\n",
      "(np.float64(1.7044690722466818), np.float64(0.08074957569692727), np.float64(1.7027228415761055), np.float64(0.05432615968271526))\n"
     ]
    },
    {
     "name": "stderr",
     "output_type": "stream",
     "text": [
      "/Users/shomik/Documents/MIT/Rashomon/rashomon/metrics.py:70: RuntimeWarning: Mean of empty slice\n",
      "  metric.append(np.nanmean(metric_inner))\n",
      "/Users/shomik/Documents/MIT/Rashomon/rashomon/metrics.py:251: RuntimeWarning: Mean of empty slice\n",
      "  metric_flattened = [np.nanmean(inner) for inner in metric]\n"
     ]
    },
    {
     "name": "stdout",
     "output_type": "stream",
     "text": [
      "(np.float64(0.039523880493233535), np.float64(0.04870051323902472), np.float64(0.48736766537325615), np.float64(0.02837350871464362))\n",
      "(np.float64(1.6782576397506057), np.float64(0.09975370683857435), np.float64(1.6928147599802896), np.float64(0.050276772431695))\n"
     ]
    },
    {
     "name": "stderr",
     "output_type": "stream",
     "text": [
      "/Users/shomik/Documents/MIT/Rashomon/rashomon/metrics.py:70: RuntimeWarning: Mean of empty slice\n",
      "  metric.append(np.nanmean(metric_inner))\n"
     ]
    },
    {
     "name": "stdout",
     "output_type": "stream",
     "text": [
      "(np.float64(0.0731089802103086), np.float64(0.0657638599820458), np.float64(0.5921273972914816), np.float64(0.03631707484731803))\n",
      "(np.float64(1.7632856335184266), np.float64(0.05493866630315471), np.float64(1.7328587801568505), np.float64(0.057181692666898896))\n"
     ]
    },
    {
     "name": "stderr",
     "output_type": "stream",
     "text": [
      "/Users/shomik/Documents/MIT/Rashomon/rashomon/metrics.py:70: RuntimeWarning: Mean of empty slice\n",
      "  metric.append(np.nanmean(metric_inner))\n"
     ]
    },
    {
     "name": "stdout",
     "output_type": "stream",
     "text": [
      "(np.float64(0.04373449578256796), np.float64(0.05255837711093128), np.float64(0.5798846777616624), np.float64(0.04252343590639222))\n",
      "(np.float64(1.7580732454782082), np.float64(0.06288406614002402), np.float64(1.7027228415761055), np.float64(0.05432615968271526))\n"
     ]
    },
    {
     "name": "stderr",
     "output_type": "stream",
     "text": [
      "/Users/shomik/Documents/MIT/Rashomon/rashomon/metrics.py:70: RuntimeWarning: Mean of empty slice\n",
      "  metric.append(np.nanmean(metric_inner))\n"
     ]
    },
    {
     "name": "stdout",
     "output_type": "stream",
     "text": [
      "(np.float64(0.02584392322170881), np.float64(0.05477100538956645), np.float64(0.5914005623743094), np.float64(0.025428862349502167))\n",
      "(np.float64(1.7523596160687884), np.float64(0.06522734508367664), np.float64(1.6928147599802896), np.float64(0.050276772431695))\n"
     ]
    }
   ],
   "source": [
    "TEST_SIZE = 100\n",
    "RASHOMON_EPSILON = 0.01\n",
    "ITERATIONS_PER_SPLIT = 25\n",
    "\n",
    "all_results = []\n",
    "for SELECTION_RATE in [0.10, 0.25, 0.50]:\n",
    "    for QUALIFICATION_COLUMN in [\"qualified_gagne_3\", \"qualified_gagne_2\", \"qualified_gagne_1\"]:\n",
    "        a = Allocations(df, TEST_SIZE, SELECTION_RATE, QUALIFICATION_COLUMN, RASHOMON_EPSILON, ITERATIONS_PER_SPLIT)\n",
    "        allocations = a.get_allocations()\n",
    "        m = Metrics(allocations, data, QUALIFICATION_COLUMN)\n",
    "        results = {}\n",
    "        results[\"qualification_rate\"] = QUALIFICATION_COLUMN\n",
    "        results[\"selection_rate\"] = SELECTION_RATE\n",
    "        results[\"test_size\"] = TEST_SIZE\n",
    "        results[\"rashomon_epsilon\"] = RASHOMON_EPSILON\n",
    "\n",
    "        k_prime = m.k_prime()\n",
    "        results[\"k_prime_avg\"] = k_prime[0]\n",
    "        results[\"k_prime_std\"] = k_prime[1]\n",
    "        \n",
    "        n_prime = m.n_prime()\n",
    "        results[\"n_prime_avg\"] = n_prime[0]\n",
    "        results[\"n_prime_std\"] = n_prime[1]\n",
    "        \n",
    "        count_rashomon_allocations = m.count_rashomon_allocations()\n",
    "        results[\"count_rashomon_allocations_avg\"] = count_rashomon_allocations[0]\n",
    "        results[\"count_rashomon_allocations_std\"] = count_rashomon_allocations[1]\n",
    "        \n",
    "        count_rashomon_models = m.count_rashomon_models()\n",
    "        results[\"count_rashomon_models_avg\"] = count_rashomon_models[0]\n",
    "        results[\"count_rashomon_models_std\"] = count_rashomon_models[1]\n",
    "        \n",
    "        count_rashomon_models_per_allocation = m.count_rashomon_models_per_allocation()\n",
    "        results[\"count_rashomon_models_per_allocation_avg\"] = count_rashomon_models_per_allocation[0]\n",
    "        results[\"count_rashomon_models_per_allocation_std\"] = count_rashomon_models_per_allocation[1]\n",
    "        \n",
    "        systemic_exclusion = m.systemic_exclusion()\n",
    "        results[\"systemic_exclusion_avg\"] = systemic_exclusion[0]\n",
    "        results[\"systemic_exclusion_std\"] = systemic_exclusion[1]\n",
    "\n",
    "        systemic_exclusion = m.systemic_exclusion_pairwise()\n",
    "        results[\"systemic_exclusion_pairwise_avg\"] = systemic_exclusion[0]\n",
    "        results[\"systemic_exclusion_pairwise_std\"] = systemic_exclusion[1]\n",
    "\n",
    "        selections_by_qualification = m.selections_by_qualification()\n",
    "        results[\"qualified_selections_avg\"] = selections_by_qualification[0]\n",
    "        results[\"qualified_selections_std\"] = selections_by_qualification[1]\n",
    "        results[\"unqualified_selections_avg\"] = selections_by_qualification[2]\n",
    "        results[\"unqualified_selections_std\"] = selections_by_qualification[3]\n",
    "        \n",
    "        minority_selection_rate = m.minority_selection_rate(\"race\", 1)\n",
    "        results[\"minority_selection_avg\"] = minority_selection_rate[0]\n",
    "        results[\"minority_selection_std\"] = minority_selection_rate[1]\n",
    "        results[\"minority_selection_best_found\"] = minority_selection_rate[2]\n",
    "        \n",
    "        best_minority_selection_rate = m.best_minority_selection_rate(\"race\", 1)\n",
    "        results[\"best_minority_selection_avg\"] = best_minority_selection_rate[0]\n",
    "        results[\"best_minority_selection_std\"] = best_minority_selection_rate[1]\n",
    "        \n",
    "        feature_ratio_by_group = m.feature_ratio_by_group(\"race\", 1, 0, \"gagne_sum_t\")\n",
    "        results[\"feature_ratio_avg\"] = feature_ratio_by_group[0]\n",
    "        results[\"feature_ratio_std\"] = feature_ratio_by_group[1]\n",
    "        results[\"feature_ratio_best_found\"] = feature_ratio_by_group[2]\n",
    "        \n",
    "        best_feature_ratio = m.best_feature_ratio_by_group(\"race\", 1, 0, \"gagne_sum_t\")\n",
    "        results[\"best_feature_ratio_avg\"] = best_feature_ratio[0]\n",
    "        results[\"best_feature_ratio_std\"] = best_feature_ratio[1]\n",
    "        all_results.append(results)\n",
    "        \n",
    "        h = m.local_homogenization()\n",
    "        results[\"local_homog_avg\"] = h[0]\n",
    "        results[\"local_homog_std\"] = h[1]\n",
    "        results[\"baseline_local_homog_avg\"] = h[2]\n",
    "        results[\"baseline_local_homog_std\"] = h[3]\n",
    "        print(h)\n",
    "        \n",
    "        h = m.global_homogenization(\"age\")\n",
    "        results[\"global_homog_avg\"] = h[0]\n",
    "        results[\"global_homog_std\"] = h[1]\n",
    "        results[\"baseline_global_homog_avg\"] = h[2]\n",
    "        results[\"baseline_global_homog_std\"] = h[3]\n",
    "        print(h)\n",
    "        \n",
    "        all_results.append(results)"
   ]
  },
  {
   "cell_type": "code",
   "execution_count": 6,
   "id": "65227b05-a5ef-40b5-a5dc-3bd603b108f2",
   "metadata": {},
   "outputs": [],
   "source": [
    "all_results = pd.DataFrame(all_results)\n",
    "all_results.to_csv(\"results.csv\", index=False)"
   ]
  },
  {
   "cell_type": "code",
   "execution_count": null,
   "id": "9a58cb17-68ee-4ce1-90ea-8528200c24c6",
   "metadata": {},
   "outputs": [],
   "source": []
  }
 ],
 "metadata": {
  "kernelspec": {
   "display_name": "Python 3 (ipykernel)",
   "language": "python",
   "name": "python3"
  },
  "language_info": {
   "codemirror_mode": {
    "name": "ipython",
    "version": 3
   },
   "file_extension": ".py",
   "mimetype": "text/x-python",
   "name": "python",
   "nbconvert_exporter": "python",
   "pygments_lexer": "ipython3",
   "version": "3.13.0"
  }
 },
 "nbformat": 4,
 "nbformat_minor": 5
}
