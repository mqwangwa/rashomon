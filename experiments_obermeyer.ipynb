{
 "cells": [
  {
   "cell_type": "code",
   "execution_count": 1,
   "id": "14cb5991-c013-4f15-8c41-4efceaafb6d7",
   "metadata": {},
   "outputs": [],
   "source": [
    "import pandas as pd\n",
    "import numpy as np\n",
    "from allocations import Allocations\n",
    "from metrics import Metrics"
   ]
  },
  {
   "cell_type": "code",
   "execution_count": 2,
   "id": "150afba9-061a-4743-832d-a815f62a8cee",
   "metadata": {},
   "outputs": [],
   "source": [
    "df = pd.read_csv(\"predictions/obermeyer/test_bootstrap_lr_qualified_gagne_3.csv\")\n",
    "data = pd.read_csv(\"data/obermeyer/obermeyer_data_cleaned.csv\")\n",
    "QUALIFICATION_COLUMN = \"qualified_gagne_3\"\n",
    "output_file = \"results.csv\"\n",
    "\n",
    "data[\"age\"] = 0\n",
    "\n",
    "columns = ['dem_age_band_18-24_tm1',\n",
    "       'dem_age_band_25-34_tm1', 'dem_age_band_35-44_tm1',\n",
    "       'dem_age_band_45-54_tm1', 'dem_age_band_55-64_tm1',\n",
    "       'dem_age_band_65-74_tm1', 'dem_age_band_75+_tm1']\n",
    "for i,c in enumerate(columns):\n",
    "    data.loc[data[c]==1, \"age\"] = i"
   ]
  },
  {
   "cell_type": "code",
   "execution_count": 3,
   "id": "27c1ca10-90ad-414c-a6d6-c41c8ee21733",
   "metadata": {
    "scrolled": true
   },
   "outputs": [
    {
     "name": "stdout",
     "output_type": "stream",
     "text": [
      "0.1 100 0.01\n"
     ]
    },
    {
     "name": "stderr",
     "output_type": "stream",
     "text": [
      "/Users/shomik/Documents/MIT/Rashomon/rashomon/metrics.py:78: RuntimeWarning: Mean of empty slice\n",
      "  metric.append(np.nanmean(metric_inner))\n",
      "/Users/shomik/Documents/MIT/Rashomon/rashomon/metrics.py:280: RuntimeWarning: Mean of empty slice\n",
      "  metric_avg = [np.nanmean(inner) for inner in metric]\n",
      "/Users/shomik/Documents/MIT/Rashomon/rashomon/metrics.py:281: RuntimeWarning: All-NaN axis encountered\n",
      "  metric_best_found = [np.nanmin(inner) for inner in metric]\n"
     ]
    },
    {
     "name": "stdout",
     "output_type": "stream",
     "text": [
      "0.1 100 0.025\n"
     ]
    },
    {
     "name": "stderr",
     "output_type": "stream",
     "text": [
      "/Users/shomik/Documents/MIT/Rashomon/rashomon/metrics.py:78: RuntimeWarning: Mean of empty slice\n",
      "  metric.append(np.nanmean(metric_inner))\n",
      "/Users/shomik/Documents/MIT/Rashomon/rashomon/metrics.py:280: RuntimeWarning: Mean of empty slice\n",
      "  metric_avg = [np.nanmean(inner) for inner in metric]\n",
      "/Users/shomik/Documents/MIT/Rashomon/rashomon/metrics.py:281: RuntimeWarning: All-NaN axis encountered\n",
      "  metric_best_found = [np.nanmin(inner) for inner in metric]\n"
     ]
    },
    {
     "name": "stdout",
     "output_type": "stream",
     "text": [
      "0.1 1000 0.01\n",
      "0.1 1000 0.025\n",
      "0.25 100 0.01\n"
     ]
    },
    {
     "name": "stderr",
     "output_type": "stream",
     "text": [
      "/Users/shomik/Documents/MIT/Rashomon/rashomon/metrics.py:78: RuntimeWarning: Mean of empty slice\n",
      "  metric.append(np.nanmean(metric_inner))\n",
      "/Users/shomik/Documents/MIT/Rashomon/rashomon/metrics.py:280: RuntimeWarning: Mean of empty slice\n",
      "  metric_avg = [np.nanmean(inner) for inner in metric]\n",
      "/Users/shomik/Documents/MIT/Rashomon/rashomon/metrics.py:281: RuntimeWarning: All-NaN axis encountered\n",
      "  metric_best_found = [np.nanmin(inner) for inner in metric]\n"
     ]
    },
    {
     "name": "stdout",
     "output_type": "stream",
     "text": [
      "0.25 100 0.025\n"
     ]
    },
    {
     "name": "stderr",
     "output_type": "stream",
     "text": [
      "/Users/shomik/Documents/MIT/Rashomon/rashomon/metrics.py:78: RuntimeWarning: Mean of empty slice\n",
      "  metric.append(np.nanmean(metric_inner))\n",
      "/Users/shomik/Documents/MIT/Rashomon/rashomon/metrics.py:280: RuntimeWarning: Mean of empty slice\n",
      "  metric_avg = [np.nanmean(inner) for inner in metric]\n",
      "/Users/shomik/Documents/MIT/Rashomon/rashomon/metrics.py:281: RuntimeWarning: All-NaN axis encountered\n",
      "  metric_best_found = [np.nanmin(inner) for inner in metric]\n"
     ]
    },
    {
     "name": "stdout",
     "output_type": "stream",
     "text": [
      "0.25 1000 0.01\n",
      "0.25 1000 0.025\n",
      "0.5 100 0.01\n"
     ]
    },
    {
     "name": "stderr",
     "output_type": "stream",
     "text": [
      "/Users/shomik/Documents/MIT/Rashomon/rashomon/metrics.py:78: RuntimeWarning: Mean of empty slice\n",
      "  metric.append(np.nanmean(metric_inner))\n"
     ]
    },
    {
     "name": "stdout",
     "output_type": "stream",
     "text": [
      "0.5 100 0.025\n"
     ]
    },
    {
     "name": "stderr",
     "output_type": "stream",
     "text": [
      "/Users/shomik/Documents/MIT/Rashomon/rashomon/metrics.py:78: RuntimeWarning: Mean of empty slice\n",
      "  metric.append(np.nanmean(metric_inner))\n"
     ]
    },
    {
     "name": "stdout",
     "output_type": "stream",
     "text": [
      "0.5 1000 0.01\n",
      "0.5 1000 0.025\n"
     ]
    }
   ],
   "source": [
    "ITERATIONS_PER_SPLIT = 25\n",
    "\n",
    "all_results = []\n",
    "for SELECTION_RATE in [0.10, 0.25, 0.50]:\n",
    "    for TEST_SIZE in [100, 1000]:\n",
    "        for RASHOMON_EPSILON in [0.01, 0.025]:\n",
    "            print(SELECTION_RATE, TEST_SIZE, RASHOMON_EPSILON)\n",
    "            a = Allocations(df, TEST_SIZE, SELECTION_RATE, \"y\", RASHOMON_EPSILON, ITERATIONS_PER_SPLIT)\n",
    "            allocations = a.get_allocations()\n",
    "            m = Metrics(allocations, data, QUALIFICATION_COLUMN)\n",
    "            results = {}\n",
    "            results[\"qualification_rate\"] = QUALIFICATION_COLUMN\n",
    "            results[\"selection_rate\"] = SELECTION_RATE\n",
    "            results[\"test_size\"] = TEST_SIZE\n",
    "            results[\"rashomon_epsilon\"] = RASHOMON_EPSILON\n",
    "        \n",
    "            k_prime = m.k_prime()\n",
    "            results[\"k_prime_avg\"] = k_prime[0]\n",
    "            results[\"k_prime_std\"] = k_prime[1]\n",
    "            \n",
    "            n_prime = m.n_prime()\n",
    "            results[\"n_prime_avg\"] = n_prime[0]\n",
    "            results[\"n_prime_std\"] = n_prime[1]\n",
    "            \n",
    "            count_rashomon_allocations = m.count_rashomon_allocations()\n",
    "            results[\"count_rashomon_allocations_avg\"] = count_rashomon_allocations[0]\n",
    "            results[\"count_rashomon_allocations_std\"] = count_rashomon_allocations[1]\n",
    "            \n",
    "            count_rashomon_models = m.count_rashomon_models()\n",
    "            results[\"count_rashomon_models_avg\"] = count_rashomon_models[0]\n",
    "            results[\"count_rashomon_models_std\"] = count_rashomon_models[1]\n",
    "            \n",
    "            count_rashomon_models_per_allocation = m.count_rashomon_models_per_allocation()\n",
    "            results[\"count_rashomon_models_per_allocation_avg\"] = count_rashomon_models_per_allocation[0]\n",
    "            results[\"count_rashomon_models_per_allocation_std\"] = count_rashomon_models_per_allocation[1]\n",
    "            \n",
    "            systemic_exclusion = m.systemic_exclusion()\n",
    "            results[\"systemic_exclusion_avg\"] = systemic_exclusion[0]\n",
    "            results[\"systemic_exclusion_std\"] = systemic_exclusion[1]\n",
    "        \n",
    "            systemic_exclusion = m.systemic_exclusion_pairwise()\n",
    "            results[\"systemic_exclusion_pairwise_avg\"] = systemic_exclusion[0]\n",
    "            results[\"systemic_exclusion_pairwise_std\"] = systemic_exclusion[1]\n",
    "        \n",
    "            homogenization = m.homogenization_in_selected_individuals(\"age\")\n",
    "            results[\"age_homogenization_avg\"] = homogenization[0]\n",
    "            results[\"age_homogenization_std\"] = homogenization[1]\n",
    "            results[\"age_homogenization_baseline1_avg\"] = homogenization[2]\n",
    "            results[\"age_homogenization_baseline1_std\"] = homogenization[3]\n",
    "            results[\"age_homogenization_baseline2_avg\"] = homogenization[4]\n",
    "            results[\"age_homogenization_baseline2_std\"] = homogenization[5]\n",
    "        \n",
    "            homogenization = m.homogenization_in_individual_decisions()\n",
    "            results[\"decision_homogenization_avg\"] = homogenization[0]\n",
    "            results[\"decision_homogenization_std\"] = homogenization[1]\n",
    "            results[\"decision_homogenization_baseline_avg\"] = homogenization[2]\n",
    "            results[\"decision_homogenization_baseline_std\"] = homogenization[3]\n",
    "        \n",
    "            arbitrariness = m.arbitrariness()\n",
    "            results[\"arbitrary_qualified_avg\"] = arbitrariness[0]\n",
    "            results[\"arbitrary_qualified_std\"] = arbitrariness[1]\n",
    "            results[\"arbitrary_unqualified_avg\"] = arbitrariness[2]\n",
    "            results[\"arbitrary_unqualified_std\"] = arbitrariness[3]\n",
    "            \n",
    "            group = m.group_selection_rate(\"race\", 1)\n",
    "            results[\"black_selection_avg\"] = group[0]\n",
    "            results[\"black_selection_std\"] = group[1]\n",
    "            results[\"black_selection_best_found_avg\"] = group[2]\n",
    "            results[\"black_selection_best_found_std\"] = group[3]\n",
    "        \n",
    "        \n",
    "            group = m.group_selection_rate_best(\"race\", 1)\n",
    "            results[\"black_selection_best_possible1_avg\"] = group[0]\n",
    "            results[\"black_selection_best_possible1_std\"] = group[1]\n",
    "            results[\"black_selection_best_possible2_avg\"] = group[2]\n",
    "            results[\"black_selection_best_possible2_std\"] = group[3]\n",
    "        \n",
    "            group = m.group_feature_ratio(\"race\", 1, 0, \"gagne_sum_t\")\n",
    "            results[\"feature_ratio_avg\"] = group[0]\n",
    "            results[\"feature_ratio_std\"] = group[1]\n",
    "            results[\"feature_ratio_best_found_avg\"] = group[2]\n",
    "            results[\"feature_ratio_best_found_std\"] = group[3]\n",
    "                \n",
    "            group = m.group_feature_ratio_best(\"race\", 1, 0, \"gagne_sum_t\")\n",
    "            results[\"feature_ratio_best_possible1_avg\"] = group[0]\n",
    "            results[\"feature_ratio_best_possible1_std\"] = group[1]\n",
    "            results[\"feature_ratio_best_possible2_avg\"] = group[2]\n",
    "            results[\"feature_ratio_best_possible2_std\"] = group[3]\n",
    "            \n",
    "            all_results.append(results)"
   ]
  },
  {
   "cell_type": "code",
   "execution_count": 4,
   "id": "65227b05-a5ef-40b5-a5dc-3bd603b108f2",
   "metadata": {},
   "outputs": [],
   "source": [
    "all_results = pd.DataFrame(all_results)\n",
    "all_results.to_csv(output_file, index=False)"
   ]
  },
  {
   "cell_type": "code",
   "execution_count": null,
   "id": "4c7dddd1-e335-4794-b0f9-57e87f75fe42",
   "metadata": {},
   "outputs": [],
   "source": []
  }
 ],
 "metadata": {
  "kernelspec": {
   "display_name": "Python 3 (ipykernel)",
   "language": "python",
   "name": "python3"
  },
  "language_info": {
   "codemirror_mode": {
    "name": "ipython",
    "version": 3
   },
   "file_extension": ".py",
   "mimetype": "text/x-python",
   "name": "python",
   "nbconvert_exporter": "python",
   "pygments_lexer": "ipython3",
   "version": "3.13.0"
  }
 },
 "nbformat": 4,
 "nbformat_minor": 5
}
