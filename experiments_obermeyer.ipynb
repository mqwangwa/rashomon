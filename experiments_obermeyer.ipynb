{
 "cells": [
  {
   "cell_type": "code",
   "execution_count": 18,
   "id": "14cb5991-c013-4f15-8c41-4efceaafb6d7",
   "metadata": {},
   "outputs": [],
   "source": [
    "import pandas as pd\n",
    "import numpy as np\n",
    "from allocations import Allocations\n",
    "from metrics import Metrics"
   ]
  },
  {
   "cell_type": "code",
   "execution_count": 19,
   "id": "150afba9-061a-4743-832d-a815f62a8cee",
   "metadata": {},
   "outputs": [],
   "source": [
    "df = pd.read_csv(\"predictions/obermeyer/model_weight_perturbation_lr.csv\")\n",
    "data = pd.read_csv(\"data/obermeyer/obermeyer_data_cleaned.csv\")"
   ]
  },
  {
   "cell_type": "code",
   "execution_count": 20,
   "id": "4328a762-fc69-4cb6-ac40-48bba998a6db",
   "metadata": {},
   "outputs": [
    {
     "name": "stderr",
     "output_type": "stream",
     "text": [
      "/Users/margaretwang/Documents/2024-2025/SuperUROP/rashomon/metrics.py:70: RuntimeWarning: Mean of empty slice\n",
      "  metric.append(np.nanmean(metric_inner))\n",
      "/Users/margaretwang/Documents/2024-2025/SuperUROP/rashomon/metrics.py:72: RuntimeWarning: Mean of empty slice\n",
      "  return np.nanmean(metric), np.nanstd(metric)\n",
      "/Library/Frameworks/Python.framework/Versions/3.12/lib/python3.12/site-packages/numpy/lib/nanfunctions.py:1879: RuntimeWarning: Degrees of freedom <= 0 for slice.\n",
      "  var = nanvar(a, axis=axis, dtype=dtype, out=out, ddof=ddof,\n",
      "/Users/margaretwang/Documents/2024-2025/SuperUROP/rashomon/metrics.py:248: RuntimeWarning: divide by zero encountered in scalar divide\n",
      "  metric_inner.append(feature_group_num / feature_group_denom)\n",
      "/Users/margaretwang/Documents/2024-2025/SuperUROP/rashomon/metrics.py:248: RuntimeWarning: invalid value encountered in scalar divide\n",
      "  metric_inner.append(feature_group_num / feature_group_denom)\n",
      "/Users/margaretwang/Documents/2024-2025/SuperUROP/rashomon/metrics.py:251: RuntimeWarning: Mean of empty slice\n",
      "  metric_flattened = [np.nanmean(inner) for inner in metric]\n",
      "/Library/Frameworks/Python.framework/Versions/3.12/lib/python3.12/site-packages/numpy/lib/nanfunctions.py:1741: RuntimeWarning: invalid value encountered in subtract\n",
      "  np.subtract(arr, avg, out=arr, casting='unsafe', where=where)\n"
     ]
    },
    {
     "name": "stdout",
     "output_type": "stream",
     "text": [
      "(0.0, 0.0, 0.31160956854598365, 0.013477446430027792)\n",
      "(0.6204035477064718, 0.3494862256738542, 1.72298646042232, 0.05647947462537045)\n"
     ]
    },
    {
     "name": "stderr",
     "output_type": "stream",
     "text": [
      "/Users/margaretwang/Documents/2024-2025/SuperUROP/rashomon/metrics.py:70: RuntimeWarning: Mean of empty slice\n",
      "  metric.append(np.nanmean(metric_inner))\n",
      "/Users/margaretwang/Documents/2024-2025/SuperUROP/rashomon/metrics.py:72: RuntimeWarning: Mean of empty slice\n",
      "  return np.nanmean(metric), np.nanstd(metric)\n",
      "/Library/Frameworks/Python.framework/Versions/3.12/lib/python3.12/site-packages/numpy/lib/nanfunctions.py:1879: RuntimeWarning: Degrees of freedom <= 0 for slice.\n",
      "  var = nanvar(a, axis=axis, dtype=dtype, out=out, ddof=ddof,\n",
      "/Users/margaretwang/Documents/2024-2025/SuperUROP/rashomon/metrics.py:248: RuntimeWarning: divide by zero encountered in scalar divide\n",
      "  metric_inner.append(feature_group_num / feature_group_denom)\n",
      "/Users/margaretwang/Documents/2024-2025/SuperUROP/rashomon/metrics.py:248: RuntimeWarning: invalid value encountered in scalar divide\n",
      "  metric_inner.append(feature_group_num / feature_group_denom)\n",
      "/Users/margaretwang/Documents/2024-2025/SuperUROP/rashomon/metrics.py:251: RuntimeWarning: Mean of empty slice\n",
      "  metric_flattened = [np.nanmean(inner) for inner in metric]\n",
      "/Library/Frameworks/Python.framework/Versions/3.12/lib/python3.12/site-packages/numpy/lib/nanfunctions.py:1741: RuntimeWarning: invalid value encountered in subtract\n",
      "  np.subtract(arr, avg, out=arr, casting='unsafe', where=where)\n"
     ]
    },
    {
     "name": "stdout",
     "output_type": "stream",
     "text": [
      "(0.0, 0.0, 0.30447545188936265, 0.02122870664209606)\n",
      "(0.6204035477064718, 0.3494862256738542, 1.6950117221674796, 0.0591973952136307)\n"
     ]
    },
    {
     "name": "stderr",
     "output_type": "stream",
     "text": [
      "/Users/margaretwang/Documents/2024-2025/SuperUROP/rashomon/metrics.py:70: RuntimeWarning: Mean of empty slice\n",
      "  metric.append(np.nanmean(metric_inner))\n",
      "/Users/margaretwang/Documents/2024-2025/SuperUROP/rashomon/metrics.py:72: RuntimeWarning: Mean of empty slice\n",
      "  return np.nanmean(metric), np.nanstd(metric)\n",
      "/Library/Frameworks/Python.framework/Versions/3.12/lib/python3.12/site-packages/numpy/lib/nanfunctions.py:1879: RuntimeWarning: Degrees of freedom <= 0 for slice.\n",
      "  var = nanvar(a, axis=axis, dtype=dtype, out=out, ddof=ddof,\n",
      "/Users/margaretwang/Documents/2024-2025/SuperUROP/rashomon/metrics.py:248: RuntimeWarning: divide by zero encountered in scalar divide\n",
      "  metric_inner.append(feature_group_num / feature_group_denom)\n",
      "/Users/margaretwang/Documents/2024-2025/SuperUROP/rashomon/metrics.py:248: RuntimeWarning: invalid value encountered in scalar divide\n",
      "  metric_inner.append(feature_group_num / feature_group_denom)\n",
      "/Users/margaretwang/Documents/2024-2025/SuperUROP/rashomon/metrics.py:251: RuntimeWarning: Mean of empty slice\n",
      "  metric_flattened = [np.nanmean(inner) for inner in metric]\n",
      "/Library/Frameworks/Python.framework/Versions/3.12/lib/python3.12/site-packages/numpy/lib/nanfunctions.py:1741: RuntimeWarning: invalid value encountered in subtract\n",
      "  np.subtract(arr, avg, out=arr, casting='unsafe', where=where)\n"
     ]
    },
    {
     "name": "stdout",
     "output_type": "stream",
     "text": [
      "(0.0, 0.0, 0.29998943546202383, 0.022821285494640593)\n",
      "(0.6204035477064718, 0.3494862256738542, 1.6894007826658006, 0.05358461488520905)\n"
     ]
    },
    {
     "name": "stderr",
     "output_type": "stream",
     "text": [
      "/Users/margaretwang/Documents/2024-2025/SuperUROP/rashomon/metrics.py:70: RuntimeWarning: Mean of empty slice\n",
      "  metric.append(np.nanmean(metric_inner))\n",
      "/Users/margaretwang/Documents/2024-2025/SuperUROP/rashomon/metrics.py:72: RuntimeWarning: Mean of empty slice\n",
      "  return np.nanmean(metric), np.nanstd(metric)\n",
      "/Library/Frameworks/Python.framework/Versions/3.12/lib/python3.12/site-packages/numpy/lib/nanfunctions.py:1879: RuntimeWarning: Degrees of freedom <= 0 for slice.\n",
      "  var = nanvar(a, axis=axis, dtype=dtype, out=out, ddof=ddof,\n",
      "/Users/margaretwang/Documents/2024-2025/SuperUROP/rashomon/metrics.py:251: RuntimeWarning: Mean of empty slice\n",
      "  metric_flattened = [np.nanmean(inner) for inner in metric]\n"
     ]
    },
    {
     "name": "stdout",
     "output_type": "stream",
     "text": [
      "(0.0, 0.0, 0.5528277703382485, 0.012467972566770411)\n",
      "(1.0370770227232402, 0.25579903586528996, 1.72298646042232, 0.05647947462537045)\n"
     ]
    },
    {
     "name": "stderr",
     "output_type": "stream",
     "text": [
      "/Users/margaretwang/Documents/2024-2025/SuperUROP/rashomon/metrics.py:70: RuntimeWarning: Mean of empty slice\n",
      "  metric.append(np.nanmean(metric_inner))\n",
      "/Users/margaretwang/Documents/2024-2025/SuperUROP/rashomon/metrics.py:72: RuntimeWarning: Mean of empty slice\n",
      "  return np.nanmean(metric), np.nanstd(metric)\n",
      "/Library/Frameworks/Python.framework/Versions/3.12/lib/python3.12/site-packages/numpy/lib/nanfunctions.py:1879: RuntimeWarning: Degrees of freedom <= 0 for slice.\n",
      "  var = nanvar(a, axis=axis, dtype=dtype, out=out, ddof=ddof,\n",
      "/Users/margaretwang/Documents/2024-2025/SuperUROP/rashomon/metrics.py:251: RuntimeWarning: Mean of empty slice\n",
      "  metric_flattened = [np.nanmean(inner) for inner in metric]\n"
     ]
    },
    {
     "name": "stdout",
     "output_type": "stream",
     "text": [
      "(0.0, 0.0, 0.5485628420348362, 0.01449532275113821)\n",
      "(1.0370770227232402, 0.25579903586528996, 1.6950117221674796, 0.0591973952136307)\n"
     ]
    },
    {
     "name": "stderr",
     "output_type": "stream",
     "text": [
      "/Users/margaretwang/Documents/2024-2025/SuperUROP/rashomon/metrics.py:70: RuntimeWarning: Mean of empty slice\n",
      "  metric.append(np.nanmean(metric_inner))\n",
      "/Users/margaretwang/Documents/2024-2025/SuperUROP/rashomon/metrics.py:72: RuntimeWarning: Mean of empty slice\n",
      "  return np.nanmean(metric), np.nanstd(metric)\n",
      "/Library/Frameworks/Python.framework/Versions/3.12/lib/python3.12/site-packages/numpy/lib/nanfunctions.py:1879: RuntimeWarning: Degrees of freedom <= 0 for slice.\n",
      "  var = nanvar(a, axis=axis, dtype=dtype, out=out, ddof=ddof,\n",
      "/Users/margaretwang/Documents/2024-2025/SuperUROP/rashomon/metrics.py:251: RuntimeWarning: Mean of empty slice\n",
      "  metric_flattened = [np.nanmean(inner) for inner in metric]\n"
     ]
    },
    {
     "name": "stdout",
     "output_type": "stream",
     "text": [
      "(0.0, 0.0, 0.5458266713905396, 0.019128954626637735)\n",
      "(1.0370770227232402, 0.25579903586528996, 1.6894007826658006, 0.05358461488520905)\n"
     ]
    },
    {
     "name": "stderr",
     "output_type": "stream",
     "text": [
      "/Users/margaretwang/Documents/2024-2025/SuperUROP/rashomon/metrics.py:70: RuntimeWarning: Mean of empty slice\n",
      "  metric.append(np.nanmean(metric_inner))\n",
      "/Users/margaretwang/Documents/2024-2025/SuperUROP/rashomon/metrics.py:72: RuntimeWarning: Mean of empty slice\n",
      "  return np.nanmean(metric), np.nanstd(metric)\n",
      "/Library/Frameworks/Python.framework/Versions/3.12/lib/python3.12/site-packages/numpy/lib/nanfunctions.py:1879: RuntimeWarning: Degrees of freedom <= 0 for slice.\n",
      "  var = nanvar(a, axis=axis, dtype=dtype, out=out, ddof=ddof,\n"
     ]
    },
    {
     "name": "stdout",
     "output_type": "stream",
     "text": [
      "(0.0, 0.0, 0.6837126127911438, 0.012432254519738556)\n",
      "(1.4318418605278298, 0.21020555717943237, 1.72298646042232, 0.05647947462537045)\n"
     ]
    },
    {
     "name": "stderr",
     "output_type": "stream",
     "text": [
      "/Users/margaretwang/Documents/2024-2025/SuperUROP/rashomon/metrics.py:70: RuntimeWarning: Mean of empty slice\n",
      "  metric.append(np.nanmean(metric_inner))\n",
      "/Users/margaretwang/Documents/2024-2025/SuperUROP/rashomon/metrics.py:72: RuntimeWarning: Mean of empty slice\n",
      "  return np.nanmean(metric), np.nanstd(metric)\n",
      "/Library/Frameworks/Python.framework/Versions/3.12/lib/python3.12/site-packages/numpy/lib/nanfunctions.py:1879: RuntimeWarning: Degrees of freedom <= 0 for slice.\n",
      "  var = nanvar(a, axis=axis, dtype=dtype, out=out, ddof=ddof,\n"
     ]
    },
    {
     "name": "stdout",
     "output_type": "stream",
     "text": [
      "(0.0, 0.0, 0.6833224724778025, 0.011557713159351567)\n",
      "(1.4318418605278298, 0.21020555717943237, 1.6950117221674796, 0.0591973952136307)\n"
     ]
    },
    {
     "name": "stderr",
     "output_type": "stream",
     "text": [
      "/Users/margaretwang/Documents/2024-2025/SuperUROP/rashomon/metrics.py:70: RuntimeWarning: Mean of empty slice\n",
      "  metric.append(np.nanmean(metric_inner))\n",
      "/Users/margaretwang/Documents/2024-2025/SuperUROP/rashomon/metrics.py:72: RuntimeWarning: Mean of empty slice\n",
      "  return np.nanmean(metric), np.nanstd(metric)\n",
      "/Library/Frameworks/Python.framework/Versions/3.12/lib/python3.12/site-packages/numpy/lib/nanfunctions.py:1879: RuntimeWarning: Degrees of freedom <= 0 for slice.\n",
      "  var = nanvar(a, axis=axis, dtype=dtype, out=out, ddof=ddof,\n"
     ]
    },
    {
     "name": "stdout",
     "output_type": "stream",
     "text": [
      "(0.0, 0.0, 0.6819796285451085, 0.014825993816807078)\n",
      "(1.4318418605278298, 0.21020555717943237, 1.6894007826658006, 0.05358461488520905)\n"
     ]
    }
   ],
   "source": [
    "TEST_SIZE = 100\n",
    "RASHOMON_EPSILON = 0.01\n",
    "ITERATIONS_PER_SPLIT = 25\n",
    "\n",
    "all_results = []\n",
    "for SELECTION_RATE in [0.10, 0.25, 0.50]:\n",
    "    for QUALIFICATION_COLUMN in [\"qualified_gagne_3\", \"qualified_gagne_2\", \"qualified_gagne_1\"]:\n",
    "        a = Allocations(df, TEST_SIZE, SELECTION_RATE, QUALIFICATION_COLUMN, RASHOMON_EPSILON, ITERATIONS_PER_SPLIT)\n",
    "        allocations = a.get_allocations()\n",
    "        m = Metrics(allocations, data, QUALIFICATION_COLUMN)\n",
    "        results = {}\n",
    "        results[\"qualification_rate\"] = QUALIFICATION_COLUMN\n",
    "        results[\"selection_rate\"] = SELECTION_RATE\n",
    "        results[\"test_size\"] = TEST_SIZE\n",
    "        results[\"rashomon_epsilon\"] = RASHOMON_EPSILON\n",
    "\n",
    "        k_prime = m.k_prime()\n",
    "        results[\"k_prime_avg\"] = k_prime[0]\n",
    "        results[\"k_prime_std\"] = k_prime[1]\n",
    "        \n",
    "        n_prime = m.n_prime()\n",
    "        results[\"n_prime_avg\"] = n_prime[0]\n",
    "        results[\"n_prime_std\"] = n_prime[1]\n",
    "        \n",
    "        count_rashomon_allocations = m.count_rashomon_allocations()\n",
    "        results[\"count_rashomon_allocations_avg\"] = count_rashomon_allocations[0]\n",
    "        results[\"count_rashomon_allocations_std\"] = count_rashomon_allocations[1]\n",
    "        \n",
    "        count_rashomon_models = m.count_rashomon_models()\n",
    "        results[\"count_rashomon_models_avg\"] = count_rashomon_models[0]\n",
    "        results[\"count_rashomon_models_std\"] = count_rashomon_models[1]\n",
    "        \n",
    "        count_rashomon_models_per_allocation = m.count_rashomon_models_per_allocation()\n",
    "        results[\"count_rashomon_models_per_allocation_avg\"] = count_rashomon_models_per_allocation[0]\n",
    "        results[\"count_rashomon_models_per_allocation_std\"] = count_rashomon_models_per_allocation[1]\n",
    "        \n",
    "        systemic_exclusion = m.systemic_exclusion()\n",
    "        results[\"systemic_exclusion_avg\"] = systemic_exclusion[0]\n",
    "        results[\"systemic_exclusion_std\"] = systemic_exclusion[1]\n",
    "\n",
    "        systemic_exclusion = m.systemic_exclusion_pairwise()\n",
    "        results[\"systemic_exclusion_pairwise_avg\"] = systemic_exclusion[0]\n",
    "        results[\"systemic_exclusion_pairwise_std\"] = systemic_exclusion[1]\n",
    "\n",
    "        selections_by_qualification = m.selections_by_qualification()\n",
    "        results[\"qualified_selections_avg\"] = selections_by_qualification[0]\n",
    "        results[\"qualified_selections_std\"] = selections_by_qualification[1]\n",
    "        results[\"unqualified_selections_avg\"] = selections_by_qualification[2]\n",
    "        results[\"unqualified_selections_std\"] = selections_by_qualification[3]\n",
    "        \n",
    "        minority_selection_rate = m.minority_selection_rate(\"race\", 1)\n",
    "        results[\"minority_selection_avg\"] = minority_selection_rate[0]\n",
    "        results[\"minority_selection_std\"] = minority_selection_rate[1]\n",
    "        results[\"minority_selection_best_found\"] = minority_selection_rate[2]\n",
    "        \n",
    "        best_minority_selection_rate = m.best_minority_selection_rate(\"race\", 1)\n",
    "        results[\"best_minority_selection_avg\"] = best_minority_selection_rate[0]\n",
    "        results[\"best_minority_selection_std\"] = best_minority_selection_rate[1]\n",
    "        \n",
    "        feature_ratio_by_group = m.feature_ratio_by_group(\"race\", 1, 0, \"gagne_sum_t\")\n",
    "        results[\"feature_ratio_avg\"] = feature_ratio_by_group[0]\n",
    "        results[\"feature_ratio_std\"] = feature_ratio_by_group[1]\n",
    "        results[\"feature_ratio_best_found\"] = feature_ratio_by_group[2]\n",
    "        \n",
    "        best_feature_ratio = m.best_feature_ratio_by_group(\"race\", 1, 0, \"gagne_sum_t\")\n",
    "        results[\"best_feature_ratio_avg\"] = best_feature_ratio[0]\n",
    "        results[\"best_feature_ratio_std\"] = best_feature_ratio[1]\n",
    "        all_results.append(results)\n",
    "        \n",
    "        h = m.local_homogenization()\n",
    "        results[\"local_homog_avg\"] = h[0]\n",
    "        results[\"local_homog_std\"] = h[1]\n",
    "        results[\"baseline_local_homog_avg\"] = h[2]\n",
    "        results[\"baseline_local_homog_std\"] = h[3]\n",
    "        print(h)\n",
    "        \n",
    "        h = m.global_homogenization(\"age\")\n",
    "        results[\"global_homog_avg\"] = h[0]\n",
    "        results[\"global_homog_std\"] = h[1]\n",
    "        results[\"baseline_global_homog_avg\"] = h[2]\n",
    "        results[\"baseline_global_homog_std\"] = h[3]\n",
    "        print(h)\n",
    "        \n",
    "        all_results.append(results)"
   ]
  },
  {
   "cell_type": "code",
   "execution_count": 21,
   "id": "65227b05-a5ef-40b5-a5dc-3bd603b108f2",
   "metadata": {},
   "outputs": [],
   "source": [
    "all_results = pd.DataFrame(all_results)\n",
    "all_results.to_csv(\"results.csv\", index=False)"
   ]
  },
  {
   "cell_type": "code",
   "execution_count": null,
   "id": "9a58cb17-68ee-4ce1-90ea-8528200c24c6",
   "metadata": {},
   "outputs": [],
   "source": []
  }
 ],
 "metadata": {
  "kernelspec": {
   "display_name": "Python 3",
   "language": "python",
   "name": "python3"
  },
  "language_info": {
   "codemirror_mode": {
    "name": "ipython",
    "version": 3
   },
   "file_extension": ".py",
   "mimetype": "text/x-python",
   "name": "python",
   "nbconvert_exporter": "python",
   "pygments_lexer": "ipython3",
   "version": "3.12.1"
  }
 },
 "nbformat": 4,
 "nbformat_minor": 5
}
