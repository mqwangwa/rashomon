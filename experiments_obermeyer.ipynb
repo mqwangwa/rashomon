{
 "cells": [
  {
   "cell_type": "code",
   "execution_count": 1,
   "id": "14cb5991-c013-4f15-8c41-4efceaafb6d7",
   "metadata": {},
   "outputs": [],
   "source": [
    "import pandas as pd\n",
    "import numpy as np\n",
    "from allocations import Allocations\n",
    "from metrics import Metrics"
   ]
  },
  {
   "cell_type": "code",
   "execution_count": 2,
   "id": "150afba9-061a-4743-832d-a815f62a8cee",
   "metadata": {},
   "outputs": [],
   "source": [
    "df = pd.read_csv(\"predictions/obermeyer/bootstrap_lr.csv\")\n",
    "data = pd.read_csv(\"data/obermeyer/obermeyer_data_cleaned.csv\")"
   ]
  },
  {
   "cell_type": "code",
   "execution_count": 3,
   "id": "4328a762-fc69-4cb6-ac40-48bba998a6db",
   "metadata": {},
   "outputs": [
    {
     "name": "stdout",
     "output_type": "stream",
     "text": [
      "0.1 qualified_gagne_3\n",
      "(0.019697816653134855, 0.01434553066052333, 0.23496678694182663, 0.03360150840109481)\n",
      "(1.4726395214214307, 0.164023430921828, 1.72298646042232, 0.05647947462537045)\n",
      "0.1 qualified_gagne_2\n",
      "(0.021143073513279577, 0.014526458217576243, 0.24700235427834952, 0.02945086930388879)\n",
      "(1.4628550020611812, 0.16963650590552426, 1.6950117221674796, 0.0591973952136307)\n",
      "0.1 qualified_gagne_1\n",
      "(0.030194373926708075, 0.014015185301101239, 0.27510827264581195, 0.02036931472524293)\n",
      "(1.473101628882966, 0.1617594505043569, 1.6894007826658006, 0.05358461488520905)\n",
      "0.25 qualified_gagne_3\n",
      "(0.02854366408506015, 0.02184879618878157, 0.40904149137209683, 0.048758837228645484)\n",
      "(1.639326335521798, 0.10304937364720126, 1.72298646042232, 0.05647947462537045)\n",
      "0.25 qualified_gagne_2\n",
      "(0.026597708734593464, 0.021330672390381916, 0.4179635993514651, 0.04683115034005282)\n",
      "(1.6401837286699399, 0.10601365301403898, 1.6950117221674796, 0.0591973952136307)\n",
      "0.25 qualified_gagne_1\n",
      "(0.034037473284626085, 0.022132471669759228, 0.46181112988752593, 0.03596923801182214)\n",
      "(1.637323767350412, 0.10084937525350057, 1.6894007826658006, 0.05358461488520905)\n",
      "0.5 qualified_gagne_3\n",
      "(0.07156055664734148, 0.023502786402133533, 0.5625391287463969, 0.04120076437360517)\n",
      "(1.7153318695373978, 0.08322897016479738, 1.72298646042232, 0.05647947462537045)\n",
      "0.5 qualified_gagne_2\n",
      "(0.04114233326395547, 0.02911083150766938, 0.5201682596910276, 0.04991271145579288)\n",
      "(1.7169723929413663, 0.08646156353887682, 1.6950117221674796, 0.0591973952136307)\n",
      "0.5 qualified_gagne_1\n",
      "(0.034419657712919126, 0.025321610561549694, 0.5352964322309418, 0.05173148316475196)\n",
      "(1.7130390972568348, 0.08499299151472259, 1.6894007826658006, 0.05358461488520905)\n"
     ]
    }
   ],
   "source": [
    "TEST_SIZE = 100\n",
    "RASHOMON_EPSILON = 0.01\n",
    "ITERATIONS_PER_SPLIT = 25\n",
    "\n",
    "all_results = []\n",
    "for SELECTION_RATE in [0.10, 0.25, 0.50]:\n",
    "    for QUALIFICATION_COLUMN in [\"qualified_gagne_3\", \"qualified_gagne_2\", \"qualified_gagne_1\"]:\n",
    "        print(SELECTION_RATE, QUALIFICATION_COLUMN)\n",
    "        a = Allocations(df, TEST_SIZE, SELECTION_RATE, QUALIFICATION_COLUMN, RASHOMON_EPSILON, ITERATIONS_PER_SPLIT)\n",
    "        allocations = a.get_allocations()\n",
    "        m = Metrics(allocations, data, QUALIFICATION_COLUMN)\n",
    "        results = {}\n",
    "        results[\"qualification_rate\"] = QUALIFICATION_COLUMN\n",
    "        results[\"selection_rate\"] = SELECTION_RATE\n",
    "        results[\"test_size\"] = TEST_SIZE\n",
    "        results[\"rashomon_epsilon\"] = RASHOMON_EPSILON\n",
    "\n",
    "\n",
    "        h = m.local_homogenization()\n",
    "        results[\"local_homog_avg\"] = h[0]\n",
    "        results[\"local_homog_std\"] = h[1]\n",
    "        results[\"baseline_local_homog_avg\"] = h[2]\n",
    "        results[\"baseline_local_homog_std\"] = h[3]\n",
    "        print(h)\n",
    "        \n",
    "        h = m.global_homogenization(\"age\")\n",
    "        results[\"global_homog_avg\"] = h[0]\n",
    "        results[\"global_homog_std\"] = h[1]\n",
    "        results[\"baseline_global_homog_avg\"] = h[2]\n",
    "        results[\"baseline_global_homog_std\"] = h[3]\n",
    "        print(h)\n",
    "        \n",
    "        all_results.append(results)"
   ]
  },
  {
   "cell_type": "code",
   "execution_count": null,
   "id": "b29afd48-61b2-4925-bf72-f847cec4c63f",
   "metadata": {},
   "outputs": [],
   "source": []
  },
  {
   "cell_type": "code",
   "execution_count": null,
   "id": "4bd7a48c-3686-4bf6-81a1-c3acec39ee11",
   "metadata": {},
   "outputs": [],
   "source": []
  },
  {
   "cell_type": "code",
   "execution_count": 5,
   "id": "b1e26884-dc9e-4c36-b047-5ce8008f1fa8",
   "metadata": {},
   "outputs": [
    {
     "name": "stdout",
     "output_type": "stream",
     "text": [
      "0.1 0.25\n"
     ]
    },
    {
     "ename": "KeyError",
     "evalue": "0.25",
     "output_type": "error",
     "traceback": [
      "\u001b[0;31m---------------------------------------------------------------------------\u001b[0m",
      "\u001b[0;31mKeyError\u001b[0m                                  Traceback (most recent call last)",
      "File \u001b[0;32m/Library/Frameworks/Python.framework/Versions/3.12/lib/python3.12/site-packages/pandas/core/indexes/base.py:3802\u001b[0m, in \u001b[0;36mIndex.get_loc\u001b[0;34m(self, key)\u001b[0m\n\u001b[1;32m   3801\u001b[0m \u001b[38;5;28;01mtry\u001b[39;00m:\n\u001b[0;32m-> 3802\u001b[0m     \u001b[38;5;28;01mreturn\u001b[39;00m \u001b[38;5;28;43mself\u001b[39;49m\u001b[38;5;241;43m.\u001b[39;49m\u001b[43m_engine\u001b[49m\u001b[38;5;241;43m.\u001b[39;49m\u001b[43mget_loc\u001b[49m\u001b[43m(\u001b[49m\u001b[43mcasted_key\u001b[49m\u001b[43m)\u001b[49m\n\u001b[1;32m   3803\u001b[0m \u001b[38;5;28;01mexcept\u001b[39;00m \u001b[38;5;167;01mKeyError\u001b[39;00m \u001b[38;5;28;01mas\u001b[39;00m err:\n",
      "File \u001b[0;32mindex.pyx:153\u001b[0m, in \u001b[0;36mpandas._libs.index.IndexEngine.get_loc\u001b[0;34m()\u001b[0m\n",
      "File \u001b[0;32mindex.pyx:182\u001b[0m, in \u001b[0;36mpandas._libs.index.IndexEngine.get_loc\u001b[0;34m()\u001b[0m\n",
      "File \u001b[0;32mpandas/_libs/hashtable_class_helper.pxi:7081\u001b[0m, in \u001b[0;36mpandas._libs.hashtable.PyObjectHashTable.get_item\u001b[0;34m()\u001b[0m\n",
      "File \u001b[0;32mpandas/_libs/hashtable_class_helper.pxi:7089\u001b[0m, in \u001b[0;36mpandas._libs.hashtable.PyObjectHashTable.get_item\u001b[0;34m()\u001b[0m\n",
      "\u001b[0;31mKeyError\u001b[0m: 0.25",
      "\nThe above exception was the direct cause of the following exception:\n",
      "\u001b[0;31mKeyError\u001b[0m                                  Traceback (most recent call last)",
      "Cell \u001b[0;32mIn[5], line 10\u001b[0m\n\u001b[1;32m      8\u001b[0m \u001b[38;5;28mprint\u001b[39m(SELECTION_RATE, QUALIFICATION_RATE)\n\u001b[1;32m      9\u001b[0m a \u001b[38;5;241m=\u001b[39m Allocations(df, TEST_SIZE, SELECTION_RATE, QUALIFICATION_RATE, RASHOMON_EPSILON, ITERATIONS_PER_SPLIT)\n\u001b[0;32m---> 10\u001b[0m allocations \u001b[38;5;241m=\u001b[39m \u001b[43ma\u001b[49m\u001b[38;5;241;43m.\u001b[39;49m\u001b[43mget_allocations\u001b[49m\u001b[43m(\u001b[49m\u001b[43m)\u001b[49m\n\u001b[1;32m     11\u001b[0m m \u001b[38;5;241m=\u001b[39m Metrics(allocations, data, QUALIFICATION_RATE)\n\u001b[1;32m     12\u001b[0m results \u001b[38;5;241m=\u001b[39m {}\n",
      "File \u001b[0;32m~/Documents/2024-2025/SuperUROP/rashomon/allocations.py:67\u001b[0m, in \u001b[0;36mAllocations.get_allocations\u001b[0;34m(self)\u001b[0m\n\u001b[1;32m     64\u001b[0m \tsplit_df \u001b[38;5;241m=\u001b[39m \u001b[38;5;28mself\u001b[39m\u001b[38;5;241m.\u001b[39mdf[\u001b[38;5;28mself\u001b[39m\u001b[38;5;241m.\u001b[39mdf[\u001b[38;5;124m\"\u001b[39m\u001b[38;5;124mseed\u001b[39m\u001b[38;5;124m\"\u001b[39m]\u001b[38;5;241m==\u001b[39msplit]\u001b[38;5;241m.\u001b[39mcopy()\n\u001b[1;32m     66\u001b[0m \t\u001b[38;5;28;01mfor\u001b[39;00m i \u001b[38;5;129;01min\u001b[39;00m \u001b[38;5;28mrange\u001b[39m(\u001b[38;5;28mself\u001b[39m\u001b[38;5;241m.\u001b[39mITERATIONS_PER_SPLIT):\n\u001b[0;32m---> 67\u001b[0m \t\tallocation_data \u001b[38;5;241m+\u001b[39m\u001b[38;5;241m=\u001b[39m \u001b[38;5;28;43mself\u001b[39;49m\u001b[38;5;241;43m.\u001b[39;49m\u001b[43mcalculate_rashomon_allocations\u001b[49m\u001b[43m(\u001b[49m\u001b[43msplit\u001b[49m\u001b[43m,\u001b[49m\u001b[43m \u001b[49m\u001b[43mi\u001b[49m\u001b[43m,\u001b[49m\u001b[43m \u001b[49m\u001b[43msplit_df\u001b[49m\u001b[38;5;241;43m.\u001b[39;49m\u001b[43msample\u001b[49m\u001b[43m(\u001b[49m\u001b[43mn\u001b[49m\u001b[38;5;241;43m=\u001b[39;49m\u001b[38;5;28;43mself\u001b[39;49m\u001b[38;5;241;43m.\u001b[39;49m\u001b[43mTEST_SIZE\u001b[49m\u001b[43m,\u001b[49m\u001b[43m \u001b[49m\u001b[43mrandom_state\u001b[49m\u001b[38;5;241;43m=\u001b[39;49m\u001b[43mi\u001b[49m\u001b[43m)\u001b[49m\u001b[43m)\u001b[49m\n\u001b[1;32m     68\u001b[0m allocation_data \u001b[38;5;241m=\u001b[39m pd\u001b[38;5;241m.\u001b[39mDataFrame(allocation_data)\n\u001b[1;32m     69\u001b[0m \u001b[38;5;28;01mreturn\u001b[39;00m allocation_data\n",
      "File \u001b[0;32m~/Documents/2024-2025/SuperUROP/rashomon/allocations.py:23\u001b[0m, in \u001b[0;36mAllocations.calculate_rashomon_allocations\u001b[0;34m(self, seed, iteration, df)\u001b[0m\n\u001b[1;32m     21\u001b[0m \u001b[38;5;28;01mfor\u001b[39;00m model \u001b[38;5;129;01min\u001b[39;00m \u001b[38;5;28mrange\u001b[39m(\u001b[38;5;241m1\u001b[39m, \u001b[38;5;28mself\u001b[39m\u001b[38;5;241m.\u001b[39mNUM_MODELS\u001b[38;5;241m+\u001b[39m\u001b[38;5;241m1\u001b[39m):\n\u001b[1;32m     22\u001b[0m \tallocation \u001b[38;5;241m=\u001b[39m df[\u001b[38;5;124m\"\u001b[39m\u001b[38;5;124mm_\u001b[39m\u001b[38;5;124m\"\u001b[39m\u001b[38;5;241m+\u001b[39m\u001b[38;5;28mstr\u001b[39m(model)]\u001b[38;5;241m.\u001b[39mnlargest(\u001b[38;5;28mself\u001b[39m\u001b[38;5;241m.\u001b[39mk)\u001b[38;5;241m.\u001b[39mindex\u001b[38;5;241m.\u001b[39mto_list()\n\u001b[0;32m---> 23\u001b[0m \tk_prime[model] \u001b[38;5;241m=\u001b[39m \u001b[38;5;28mint\u001b[39m(\u001b[43mdf\u001b[49m\u001b[38;5;241;43m.\u001b[39;49m\u001b[43mloc\u001b[49m\u001b[43m[\u001b[49m\u001b[43mallocation\u001b[49m\u001b[43m,\u001b[49m\u001b[43m \u001b[49m\u001b[38;5;28;43mself\u001b[39;49m\u001b[38;5;241;43m.\u001b[39;49m\u001b[43mQUALIFICATION_COLUMN\u001b[49m\u001b[43m]\u001b[49m\u001b[38;5;241m.\u001b[39msum())\n\u001b[1;32m     24\u001b[0m best_k_prime \u001b[38;5;241m=\u001b[39m \u001b[38;5;28mmax\u001b[39m(k_prime\u001b[38;5;241m.\u001b[39mvalues())\n\u001b[1;32m     26\u001b[0m allocations \u001b[38;5;241m=\u001b[39m {}\n",
      "File \u001b[0;32m/Library/Frameworks/Python.framework/Versions/3.12/lib/python3.12/site-packages/pandas/core/indexing.py:1185\u001b[0m, in \u001b[0;36m_LocationIndexer.__getitem__\u001b[0;34m(self, key)\u001b[0m\n\u001b[1;32m   1183\u001b[0m     \u001b[38;5;28;01mif\u001b[39;00m \u001b[38;5;28mself\u001b[39m\u001b[38;5;241m.\u001b[39m_is_scalar_access(key):\n\u001b[1;32m   1184\u001b[0m         \u001b[38;5;28;01mreturn\u001b[39;00m \u001b[38;5;28mself\u001b[39m\u001b[38;5;241m.\u001b[39mobj\u001b[38;5;241m.\u001b[39m_get_value(\u001b[38;5;241m*\u001b[39mkey, takeable\u001b[38;5;241m=\u001b[39m\u001b[38;5;28mself\u001b[39m\u001b[38;5;241m.\u001b[39m_takeable)\n\u001b[0;32m-> 1185\u001b[0m     \u001b[38;5;28;01mreturn\u001b[39;00m \u001b[38;5;28;43mself\u001b[39;49m\u001b[38;5;241;43m.\u001b[39;49m\u001b[43m_getitem_tuple\u001b[49m\u001b[43m(\u001b[49m\u001b[43mkey\u001b[49m\u001b[43m)\u001b[49m\n\u001b[1;32m   1186\u001b[0m \u001b[38;5;28;01melse\u001b[39;00m:\n\u001b[1;32m   1187\u001b[0m     \u001b[38;5;66;03m# we by definition only have the 0th axis\u001b[39;00m\n\u001b[1;32m   1188\u001b[0m     axis \u001b[38;5;241m=\u001b[39m \u001b[38;5;28mself\u001b[39m\u001b[38;5;241m.\u001b[39maxis \u001b[38;5;129;01mor\u001b[39;00m \u001b[38;5;241m0\u001b[39m\n",
      "File \u001b[0;32m/Library/Frameworks/Python.framework/Versions/3.12/lib/python3.12/site-packages/pandas/core/indexing.py:1369\u001b[0m, in \u001b[0;36m_LocIndexer._getitem_tuple\u001b[0;34m(self, tup)\u001b[0m\n\u001b[1;32m   1367\u001b[0m \u001b[38;5;28;01mwith\u001b[39;00m suppress(IndexingError):\n\u001b[1;32m   1368\u001b[0m     tup \u001b[38;5;241m=\u001b[39m \u001b[38;5;28mself\u001b[39m\u001b[38;5;241m.\u001b[39m_expand_ellipsis(tup)\n\u001b[0;32m-> 1369\u001b[0m     \u001b[38;5;28;01mreturn\u001b[39;00m \u001b[38;5;28;43mself\u001b[39;49m\u001b[38;5;241;43m.\u001b[39;49m\u001b[43m_getitem_lowerdim\u001b[49m\u001b[43m(\u001b[49m\u001b[43mtup\u001b[49m\u001b[43m)\u001b[49m\n\u001b[1;32m   1371\u001b[0m \u001b[38;5;66;03m# no multi-index, so validate all of the indexers\u001b[39;00m\n\u001b[1;32m   1372\u001b[0m tup \u001b[38;5;241m=\u001b[39m \u001b[38;5;28mself\u001b[39m\u001b[38;5;241m.\u001b[39m_validate_tuple_indexer(tup)\n",
      "File \u001b[0;32m/Library/Frameworks/Python.framework/Versions/3.12/lib/python3.12/site-packages/pandas/core/indexing.py:1066\u001b[0m, in \u001b[0;36m_LocationIndexer._getitem_lowerdim\u001b[0;34m(self, tup)\u001b[0m\n\u001b[1;32m   1062\u001b[0m \u001b[38;5;28;01mfor\u001b[39;00m i, key \u001b[38;5;129;01min\u001b[39;00m \u001b[38;5;28menumerate\u001b[39m(tup):\n\u001b[1;32m   1063\u001b[0m     \u001b[38;5;28;01mif\u001b[39;00m is_label_like(key):\n\u001b[1;32m   1064\u001b[0m         \u001b[38;5;66;03m# We don't need to check for tuples here because those are\u001b[39;00m\n\u001b[1;32m   1065\u001b[0m         \u001b[38;5;66;03m#  caught by the _is_nested_tuple_indexer check above.\u001b[39;00m\n\u001b[0;32m-> 1066\u001b[0m         section \u001b[38;5;241m=\u001b[39m \u001b[38;5;28;43mself\u001b[39;49m\u001b[38;5;241;43m.\u001b[39;49m\u001b[43m_getitem_axis\u001b[49m\u001b[43m(\u001b[49m\u001b[43mkey\u001b[49m\u001b[43m,\u001b[49m\u001b[43m \u001b[49m\u001b[43maxis\u001b[49m\u001b[38;5;241;43m=\u001b[39;49m\u001b[43mi\u001b[49m\u001b[43m)\u001b[49m\n\u001b[1;32m   1068\u001b[0m         \u001b[38;5;66;03m# We should never have a scalar section here, because\u001b[39;00m\n\u001b[1;32m   1069\u001b[0m         \u001b[38;5;66;03m#  _getitem_lowerdim is only called after a check for\u001b[39;00m\n\u001b[1;32m   1070\u001b[0m         \u001b[38;5;66;03m#  is_scalar_access, which that would be.\u001b[39;00m\n\u001b[1;32m   1071\u001b[0m         \u001b[38;5;28;01mif\u001b[39;00m section\u001b[38;5;241m.\u001b[39mndim \u001b[38;5;241m==\u001b[39m \u001b[38;5;28mself\u001b[39m\u001b[38;5;241m.\u001b[39mndim:\n\u001b[1;32m   1072\u001b[0m             \u001b[38;5;66;03m# we're in the middle of slicing through a MultiIndex\u001b[39;00m\n\u001b[1;32m   1073\u001b[0m             \u001b[38;5;66;03m# revise the key wrt to `section` by inserting an _NS\u001b[39;00m\n",
      "File \u001b[0;32m/Library/Frameworks/Python.framework/Versions/3.12/lib/python3.12/site-packages/pandas/core/indexing.py:1432\u001b[0m, in \u001b[0;36m_LocIndexer._getitem_axis\u001b[0;34m(self, key, axis)\u001b[0m\n\u001b[1;32m   1430\u001b[0m \u001b[38;5;66;03m# fall thru to straight lookup\u001b[39;00m\n\u001b[1;32m   1431\u001b[0m \u001b[38;5;28mself\u001b[39m\u001b[38;5;241m.\u001b[39m_validate_key(key, axis)\n\u001b[0;32m-> 1432\u001b[0m \u001b[38;5;28;01mreturn\u001b[39;00m \u001b[38;5;28;43mself\u001b[39;49m\u001b[38;5;241;43m.\u001b[39;49m\u001b[43m_get_label\u001b[49m\u001b[43m(\u001b[49m\u001b[43mkey\u001b[49m\u001b[43m,\u001b[49m\u001b[43m \u001b[49m\u001b[43maxis\u001b[49m\u001b[38;5;241;43m=\u001b[39;49m\u001b[43maxis\u001b[49m\u001b[43m)\u001b[49m\n",
      "File \u001b[0;32m/Library/Frameworks/Python.framework/Versions/3.12/lib/python3.12/site-packages/pandas/core/indexing.py:1382\u001b[0m, in \u001b[0;36m_LocIndexer._get_label\u001b[0;34m(self, label, axis)\u001b[0m\n\u001b[1;32m   1380\u001b[0m \u001b[38;5;28;01mdef\u001b[39;00m \u001b[38;5;21m_get_label\u001b[39m(\u001b[38;5;28mself\u001b[39m, label, axis: AxisInt):\n\u001b[1;32m   1381\u001b[0m     \u001b[38;5;66;03m# GH#5567 this will fail if the label is not present in the axis.\u001b[39;00m\n\u001b[0;32m-> 1382\u001b[0m     \u001b[38;5;28;01mreturn\u001b[39;00m \u001b[38;5;28;43mself\u001b[39;49m\u001b[38;5;241;43m.\u001b[39;49m\u001b[43mobj\u001b[49m\u001b[38;5;241;43m.\u001b[39;49m\u001b[43mxs\u001b[49m\u001b[43m(\u001b[49m\u001b[43mlabel\u001b[49m\u001b[43m,\u001b[49m\u001b[43m \u001b[49m\u001b[43maxis\u001b[49m\u001b[38;5;241;43m=\u001b[39;49m\u001b[43maxis\u001b[49m\u001b[43m)\u001b[49m\n",
      "File \u001b[0;32m/Library/Frameworks/Python.framework/Versions/3.12/lib/python3.12/site-packages/pandas/core/generic.py:4281\u001b[0m, in \u001b[0;36mNDFrame.xs\u001b[0;34m(self, key, axis, level, drop_level)\u001b[0m\n\u001b[1;32m   4279\u001b[0m \u001b[38;5;28;01mif\u001b[39;00m axis \u001b[38;5;241m==\u001b[39m \u001b[38;5;241m1\u001b[39m:\n\u001b[1;32m   4280\u001b[0m     \u001b[38;5;28;01mif\u001b[39;00m drop_level:\n\u001b[0;32m-> 4281\u001b[0m         \u001b[38;5;28;01mreturn\u001b[39;00m \u001b[38;5;28;43mself\u001b[39;49m\u001b[43m[\u001b[49m\u001b[43mkey\u001b[49m\u001b[43m]\u001b[49m\n\u001b[1;32m   4282\u001b[0m     index \u001b[38;5;241m=\u001b[39m \u001b[38;5;28mself\u001b[39m\u001b[38;5;241m.\u001b[39mcolumns\n\u001b[1;32m   4283\u001b[0m \u001b[38;5;28;01melse\u001b[39;00m:\n",
      "File \u001b[0;32m/Library/Frameworks/Python.framework/Versions/3.12/lib/python3.12/site-packages/pandas/core/frame.py:4090\u001b[0m, in \u001b[0;36mDataFrame.__getitem__\u001b[0;34m(self, key)\u001b[0m\n\u001b[1;32m   4088\u001b[0m \u001b[38;5;28;01mif\u001b[39;00m \u001b[38;5;28mself\u001b[39m\u001b[38;5;241m.\u001b[39mcolumns\u001b[38;5;241m.\u001b[39mnlevels \u001b[38;5;241m>\u001b[39m \u001b[38;5;241m1\u001b[39m:\n\u001b[1;32m   4089\u001b[0m     \u001b[38;5;28;01mreturn\u001b[39;00m \u001b[38;5;28mself\u001b[39m\u001b[38;5;241m.\u001b[39m_getitem_multilevel(key)\n\u001b[0;32m-> 4090\u001b[0m indexer \u001b[38;5;241m=\u001b[39m \u001b[38;5;28;43mself\u001b[39;49m\u001b[38;5;241;43m.\u001b[39;49m\u001b[43mcolumns\u001b[49m\u001b[38;5;241;43m.\u001b[39;49m\u001b[43mget_loc\u001b[49m\u001b[43m(\u001b[49m\u001b[43mkey\u001b[49m\u001b[43m)\u001b[49m\n\u001b[1;32m   4091\u001b[0m \u001b[38;5;28;01mif\u001b[39;00m is_integer(indexer):\n\u001b[1;32m   4092\u001b[0m     indexer \u001b[38;5;241m=\u001b[39m [indexer]\n",
      "File \u001b[0;32m/Library/Frameworks/Python.framework/Versions/3.12/lib/python3.12/site-packages/pandas/core/indexes/base.py:3809\u001b[0m, in \u001b[0;36mIndex.get_loc\u001b[0;34m(self, key)\u001b[0m\n\u001b[1;32m   3804\u001b[0m     \u001b[38;5;28;01mif\u001b[39;00m \u001b[38;5;28misinstance\u001b[39m(casted_key, \u001b[38;5;28mslice\u001b[39m) \u001b[38;5;129;01mor\u001b[39;00m (\n\u001b[1;32m   3805\u001b[0m         \u001b[38;5;28misinstance\u001b[39m(casted_key, abc\u001b[38;5;241m.\u001b[39mIterable)\n\u001b[1;32m   3806\u001b[0m         \u001b[38;5;129;01mand\u001b[39;00m \u001b[38;5;28many\u001b[39m(\u001b[38;5;28misinstance\u001b[39m(x, \u001b[38;5;28mslice\u001b[39m) \u001b[38;5;28;01mfor\u001b[39;00m x \u001b[38;5;129;01min\u001b[39;00m casted_key)\n\u001b[1;32m   3807\u001b[0m     ):\n\u001b[1;32m   3808\u001b[0m         \u001b[38;5;28;01mraise\u001b[39;00m InvalidIndexError(key)\n\u001b[0;32m-> 3809\u001b[0m     \u001b[38;5;28;01mraise\u001b[39;00m \u001b[38;5;167;01mKeyError\u001b[39;00m(key) \u001b[38;5;28;01mfrom\u001b[39;00m \u001b[38;5;21;01merr\u001b[39;00m\n\u001b[1;32m   3810\u001b[0m \u001b[38;5;28;01mexcept\u001b[39;00m \u001b[38;5;167;01mTypeError\u001b[39;00m:\n\u001b[1;32m   3811\u001b[0m     \u001b[38;5;66;03m# If we have a listlike key, _check_indexing_error will raise\u001b[39;00m\n\u001b[1;32m   3812\u001b[0m     \u001b[38;5;66;03m#  InvalidIndexError. Otherwise we fall through and re-raise\u001b[39;00m\n\u001b[1;32m   3813\u001b[0m     \u001b[38;5;66;03m#  the TypeError.\u001b[39;00m\n\u001b[1;32m   3814\u001b[0m     \u001b[38;5;28mself\u001b[39m\u001b[38;5;241m.\u001b[39m_check_indexing_error(key)\n",
      "\u001b[0;31mKeyError\u001b[0m: 0.25"
     ]
    }
   ],
   "source": [
    "TEST_SIZE = 100\n",
    "RASHOMON_EPSILON = 0.01\n",
    "ITERATIONS_PER_SPLIT = 25\n",
    "\n",
    "all_results = []\n",
    "for SELECTION_RATE in [0.10, 0.25, 0.50]:\n",
    "    for QUALIFICATION_RATE in [0.25, 0.50, 0.75]:\n",
    "        print(SELECTION_RATE, QUALIFICATION_RATE)\n",
    "        a = Allocations(df, TEST_SIZE, SELECTION_RATE, QUALIFICATION_RATE, RASHOMON_EPSILON, ITERATIONS_PER_SPLIT)\n",
    "        allocations = a.get_allocations()\n",
    "        m = Metrics(allocations, data, QUALIFICATION_RATE)\n",
    "        results = {}\n",
    "        results[\"qualification_rate\"] = QUALIFICATION_RATE\n",
    "        results[\"selection_rate\"] = SELECTION_RATE\n",
    "        results[\"test_size\"] = TEST_SIZE\n",
    "        results[\"rashomon_epsilon\"] = RASHOMON_EPSILON\n",
    "\n",
    "        k_prime = m.k_prime()\n",
    "        results[\"k_prime_avg\"] = k_prime[0]\n",
    "        results[\"k_prime_std\"] = k_prime[1]\n",
    "        \n",
    "        n_prime = m.n_prime()\n",
    "        results[\"n_prime_avg\"] = n_prime[0]\n",
    "        results[\"n_prime_std\"] = n_prime[1]\n",
    "        \n",
    "        count_rashomon_allocations = m.count_rashomon_allocations()\n",
    "        results[\"count_rashomon_allocations_avg\"] = count_rashomon_allocations[0]\n",
    "        results[\"count_rashomon_allocations_std\"] = count_rashomon_allocations[1]\n",
    "        \n",
    "        count_rashomon_models = m.count_rashomon_models()\n",
    "        results[\"count_rashomon_models_avg\"] = count_rashomon_models[0]\n",
    "        results[\"count_rashomon_models_std\"] = count_rashomon_models[1]\n",
    "        \n",
    "        count_rashomon_models_per_allocation = m.count_rashomon_models_per_allocation()\n",
    "        results[\"count_rashomon_models_per_allocation_avg\"] = count_rashomon_models_per_allocation[0]\n",
    "        results[\"count_rashomon_models_per_allocation_std\"] = count_rashomon_models_per_allocation[1]\n",
    "        \n",
    "        systemic_exclusion = m.systemic_exclusion()\n",
    "        results[\"systemic_exclusion_avg\"] = systemic_exclusion[0]\n",
    "        results[\"systemic_exclusion_std\"] = systemic_exclusion[1]\n",
    "\n",
    "        systemic_exclusion = m.systemic_exclusion_pairwise()\n",
    "        results[\"systemic_exclusion_pairwise_avg\"] = systemic_exclusion[0]\n",
    "        results[\"systemic_exclusion_pairwise_std\"] = systemic_exclusion[1]\n",
    "\n",
    "        selections_by_qualification = m.selections_by_qualification()\n",
    "        results[\"qualified_selections_avg\"] = selections_by_qualification[0]\n",
    "        results[\"qualified_selections_std\"] = selections_by_qualification[1]\n",
    "        results[\"unqualified_selections_avg\"] = selections_by_qualification[2]\n",
    "        results[\"unqualified_selections_std\"] = selections_by_qualification[3]\n",
    "        \n",
    "        minority_selection_rate = m.minority_selection_rate(\"race\", 1)\n",
    "        results[\"minority_selection_avg\"] = minority_selection_rate[0]\n",
    "        results[\"minority_selection_std\"] = minority_selection_rate[1]\n",
    "        results[\"minority_selection_best_found\"] = minority_selection_rate[2]\n",
    "        \n",
    "        best_minority_selection_rate = m.best_minority_selection_rate(\"race\", 1)\n",
    "        results[\"best_minority_selection_avg\"] = best_minority_selection_rate[0]\n",
    "        results[\"best_minority_selection_std\"] = best_minority_selection_rate[1]\n",
    "        \n",
    "        feature_ratio_by_group = m.feature_ratio_by_group(\"race\", 1, 0, \"gagne_sum_t\")\n",
    "        results[\"feature_ratio_avg\"] = feature_ratio_by_group[0]\n",
    "        results[\"feature_ratio_std\"] = feature_ratio_by_group[1]\n",
    "        results[\"feature_ratio_best_found\"] = feature_ratio_by_group[2]\n",
    "        \n",
    "        best_feature_ratio = m.best_feature_ratio_by_group(\"race\", 1, 0, \"gagne_sum_t\")\n",
    "        results[\"best_feature_ratio_avg\"] = best_feature_ratio[0]\n",
    "        results[\"best_feature_ratio_std\"] = best_feature_ratio[1]\n",
    "        all_results.append(results)"
   ]
  },
  {
   "cell_type": "code",
   "execution_count": 4,
   "id": "65227b05-a5ef-40b5-a5dc-3bd603b108f2",
   "metadata": {},
   "outputs": [],
   "source": [
    "all_results = pd.DataFrame(all_results)\n",
    "all_results.to_csv(\"results.csv\", index=False)"
   ]
  },
  {
   "cell_type": "code",
   "execution_count": null,
   "id": "9a58cb17-68ee-4ce1-90ea-8528200c24c6",
   "metadata": {},
   "outputs": [],
   "source": []
  }
 ],
 "metadata": {
  "kernelspec": {
   "display_name": "Python 3",
   "language": "python",
   "name": "python3"
  },
  "language_info": {
   "codemirror_mode": {
    "name": "ipython",
    "version": 3
   },
   "file_extension": ".py",
   "mimetype": "text/x-python",
   "name": "python",
   "nbconvert_exporter": "python",
   "pygments_lexer": "ipython3",
   "version": "3.12.1"
  }
 },
 "nbformat": 4,
 "nbformat_minor": 5
}
