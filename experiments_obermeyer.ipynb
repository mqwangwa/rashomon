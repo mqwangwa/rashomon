{
 "cells": [
  {
   "cell_type": "code",
   "execution_count": 13,
   "id": "14cb5991-c013-4f15-8c41-4efceaafb6d7",
   "metadata": {},
   "outputs": [],
   "source": [
    "import pandas as pd\n",
    "import numpy as np\n",
    "from allocations import Allocations\n",
    "from metrics import Metrics"
   ]
  },
  {
   "cell_type": "code",
   "execution_count": 14,
   "id": "150afba9-061a-4743-832d-a815f62a8cee",
   "metadata": {},
   "outputs": [],
   "source": [
    "df = pd.read_csv(\"predictions/obermeyer/model_weight_perturbation_lr.csv\")\n",
    "data = pd.read_csv(\"data/obermeyer/obermeyer_data_cleaned.csv\")"
   ]
  },
  {
   "cell_type": "code",
   "execution_count": 15,
   "id": "4328a762-fc69-4cb6-ac40-48bba998a6db",
   "metadata": {},
   "outputs": [
    {
     "name": "stderr",
     "output_type": "stream",
     "text": [
      "/Users/shomik/Documents/MIT/Rashomon/rashomon/metrics.py:70: RuntimeWarning: Mean of empty slice\n",
      "  metric.append(np.nanmean(metric_inner))\n",
      "/Users/shomik/Documents/MIT/Rashomon/rashomon/metrics.py:251: RuntimeWarning: Mean of empty slice\n",
      "  metric_flattened = [np.nanmean(inner) for inner in metric]\n"
     ]
    },
    {
     "name": "stdout",
     "output_type": "stream",
     "text": [
      "(np.float64(0.0024964139326860714), np.float64(0.005618975857157076), np.float64(0.2541226865096361), np.float64(0.03439424193538983))\n",
      "(np.float64(1.4750362549560903), np.float64(0.18458438934857246), np.float64(1.72298646042232), np.float64(0.05647947462537045))\n"
     ]
    },
    {
     "name": "stderr",
     "output_type": "stream",
     "text": [
      "/Users/shomik/Documents/MIT/Rashomon/rashomon/metrics.py:70: RuntimeWarning: Mean of empty slice\n",
      "  metric.append(np.nanmean(metric_inner))\n",
      "/Users/shomik/Documents/MIT/Rashomon/rashomon/metrics.py:251: RuntimeWarning: Mean of empty slice\n",
      "  metric_flattened = [np.nanmean(inner) for inner in metric]\n"
     ]
    },
    {
     "name": "stdout",
     "output_type": "stream",
     "text": [
      "(np.float64(0.0033564584779155384), np.float64(0.006329342070079631), np.float64(0.2659454577336911), np.float64(0.028370420187370446))\n",
      "(np.float64(1.4786636585305488), np.float64(0.18293987403342177), np.float64(1.6950117221674796), np.float64(0.0591973952136307))\n"
     ]
    },
    {
     "name": "stderr",
     "output_type": "stream",
     "text": [
      "/Users/shomik/Documents/MIT/Rashomon/rashomon/metrics.py:70: RuntimeWarning: Mean of empty slice\n",
      "  metric.append(np.nanmean(metric_inner))\n",
      "/Users/shomik/Documents/MIT/Rashomon/rashomon/metrics.py:251: RuntimeWarning: Mean of empty slice\n",
      "  metric_flattened = [np.nanmean(inner) for inner in metric]\n"
     ]
    },
    {
     "name": "stdout",
     "output_type": "stream",
     "text": [
      "(np.float64(0.003758212821972739), np.float64(0.006832064564785756), np.float64(0.28527929639344585), np.float64(0.02118543777612456))\n",
      "(np.float64(1.479451935541859), np.float64(0.1835959526143604), np.float64(1.6894007826658006), np.float64(0.05358461488520905))\n"
     ]
    },
    {
     "name": "stderr",
     "output_type": "stream",
     "text": [
      "/Users/shomik/Documents/MIT/Rashomon/rashomon/metrics.py:70: RuntimeWarning: Mean of empty slice\n",
      "  metric.append(np.nanmean(metric_inner))\n",
      "/Users/shomik/Documents/MIT/Rashomon/rashomon/metrics.py:251: RuntimeWarning: Mean of empty slice\n",
      "  metric_flattened = [np.nanmean(inner) for inner in metric]\n"
     ]
    },
    {
     "name": "stdout",
     "output_type": "stream",
     "text": [
      "(np.float64(0.007611203439585802), np.float64(0.008731404273137984), np.float64(0.4396756688337594), np.float64(0.04419518757012058))\n",
      "(np.float64(1.6485807509148582), np.float64(0.10177897248092925), np.float64(1.72298646042232), np.float64(0.05647947462537045))\n"
     ]
    },
    {
     "name": "stderr",
     "output_type": "stream",
     "text": [
      "/Users/shomik/Documents/MIT/Rashomon/rashomon/metrics.py:70: RuntimeWarning: Mean of empty slice\n",
      "  metric.append(np.nanmean(metric_inner))\n",
      "/Users/shomik/Documents/MIT/Rashomon/rashomon/metrics.py:251: RuntimeWarning: Mean of empty slice\n",
      "  metric_flattened = [np.nanmean(inner) for inner in metric]\n"
     ]
    },
    {
     "name": "stdout",
     "output_type": "stream",
     "text": [
      "(np.float64(0.007139132092671659), np.float64(0.009256544267786167), np.float64(0.4486361522480715), np.float64(0.03943641901116265))\n",
      "(np.float64(1.6514268792672964), np.float64(0.10327112446288467), np.float64(1.6950117221674796), np.float64(0.0591973952136307))\n"
     ]
    },
    {
     "name": "stderr",
     "output_type": "stream",
     "text": [
      "/Users/shomik/Documents/MIT/Rashomon/rashomon/metrics.py:70: RuntimeWarning: Mean of empty slice\n",
      "  metric.append(np.nanmean(metric_inner))\n",
      "/Users/shomik/Documents/MIT/Rashomon/rashomon/metrics.py:251: RuntimeWarning: Mean of empty slice\n",
      "  metric_flattened = [np.nanmean(inner) for inner in metric]\n"
     ]
    },
    {
     "name": "stdout",
     "output_type": "stream",
     "text": [
      "(np.float64(0.009460157671797894), np.float64(0.009246690042139358), np.float64(0.48479994107465296), np.float64(0.03555118566247478))\n",
      "(np.float64(1.6508647941610246), np.float64(0.10323140565550465), np.float64(1.6894007826658006), np.float64(0.05358461488520905))\n"
     ]
    },
    {
     "name": "stderr",
     "output_type": "stream",
     "text": [
      "/Users/shomik/Documents/MIT/Rashomon/rashomon/metrics.py:70: RuntimeWarning: Mean of empty slice\n",
      "  metric.append(np.nanmean(metric_inner))\n",
      "/Users/shomik/Documents/MIT/Rashomon/rashomon/metrics.py:251: RuntimeWarning: Mean of empty slice\n",
      "  metric_flattened = [np.nanmean(inner) for inner in metric]\n"
     ]
    },
    {
     "name": "stdout",
     "output_type": "stream",
     "text": [
      "(np.float64(0.020279260593755486), np.float64(0.01172951941057496), np.float64(0.5745430442884651), np.float64(0.040215097571518574))\n",
      "(np.float64(1.7136180237817737), np.float64(0.08903407090757959), np.float64(1.72298646042232), np.float64(0.05647947462537045))\n"
     ]
    },
    {
     "name": "stderr",
     "output_type": "stream",
     "text": [
      "/Users/shomik/Documents/MIT/Rashomon/rashomon/metrics.py:70: RuntimeWarning: Mean of empty slice\n",
      "  metric.append(np.nanmean(metric_inner))\n",
      "/Users/shomik/Documents/MIT/Rashomon/rashomon/metrics.py:251: RuntimeWarning: Mean of empty slice\n",
      "  metric_flattened = [np.nanmean(inner) for inner in metric]\n"
     ]
    },
    {
     "name": "stdout",
     "output_type": "stream",
     "text": [
      "(np.float64(0.013302166739604857), np.float64(0.011281315677484742), np.float64(0.5478770409460804), np.float64(0.04754310516177178))\n",
      "(np.float64(1.7143846532710707), np.float64(0.08930730565462922), np.float64(1.6950117221674796), np.float64(0.0591973952136307))\n"
     ]
    },
    {
     "name": "stderr",
     "output_type": "stream",
     "text": [
      "/Users/shomik/Documents/MIT/Rashomon/rashomon/metrics.py:70: RuntimeWarning: Mean of empty slice\n",
      "  metric.append(np.nanmean(metric_inner))\n",
      "/Users/shomik/Documents/MIT/Rashomon/rashomon/metrics.py:251: RuntimeWarning: Mean of empty slice\n",
      "  metric_flattened = [np.nanmean(inner) for inner in metric]\n"
     ]
    },
    {
     "name": "stdout",
     "output_type": "stream",
     "text": [
      "(np.float64(0.010334325106285812), np.float64(0.009853773978387707), np.float64(0.5640007782569498), np.float64(0.0469139659379654))\n",
      "(np.float64(1.7140200950364486), np.float64(0.08880572102956107), np.float64(1.6894007826658006), np.float64(0.05358461488520905))\n"
     ]
    }
   ],
   "source": [
    "TEST_SIZE = 100\n",
    "RASHOMON_EPSILON = 0.01\n",
    "ITERATIONS_PER_SPLIT = 25\n",
    "\n",
    "all_results = []\n",
    "for SELECTION_RATE in [0.10, 0.25, 0.50]:\n",
    "    for QUALIFICATION_COLUMN in [\"qualified_gagne_3\", \"qualified_gagne_2\", \"qualified_gagne_1\"]:\n",
    "        a = Allocations(df, TEST_SIZE, SELECTION_RATE, QUALIFICATION_COLUMN, RASHOMON_EPSILON, ITERATIONS_PER_SPLIT)\n",
    "        allocations = a.get_allocations()\n",
    "        m = Metrics(allocations, data, QUALIFICATION_COLUMN)\n",
    "        results = {}\n",
    "        results[\"qualification_rate\"] = QUALIFICATION_COLUMN\n",
    "        results[\"selection_rate\"] = SELECTION_RATE\n",
    "        results[\"test_size\"] = TEST_SIZE\n",
    "        results[\"rashomon_epsilon\"] = RASHOMON_EPSILON\n",
    "\n",
    "        k_prime = m.k_prime()\n",
    "        results[\"k_prime_avg\"] = k_prime[0]\n",
    "        results[\"k_prime_std\"] = k_prime[1]\n",
    "        \n",
    "        n_prime = m.n_prime()\n",
    "        results[\"n_prime_avg\"] = n_prime[0]\n",
    "        results[\"n_prime_std\"] = n_prime[1]\n",
    "        \n",
    "        count_rashomon_allocations = m.count_rashomon_allocations()\n",
    "        results[\"count_rashomon_allocations_avg\"] = count_rashomon_allocations[0]\n",
    "        results[\"count_rashomon_allocations_std\"] = count_rashomon_allocations[1]\n",
    "        \n",
    "        count_rashomon_models = m.count_rashomon_models()\n",
    "        results[\"count_rashomon_models_avg\"] = count_rashomon_models[0]\n",
    "        results[\"count_rashomon_models_std\"] = count_rashomon_models[1]\n",
    "        \n",
    "        count_rashomon_models_per_allocation = m.count_rashomon_models_per_allocation()\n",
    "        results[\"count_rashomon_models_per_allocation_avg\"] = count_rashomon_models_per_allocation[0]\n",
    "        results[\"count_rashomon_models_per_allocation_std\"] = count_rashomon_models_per_allocation[1]\n",
    "        \n",
    "        systemic_exclusion = m.systemic_exclusion()\n",
    "        results[\"systemic_exclusion_avg\"] = systemic_exclusion[0]\n",
    "        results[\"systemic_exclusion_std\"] = systemic_exclusion[1]\n",
    "\n",
    "        systemic_exclusion = m.systemic_exclusion_pairwise()\n",
    "        results[\"systemic_exclusion_pairwise_avg\"] = systemic_exclusion[0]\n",
    "        results[\"systemic_exclusion_pairwise_std\"] = systemic_exclusion[1]\n",
    "\n",
    "        selections_by_qualification = m.selections_by_qualification()\n",
    "        results[\"qualified_selections_avg\"] = selections_by_qualification[0]\n",
    "        results[\"qualified_selections_std\"] = selections_by_qualification[1]\n",
    "        results[\"unqualified_selections_avg\"] = selections_by_qualification[2]\n",
    "        results[\"unqualified_selections_std\"] = selections_by_qualification[3]\n",
    "        \n",
    "        minority_selection_rate = m.minority_selection_rate(\"race\", 1)\n",
    "        results[\"minority_selection_avg\"] = minority_selection_rate[0]\n",
    "        results[\"minority_selection_std\"] = minority_selection_rate[1]\n",
    "        results[\"minority_selection_best_found\"] = minority_selection_rate[2]\n",
    "        \n",
    "        best_minority_selection_rate = m.best_minority_selection_rate(\"race\", 1)\n",
    "        results[\"best_minority_selection_avg\"] = best_minority_selection_rate[0]\n",
    "        results[\"best_minority_selection_std\"] = best_minority_selection_rate[1]\n",
    "        \n",
    "        feature_ratio_by_group = m.feature_ratio_by_group(\"race\", 1, 0, \"gagne_sum_t\")\n",
    "        results[\"feature_ratio_avg\"] = feature_ratio_by_group[0]\n",
    "        results[\"feature_ratio_std\"] = feature_ratio_by_group[1]\n",
    "        results[\"feature_ratio_best_found\"] = feature_ratio_by_group[2]\n",
    "        \n",
    "        best_feature_ratio = m.best_feature_ratio_by_group(\"race\", 1, 0, \"gagne_sum_t\")\n",
    "        results[\"best_feature_ratio_avg\"] = best_feature_ratio[0]\n",
    "        results[\"best_feature_ratio_std\"] = best_feature_ratio[1]\n",
    "        all_results.append(results)\n",
    "        \n",
    "        h = m.local_homogenization()\n",
    "        results[\"local_homog_avg\"] = h[0]\n",
    "        results[\"local_homog_std\"] = h[1]\n",
    "        results[\"baseline_local_homog_avg\"] = h[2]\n",
    "        results[\"baseline_local_homog_std\"] = h[3]\n",
    "        print(h)\n",
    "        \n",
    "        h = m.global_homogenization(\"age\")\n",
    "        results[\"global_homog_avg\"] = h[0]\n",
    "        results[\"global_homog_std\"] = h[1]\n",
    "        results[\"baseline_global_homog_avg\"] = h[2]\n",
    "        results[\"baseline_global_homog_std\"] = h[3]\n",
    "        print(h)\n",
    "        \n",
    "        all_results.append(results)"
   ]
  },
  {
   "cell_type": "code",
   "execution_count": 16,
   "id": "65227b05-a5ef-40b5-a5dc-3bd603b108f2",
   "metadata": {},
   "outputs": [],
   "source": [
    "all_results = pd.DataFrame(all_results)\n",
    "all_results.to_csv(\"results3.csv\", index=False)"
   ]
  },
  {
   "cell_type": "code",
   "execution_count": null,
   "id": "b9544c9c-2e0e-4623-a9a9-781dc113b13d",
   "metadata": {},
   "outputs": [],
   "source": []
  },
  {
   "cell_type": "code",
   "execution_count": null,
   "id": "6029eec5-b7be-4996-b60a-3d72af1f4034",
   "metadata": {},
   "outputs": [],
   "source": []
  }
 ],
 "metadata": {
  "kernelspec": {
   "display_name": "Python 3 (ipykernel)",
   "language": "python",
   "name": "python3"
  },
  "language_info": {
   "codemirror_mode": {
    "name": "ipython",
    "version": 3
   },
   "file_extension": ".py",
   "mimetype": "text/x-python",
   "name": "python",
   "nbconvert_exporter": "python",
   "pygments_lexer": "ipython3",
   "version": "3.13.0"
  }
 },
 "nbformat": 4,
 "nbformat_minor": 5
}
