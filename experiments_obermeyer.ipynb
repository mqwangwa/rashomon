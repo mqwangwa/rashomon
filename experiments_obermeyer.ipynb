{
 "cells": [
  {
   "cell_type": "code",
   "execution_count": 1,
   "id": "14cb5991-c013-4f15-8c41-4efceaafb6d7",
   "metadata": {},
   "outputs": [],
   "source": [
    "import pandas as pd\n",
    "import numpy as np\n",
    "from allocations import Allocations\n",
    "from metrics import Metrics"
   ]
  },
  {
   "cell_type": "code",
   "execution_count": 2,
   "id": "150afba9-061a-4743-832d-a815f62a8cee",
   "metadata": {},
   "outputs": [],
   "source": [
    "df = pd.read_csv(\"predictions/obermeyer/bootstrap_regression.csv\")\n",
    "data = pd.read_csv(\"data/obermeyer/obermeyer_data_cleaned.csv\")"
   ]
  },
  {
   "cell_type": "code",
   "execution_count": 3,
   "id": "b1e26884-dc9e-4c36-b047-5ce8008f1fa8",
   "metadata": {},
   "outputs": [],
   "source": [
    "TEST_SIZE = 100\n",
    "SELECTION_RATE = 0.25\n",
    "QUALIFICATION_RATE = 0.50\n",
    "RASHOMON_EPSILON = 0.01\n",
    "ITERATIONS_PER_SPLIT = 20\n",
    "\n",
    "a = Allocations(df, TEST_SIZE, SELECTION_RATE, QUALIFICATION_RATE, RASHOMON_EPSILON, ITERATIONS_PER_SPLIT)"
   ]
  },
  {
   "cell_type": "code",
   "execution_count": 4,
   "id": "4ee58bee-7d2a-438b-a5a7-a51f60503757",
   "metadata": {},
   "outputs": [],
   "source": [
    "allocations = a.get_allocations()"
   ]
  },
  {
   "cell_type": "code",
   "execution_count": 5,
   "id": "793a47bc-c1c0-4b77-8008-6fe049d83bb0",
   "metadata": {},
   "outputs": [],
   "source": [
    "m = Metrics(allocations, data, QUALIFICATION_RATE)"
   ]
  },
  {
   "cell_type": "code",
   "execution_count": 6,
   "id": "1d6970b5-9c5e-4046-aa83-1dd07b6006b1",
   "metadata": {},
   "outputs": [
    {
     "data": {
      "text/plain": [
       "(np.float64(20.74), np.float64(2.081441807978306))"
      ]
     },
     "execution_count": 6,
     "metadata": {},
     "output_type": "execute_result"
    }
   ],
   "source": [
    "m.k_prime()"
   ]
  },
  {
   "cell_type": "code",
   "execution_count": 7,
   "id": "4a114005-9bdf-4f92-9874-cf852bb55106",
   "metadata": {},
   "outputs": [
    {
     "data": {
      "text/plain": [
       "(np.float64(50.63), np.float64(5.070808614018084))"
      ]
     },
     "execution_count": 7,
     "metadata": {},
     "output_type": "execute_result"
    }
   ],
   "source": [
    "m.n_prime()"
   ]
  },
  {
   "cell_type": "code",
   "execution_count": 8,
   "id": "1311af39-fd65-466d-909f-1e79840abab5",
   "metadata": {},
   "outputs": [
    {
     "data": {
      "text/plain": [
       "(np.float64(6.69), np.float64(6.167163043085531))"
      ]
     },
     "execution_count": 8,
     "metadata": {},
     "output_type": "execute_result"
    }
   ],
   "source": [
    "m.count_rashomon_allocations()"
   ]
  },
  {
   "cell_type": "code",
   "execution_count": 9,
   "id": "bba685f5-76e0-4703-958b-812d4a880265",
   "metadata": {},
   "outputs": [
    {
     "data": {
      "text/plain": [
       "(np.float64(15.3), np.float64(17.916193792209327))"
      ]
     },
     "execution_count": 9,
     "metadata": {},
     "output_type": "execute_result"
    }
   ],
   "source": [
    "m.count_rashomon_models()"
   ]
  },
  {
   "cell_type": "code",
   "execution_count": 10,
   "id": "5b32bfa6-d80c-40eb-b674-11ed261ae51d",
   "metadata": {},
   "outputs": [
    {
     "data": {
      "text/plain": [
       "(np.float64(2.2104591208391806), np.float64(2.486918868643382))"
      ]
     },
     "execution_count": 10,
     "metadata": {},
     "output_type": "execute_result"
    }
   ],
   "source": [
    "m.count_rashomon_models_per_allocation()"
   ]
  },
  {
   "cell_type": "code",
   "execution_count": 11,
   "id": "24472ce7-affb-43b0-855a-aa1d51ae511b",
   "metadata": {},
   "outputs": [
    {
     "data": {
      "text/plain": [
       "(np.float64(71.87), np.float64(2.270044052435987))"
      ]
     },
     "execution_count": 11,
     "metadata": {},
     "output_type": "execute_result"
    }
   ],
   "source": [
    "m.systemic_exclusion()"
   ]
  },
  {
   "cell_type": "code",
   "execution_count": 12,
   "id": "cbef9c0d-c55a-47e6-8bb1-b8e687f793d9",
   "metadata": {},
   "outputs": [
    {
     "data": {
      "text/plain": [
       "(np.float64(2.7398267963257923),\n",
       " np.float64(3.1126838136192494),\n",
       " np.float64(0.5552467759452719),\n",
       " np.float64(1.6872348806687985))"
      ]
     },
     "execution_count": 12,
     "metadata": {},
     "output_type": "execute_result"
    }
   ],
   "source": [
    "m.selections_by_qualification()"
   ]
  },
  {
   "cell_type": "code",
   "execution_count": 13,
   "id": "efa5f34e-7445-4e93-9dd0-c3acb9afe457",
   "metadata": {},
   "outputs": [
    {
     "data": {
      "text/plain": [
       "(np.float64(2.7398267963257923),\n",
       " np.float64(3.1126838136192494),\n",
       " np.float64(0.5552467759452719),\n",
       " np.float64(1.6872348806687985))"
      ]
     },
     "execution_count": 13,
     "metadata": {},
     "output_type": "execute_result"
    }
   ],
   "source": [
    "m.selections_by_qualification()"
   ]
  },
  {
   "cell_type": "code",
   "execution_count": 14,
   "id": "00c67dfb-90c4-4fd8-aede-120698a6e34b",
   "metadata": {},
   "outputs": [
    {
     "data": {
      "text/plain": [
       "(np.float64(0.1549329779981804),\n",
       " np.float64(0.06900361103611467),\n",
       " np.float64(0.1668))"
      ]
     },
     "execution_count": 14,
     "metadata": {},
     "output_type": "execute_result"
    }
   ],
   "source": [
    "m.minority_selection_rate(\"race\", 1)"
   ]
  },
  {
   "cell_type": "code",
   "execution_count": 15,
   "id": "ea00f0d3-6a56-4811-b93b-d18b04577af6",
   "metadata": {},
   "outputs": [
    {
     "data": {
      "text/plain": [
       "(np.float64(0.36519999999999997), np.float64(0.11657169467756742))"
      ]
     },
     "execution_count": 15,
     "metadata": {},
     "output_type": "execute_result"
    }
   ],
   "source": [
    "m.best_minority_selection_rate(\"race\", 1)"
   ]
  },
  {
   "cell_type": "code",
   "execution_count": 16,
   "id": "ecc7c857-7249-4f4f-aa1b-d124c3738578",
   "metadata": {},
   "outputs": [
    {
     "name": "stderr",
     "output_type": "stream",
     "text": [
      "/Users/shomik/Documents/MIT/Rashomon/rashomon/metrics.py:165: RuntimeWarning: Mean of empty slice\n",
      "  metric_flattened = [np.nanmean(inner) for inner in metric]\n"
     ]
    },
    {
     "data": {
      "text/plain": [
       "(np.float64(1.457984399204924),\n",
       " np.float64(0.7013155766146071),\n",
       " np.float64(1.3506357012638748))"
      ]
     },
     "execution_count": 16,
     "metadata": {},
     "output_type": "execute_result"
    }
   ],
   "source": [
    "m.feature_ratio_by_group(\"race\", 1, 0, \"gagne_sum_t\")"
   ]
  },
  {
   "cell_type": "code",
   "execution_count": 17,
   "id": "65227b05-a5ef-40b5-a5dc-3bd603b108f2",
   "metadata": {},
   "outputs": [
    {
     "data": {
      "text/plain": [
       "(np.float64(1.1280311933220735), np.float64(0.49519348149135334))"
      ]
     },
     "execution_count": 17,
     "metadata": {},
     "output_type": "execute_result"
    }
   ],
   "source": [
    "m.best_feature_ratio_by_group(\"race\", 1, 0, \"gagne_sum_t\")"
   ]
  }
 ],
 "metadata": {
  "kernelspec": {
   "display_name": "Python 3 (ipykernel)",
   "language": "python",
   "name": "python3"
  },
  "language_info": {
   "codemirror_mode": {
    "name": "ipython",
    "version": 3
   },
   "file_extension": ".py",
   "mimetype": "text/x-python",
   "name": "python",
   "nbconvert_exporter": "python",
   "pygments_lexer": "ipython3",
   "version": "3.13.0"
  }
 },
 "nbformat": 4,
 "nbformat_minor": 5
}
