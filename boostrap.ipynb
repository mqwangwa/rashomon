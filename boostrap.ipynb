{
 "cells": [
  {
   "cell_type": "code",
   "execution_count": 1,
   "metadata": {},
   "outputs": [],
   "source": [
    "import pandas as pd\n",
    "import numpy as np\n",
    "from sklearn.ensemble import RandomForestRegressor\n",
    "from sklearn.linear_model import LinearRegression\n",
    "from sklearn.neural_network import MLPRegressor\n",
    "from sklearn.model_selection import train_test_split\n",
    "from tqdm import tqdm\n",
    "from sklearn.metrics import mean_squared_error"
   ]
  },
  {
   "cell_type": "code",
   "execution_count": 2,
   "metadata": {},
   "outputs": [],
   "source": [
    "num_random_seeds = 10\n",
    "num_bootstrap_models = 1000\n",
    "MODEL_CLASS = \"lr\" #lr,nn,rf"
   ]
  },
  {
   "cell_type": "code",
   "execution_count": 3,
   "metadata": {},
   "outputs": [],
   "source": [
    "data_source = \"data/obermeyer/obermeyer_data_cleaned.csv\"\n",
    "prediction_output = \"predictions/obermeyer/bootstrap_\"+MODEL_CLASS+\".csv\"\n",
    "target_variable = \"cost_t\"\n",
    "features = ['dem_female', 'dem_age_band_18-24_tm1', 'dem_age_band_25-34_tm1', 'dem_age_band_35-44_tm1', 'dem_age_band_45-54_tm1',\n",
    "            'dem_age_band_55-64_tm1', 'dem_age_band_65-74_tm1', 'dem_age_band_75+_tm1', 'hypertension_elixhauser_tm1', 'cost_dialysis_tm1',\n",
    "            'cost_emergency_tm1', 'cost_home_health_tm1', 'cost_ip_medical_tm1', 'cost_ip_surgical_tm1', 'cost_laboratory_tm1',\n",
    "            'cost_op_primary_care_tm1', 'cost_op_specialists_tm1', 'cost_op_surgery_tm1', 'cost_other_tm1', 'cost_pharmacy_tm1',\n",
    "            'cost_physical_therapy_tm1', 'cost_radiology_tm1', 'gagne_sum_tm1']\n",
    "other_variables = ['person_id', 'qualified_cost_25', 'qualified_cost_75', 'qualified_cost_50', 'qualified_gagne_1', 'qualified_gagne_2', 'qualified_gagne_3']"
   ]
  },
  {
   "cell_type": "code",
   "execution_count": 4,
   "metadata": {},
   "outputs": [],
   "source": [
    "df = pd.read_csv(data_source)\n",
    "X = df[features+other_variables]\n",
    "y = df[target_variable]"
   ]
  },
  {
   "cell_type": "code",
   "execution_count": 5,
   "metadata": {},
   "outputs": [],
   "source": [
    "def get_bootstrap_model(X_train, y_train, X_test, random_seed, bootstrap_size=0.5):\n",
    "    np.random.seed(random_seed)\n",
    "    idx = np.random.permutation(len(X_train))[:int(len(X_train)*bootstrap_size)]\n",
    "    if MODEL_CLASS == \"lr\":\n",
    "        model = LinearRegression()\n",
    "    elif MODEL_CLASS == \"rf\":\n",
    "        model = RandomForestRegressor(random_state=random_seed)\n",
    "    elif MODEL_CLASS == \"nn\":\n",
    "        model = MLPRegressor(random_state=random_seed)\n",
    "    model.fit(X_train[idx], y_train[idx])\n",
    "    return model.predict(X_test)"
   ]
  },
  {
   "cell_type": "code",
   "execution_count": 6,
   "metadata": {},
   "outputs": [
    {
     "name": "stdout",
     "output_type": "stream",
     "text": [
      "random seed 0\n"
     ]
    },
    {
     "name": "stderr",
     "output_type": "stream",
     "text": [
      "100%|██████████████████████████████████████| 1000/1000 [00:07<00:00, 141.74it/s]\n"
     ]
    },
    {
     "name": "stdout",
     "output_type": "stream",
     "text": [
      "random seed 1\n"
     ]
    },
    {
     "name": "stderr",
     "output_type": "stream",
     "text": [
      "100%|██████████████████████████████████████| 1000/1000 [00:07<00:00, 133.60it/s]\n"
     ]
    },
    {
     "name": "stdout",
     "output_type": "stream",
     "text": [
      "random seed 2\n"
     ]
    },
    {
     "name": "stderr",
     "output_type": "stream",
     "text": [
      "100%|██████████████████████████████████████| 1000/1000 [00:07<00:00, 141.05it/s]\n"
     ]
    },
    {
     "name": "stdout",
     "output_type": "stream",
     "text": [
      "random seed 3\n"
     ]
    },
    {
     "name": "stderr",
     "output_type": "stream",
     "text": [
      "100%|██████████████████████████████████████| 1000/1000 [00:06<00:00, 143.80it/s]\n"
     ]
    },
    {
     "name": "stdout",
     "output_type": "stream",
     "text": [
      "random seed 4\n"
     ]
    },
    {
     "name": "stderr",
     "output_type": "stream",
     "text": [
      "100%|██████████████████████████████████████| 1000/1000 [00:07<00:00, 142.79it/s]\n"
     ]
    },
    {
     "name": "stdout",
     "output_type": "stream",
     "text": [
      "random seed 5\n"
     ]
    },
    {
     "name": "stderr",
     "output_type": "stream",
     "text": [
      "100%|██████████████████████████████████████| 1000/1000 [00:07<00:00, 136.50it/s]\n"
     ]
    },
    {
     "name": "stdout",
     "output_type": "stream",
     "text": [
      "random seed 6\n"
     ]
    },
    {
     "name": "stderr",
     "output_type": "stream",
     "text": [
      "100%|██████████████████████████████████████| 1000/1000 [00:07<00:00, 139.79it/s]\n"
     ]
    },
    {
     "name": "stdout",
     "output_type": "stream",
     "text": [
      "random seed 7\n"
     ]
    },
    {
     "name": "stderr",
     "output_type": "stream",
     "text": [
      "100%|██████████████████████████████████████| 1000/1000 [00:07<00:00, 141.64it/s]\n"
     ]
    },
    {
     "name": "stdout",
     "output_type": "stream",
     "text": [
      "random seed 8\n"
     ]
    },
    {
     "name": "stderr",
     "output_type": "stream",
     "text": [
      "100%|██████████████████████████████████████| 1000/1000 [00:06<00:00, 143.37it/s]\n"
     ]
    },
    {
     "name": "stdout",
     "output_type": "stream",
     "text": [
      "random seed 9\n"
     ]
    },
    {
     "name": "stderr",
     "output_type": "stream",
     "text": [
      "100%|██████████████████████████████████████| 1000/1000 [00:07<00:00, 142.41it/s]\n"
     ]
    }
   ],
   "source": [
    "output = []\n",
    "for random_seed in range(num_random_seeds):\n",
    "    print(\"random seed\", random_seed)\n",
    "    X_train, X_test, y_train, y_test = train_test_split(X, y, test_size=0.33, random_state=random_seed)\n",
    "    \n",
    "    cost_threshold_25 = X_test['qualified_cost_25'].to_numpy()\n",
    "    cost_threshold_50 = X_test['qualified_cost_50'].to_numpy()\n",
    "    cost_threshold_75 = X_test['qualified_cost_75'].to_numpy()\n",
    "    gagne_threshold_1 = X_test['qualified_gagne_1'].to_numpy()\n",
    "    gagne_threshold_2 = X_test['qualified_gagne_2'].to_numpy()\n",
    "    gagne_threshold_3 = X_test['qualified_gagne_3'].to_numpy()\n",
    "    test_idx = X_test['person_id'].to_numpy()\n",
    "    \n",
    "    # print(test_idx.isna().sum())\n",
    "    X_train = X_train.drop(columns=other_variables).to_numpy()\n",
    "    y_train = y_train.to_numpy()\n",
    "    X_test = X_test.drop(columns=other_variables).to_numpy()\n",
    "    y_test = y_test.to_numpy()\n",
    "\n",
    "    predictions = []\n",
    "    columns = []\n",
    "    for i in tqdm(range(num_bootstrap_models)):\n",
    "        columns.append(f'm_{i+1}')\n",
    "        scores = get_bootstrap_model(X_train, y_train, X_test, random_seed=i, bootstrap_size=0.5)\n",
    "        predictions.append(scores)\n",
    "    \n",
    "    predictions_df = pd.DataFrame(predictions).transpose()\n",
    "    predictions_df.columns=columns\n",
    "    predictions_df[\"y\"] = y_test\n",
    "    predictions_df[\"person_id\"] = test_idx \n",
    "    predictions_df[\"seed\"] = random_seed\n",
    "    \n",
    "    predictions_df['qualified_cost_25'] = cost_threshold_25\n",
    "    predictions_df['qualified_cost_50'] = cost_threshold_50\n",
    "    predictions_df['qualified_cost_75'] = cost_threshold_75\n",
    "    predictions_df['qualified_gagne_1'] = gagne_threshold_1\n",
    "    predictions_df['qualified_gagne_2'] = gagne_threshold_2\n",
    "    predictions_df['qualified_gagne_3'] = gagne_threshold_3\n",
    "\n",
    "    output.append(predictions_df)\n",
    "output = pd.concat(output)"
   ]
  },
  {
   "cell_type": "code",
   "execution_count": 7,
   "metadata": {},
   "outputs": [
    {
     "data": {
      "text/html": [
       "<div>\n",
       "<style scoped>\n",
       "    .dataframe tbody tr th:only-of-type {\n",
       "        vertical-align: middle;\n",
       "    }\n",
       "\n",
       "    .dataframe tbody tr th {\n",
       "        vertical-align: top;\n",
       "    }\n",
       "\n",
       "    .dataframe thead th {\n",
       "        text-align: right;\n",
       "    }\n",
       "</style>\n",
       "<table border=\"1\" class=\"dataframe\">\n",
       "  <thead>\n",
       "    <tr style=\"text-align: right;\">\n",
       "      <th></th>\n",
       "      <th>m_1</th>\n",
       "      <th>m_2</th>\n",
       "      <th>m_3</th>\n",
       "      <th>m_4</th>\n",
       "      <th>m_5</th>\n",
       "      <th>m_6</th>\n",
       "      <th>m_7</th>\n",
       "      <th>m_8</th>\n",
       "      <th>m_9</th>\n",
       "      <th>m_10</th>\n",
       "      <th>...</th>\n",
       "      <th>m_1000</th>\n",
       "      <th>y</th>\n",
       "      <th>person_id</th>\n",
       "      <th>seed</th>\n",
       "      <th>qualified_cost_25</th>\n",
       "      <th>qualified_cost_50</th>\n",
       "      <th>qualified_cost_75</th>\n",
       "      <th>qualified_gagne_1</th>\n",
       "      <th>qualified_gagne_2</th>\n",
       "      <th>qualified_gagne_3</th>\n",
       "    </tr>\n",
       "  </thead>\n",
       "  <tbody>\n",
       "    <tr>\n",
       "      <th>0</th>\n",
       "      <td>0.006753</td>\n",
       "      <td>0.008166</td>\n",
       "      <td>0.007790</td>\n",
       "      <td>0.008346</td>\n",
       "      <td>0.007259</td>\n",
       "      <td>0.007138</td>\n",
       "      <td>0.008137</td>\n",
       "      <td>0.008380</td>\n",
       "      <td>0.006640</td>\n",
       "      <td>0.007848</td>\n",
       "      <td>...</td>\n",
       "      <td>0.007635</td>\n",
       "      <td>0.009628</td>\n",
       "      <td>2545</td>\n",
       "      <td>0</td>\n",
       "      <td>0</td>\n",
       "      <td>1</td>\n",
       "      <td>1</td>\n",
       "      <td>1</td>\n",
       "      <td>0</td>\n",
       "      <td>0</td>\n",
       "    </tr>\n",
       "    <tr>\n",
       "      <th>1</th>\n",
       "      <td>0.013049</td>\n",
       "      <td>0.013692</td>\n",
       "      <td>0.013846</td>\n",
       "      <td>0.014468</td>\n",
       "      <td>0.014478</td>\n",
       "      <td>0.014450</td>\n",
       "      <td>0.014055</td>\n",
       "      <td>0.013888</td>\n",
       "      <td>0.014334</td>\n",
       "      <td>0.014554</td>\n",
       "      <td>...</td>\n",
       "      <td>0.014145</td>\n",
       "      <td>0.004905</td>\n",
       "      <td>8198</td>\n",
       "      <td>0</td>\n",
       "      <td>0</td>\n",
       "      <td>0</td>\n",
       "      <td>1</td>\n",
       "      <td>1</td>\n",
       "      <td>1</td>\n",
       "      <td>0</td>\n",
       "    </tr>\n",
       "    <tr>\n",
       "      <th>2</th>\n",
       "      <td>0.021138</td>\n",
       "      <td>0.018986</td>\n",
       "      <td>0.018488</td>\n",
       "      <td>0.018745</td>\n",
       "      <td>0.017153</td>\n",
       "      <td>0.019729</td>\n",
       "      <td>0.018739</td>\n",
       "      <td>0.017566</td>\n",
       "      <td>0.018916</td>\n",
       "      <td>0.019219</td>\n",
       "      <td>...</td>\n",
       "      <td>0.020756</td>\n",
       "      <td>0.009446</td>\n",
       "      <td>46461</td>\n",
       "      <td>0</td>\n",
       "      <td>0</td>\n",
       "      <td>1</td>\n",
       "      <td>1</td>\n",
       "      <td>0</td>\n",
       "      <td>0</td>\n",
       "      <td>0</td>\n",
       "    </tr>\n",
       "    <tr>\n",
       "      <th>3</th>\n",
       "      <td>0.002706</td>\n",
       "      <td>0.002252</td>\n",
       "      <td>0.002763</td>\n",
       "      <td>0.002001</td>\n",
       "      <td>0.003470</td>\n",
       "      <td>0.001979</td>\n",
       "      <td>0.002444</td>\n",
       "      <td>0.002950</td>\n",
       "      <td>0.002548</td>\n",
       "      <td>0.002147</td>\n",
       "      <td>...</td>\n",
       "      <td>0.002862</td>\n",
       "      <td>0.002361</td>\n",
       "      <td>30620</td>\n",
       "      <td>0</td>\n",
       "      <td>0</td>\n",
       "      <td>0</td>\n",
       "      <td>1</td>\n",
       "      <td>0</td>\n",
       "      <td>0</td>\n",
       "      <td>0</td>\n",
       "    </tr>\n",
       "    <tr>\n",
       "      <th>4</th>\n",
       "      <td>0.009980</td>\n",
       "      <td>0.012810</td>\n",
       "      <td>0.014430</td>\n",
       "      <td>0.010169</td>\n",
       "      <td>0.011937</td>\n",
       "      <td>0.010077</td>\n",
       "      <td>0.014131</td>\n",
       "      <td>0.012601</td>\n",
       "      <td>0.011287</td>\n",
       "      <td>0.011969</td>\n",
       "      <td>...</td>\n",
       "      <td>0.012210</td>\n",
       "      <td>0.003996</td>\n",
       "      <td>47418</td>\n",
       "      <td>0</td>\n",
       "      <td>0</td>\n",
       "      <td>0</td>\n",
       "      <td>1</td>\n",
       "      <td>1</td>\n",
       "      <td>1</td>\n",
       "      <td>0</td>\n",
       "    </tr>\n",
       "  </tbody>\n",
       "</table>\n",
       "<p>5 rows × 1009 columns</p>\n",
       "</div>"
      ],
      "text/plain": [
       "        m_1       m_2       m_3       m_4       m_5       m_6       m_7  \\\n",
       "0  0.006753  0.008166  0.007790  0.008346  0.007259  0.007138  0.008137   \n",
       "1  0.013049  0.013692  0.013846  0.014468  0.014478  0.014450  0.014055   \n",
       "2  0.021138  0.018986  0.018488  0.018745  0.017153  0.019729  0.018739   \n",
       "3  0.002706  0.002252  0.002763  0.002001  0.003470  0.001979  0.002444   \n",
       "4  0.009980  0.012810  0.014430  0.010169  0.011937  0.010077  0.014131   \n",
       "\n",
       "        m_8       m_9      m_10  ...    m_1000         y  person_id  seed  \\\n",
       "0  0.008380  0.006640  0.007848  ...  0.007635  0.009628       2545     0   \n",
       "1  0.013888  0.014334  0.014554  ...  0.014145  0.004905       8198     0   \n",
       "2  0.017566  0.018916  0.019219  ...  0.020756  0.009446      46461     0   \n",
       "3  0.002950  0.002548  0.002147  ...  0.002862  0.002361      30620     0   \n",
       "4  0.012601  0.011287  0.011969  ...  0.012210  0.003996      47418     0   \n",
       "\n",
       "   qualified_cost_25  qualified_cost_50  qualified_cost_75  qualified_gagne_1  \\\n",
       "0                  0                  1                  1                  1   \n",
       "1                  0                  0                  1                  1   \n",
       "2                  0                  1                  1                  0   \n",
       "3                  0                  0                  1                  0   \n",
       "4                  0                  0                  1                  1   \n",
       "\n",
       "   qualified_gagne_2  qualified_gagne_3  \n",
       "0                  0                  0  \n",
       "1                  1                  0  \n",
       "2                  0                  0  \n",
       "3                  0                  0  \n",
       "4                  1                  0  \n",
       "\n",
       "[5 rows x 1009 columns]"
      ]
     },
     "execution_count": 7,
     "metadata": {},
     "output_type": "execute_result"
    }
   ],
   "source": [
    "output.head()"
   ]
  },
  {
   "cell_type": "code",
   "execution_count": 8,
   "metadata": {},
   "outputs": [
    {
     "name": "stdout",
     "output_type": "stream",
     "text": [
      "<class 'pandas.core.frame.DataFrame'>\n",
      "Index: 160990 entries, 0 to 16098\n",
      "Columns: 1009 entries, m_1 to qualified_gagne_3\n",
      "dtypes: float64(1001), int64(8)\n",
      "memory usage: 1.2 GB\n"
     ]
    }
   ],
   "source": [
    "output.info()"
   ]
  },
  {
   "cell_type": "code",
   "execution_count": 9,
   "metadata": {},
   "outputs": [],
   "source": [
    "output.to_csv(prediction_output, index=False)"
   ]
  },
  {
   "cell_type": "code",
   "execution_count": null,
   "metadata": {},
   "outputs": [],
   "source": []
  }
 ],
 "metadata": {
  "kernelspec": {
   "display_name": "Python 3 (ipykernel)",
   "language": "python",
   "name": "python3"
  },
  "language_info": {
   "codemirror_mode": {
    "name": "ipython",
    "version": 3
   },
   "file_extension": ".py",
   "mimetype": "text/x-python",
   "name": "python",
   "nbconvert_exporter": "python",
   "pygments_lexer": "ipython3",
   "version": "3.13.0"
  }
 },
 "nbformat": 4,
 "nbformat_minor": 4
}
