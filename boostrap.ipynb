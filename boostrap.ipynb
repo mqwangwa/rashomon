{
 "cells": [
  {
   "cell_type": "code",
   "execution_count": 27,
   "metadata": {},
   "outputs": [],
   "source": [
    "import pandas as pd\n",
    "import numpy as np\n",
    "from sklearn.ensemble import RandomForestClassifier\n",
    "from sklearn.model_selection import train_test_split\n",
    "from sklearn import tree\n",
    "from tqdm import tqdm"
   ]
  },
  {
   "cell_type": "code",
   "execution_count": 29,
   "metadata": {},
   "outputs": [],
   "source": [
    "num_random_seeds = 5\n",
    "num_bootstrap_models = 1000"
   ]
  },
  {
   "cell_type": "code",
   "execution_count": 30,
   "metadata": {},
   "outputs": [],
   "source": [
    "df = pd.read_csv(\"data/heloc/heloc_dataset_cleaned.csv\")\n",
    "X = df.drop(columns=['RiskPerformance'])\n",
    "y = df['RiskPerformance']"
   ]
  },
  {
   "cell_type": "code",
   "execution_count": 31,
   "metadata": {},
   "outputs": [],
   "source": [
    "def get_bootstrap_model(X_train, y_train, X_test, random_seed, bootstrap_size=0.5):\n",
    "    np.random.seed(random_seed)\n",
    "    idx = np.random.permutation(len(X_train))[:int(len(X_train)*0.5)]\n",
    "    \n",
    "    model = RandomForestClassifier(n_estimators=25, random_state=random_seed)\n",
    "    model.fit(X_train[idx], y_train[idx])\n",
    "    scores = model.predict_proba(X_test)[:, 1]\n",
    "    return scores"
   ]
  },
  {
   "cell_type": "code",
   "execution_count": 32,
   "metadata": {},
   "outputs": [
    {
     "name": "stdout",
     "output_type": "stream",
     "text": [
      "random seed 0\n"
     ]
    },
    {
     "name": "stderr",
     "output_type": "stream",
     "text": [
      "100%|███████████████████████████████████████████| 10/10 [00:01<00:00,  8.04it/s]\n"
     ]
    },
    {
     "name": "stdout",
     "output_type": "stream",
     "text": [
      "random seed 1\n"
     ]
    },
    {
     "name": "stderr",
     "output_type": "stream",
     "text": [
      "100%|███████████████████████████████████████████| 10/10 [00:01<00:00,  8.15it/s]\n"
     ]
    },
    {
     "name": "stdout",
     "output_type": "stream",
     "text": [
      "random seed 2\n"
     ]
    },
    {
     "name": "stderr",
     "output_type": "stream",
     "text": [
      "100%|███████████████████████████████████████████| 10/10 [00:01<00:00,  8.15it/s]\n"
     ]
    },
    {
     "name": "stdout",
     "output_type": "stream",
     "text": [
      "random seed 3\n"
     ]
    },
    {
     "name": "stderr",
     "output_type": "stream",
     "text": [
      "100%|███████████████████████████████████████████| 10/10 [00:01<00:00,  7.96it/s]\n"
     ]
    },
    {
     "name": "stdout",
     "output_type": "stream",
     "text": [
      "random seed 4\n"
     ]
    },
    {
     "name": "stderr",
     "output_type": "stream",
     "text": [
      "100%|███████████████████████████████████████████| 10/10 [00:01<00:00,  8.02it/s]\n"
     ]
    }
   ],
   "source": [
    "output = []\n",
    "for random_seed in range(num_random_seeds):\n",
    "    print(\"random seed\", random_seed)\n",
    "    X_train, X_test, y_train, y_test = train_test_split(X, y, test_size=0.1, random_state=random_seed)\n",
    "    test_idx = y_test.index.to_numpy()\n",
    "    X_train = X_train.to_numpy()\n",
    "    y_train = y_train.to_numpy()\n",
    "    X_test = X_test.to_numpy()\n",
    "    y_test = y_test.to_numpy()\n",
    "\n",
    "    predictions = []\n",
    "    columns = []\n",
    "    accuracy = []\n",
    "    for i in tqdm(range(num_bootstrap_models)):\n",
    "        columns.append(f'p_{i+1}')\n",
    "        scores = get_bootstrap_model(X_train, y_train, X_test, random_seed=i, bootstrap_size=0.5)\n",
    "        predictions.append(scores)\n",
    "        accuracy.append(float((np.round(scores)==y_test).sum() / len(y_test)))\n",
    "    \n",
    "    predictions_df = pd.DataFrame(predictions).transpose()\n",
    "    predictions_df.columns=columns\n",
    "    \n",
    "    predictions_df[\"y\"] = y_test\n",
    "    predictions_df[\"idx\"] = test_idx \n",
    "    predictions_df[\"seed\"] = random_seed\n",
    "    output.append(predictions_df)\n",
    "output = pd.concat(output)"
   ]
  },
  {
   "cell_type": "code",
   "execution_count": 33,
   "metadata": {},
   "outputs": [],
   "source": [
    "output.to_csv(\"predictions/heloc/model_predictions.csv\", index=False)"
   ]
  },
  {
   "cell_type": "code",
   "execution_count": null,
   "metadata": {},
   "outputs": [],
   "source": []
  }
 ],
 "metadata": {
  "kernelspec": {
   "display_name": "Python 3 (ipykernel)",
   "language": "python",
   "name": "python3"
  },
  "language_info": {
   "codemirror_mode": {
    "name": "ipython",
    "version": 3
   },
   "file_extension": ".py",
   "mimetype": "text/x-python",
   "name": "python",
   "nbconvert_exporter": "python",
   "pygments_lexer": "ipython3",
   "version": "3.13.0"
  }
 },
 "nbformat": 4,
 "nbformat_minor": 4
}
