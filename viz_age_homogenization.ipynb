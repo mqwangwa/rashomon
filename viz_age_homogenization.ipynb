{
 "cells": [
  {
   "cell_type": "code",
   "execution_count": 11,
   "id": "42dbea4d-48a0-43da-8027-dc0f17d137a9",
   "metadata": {},
   "outputs": [],
   "source": [
    "import pandas as pd\n",
    "from allocations import Allocations\n",
    "import matplotlib.pyplot as plt\n",
    "import seaborn as sns\n",
    "import numpy as np"
   ]
  },
  {
   "cell_type": "code",
   "execution_count": 12,
   "id": "34ab5b37-ee0a-4f69-be16-e268ac9c2edc",
   "metadata": {},
   "outputs": [],
   "source": [
    "method = \"fasterrisk\"\n",
    "\n",
    "SELECTION_RATE = 0.25\n",
    "QUALIFICATION_COLUMN = \"qualified_gagne_2\"\n",
    "ITERATIONS_PER_SPLIT = 25\n",
    "TEST_SIZE = 1000\n",
    "RASHOMON_EPSILON = 0.01\n",
    "\n",
    "output_file = \"viz/\"+method+\"_age_homogenization.jpg\""
   ]
  },
  {
   "cell_type": "code",
   "execution_count": 13,
   "id": "333c7365-e416-431b-b280-a211d496978e",
   "metadata": {},
   "outputs": [],
   "source": [
    "df = pd.read_csv(\"results/\"+m+\"_\"+QUALIFICATION_COLUMN+\".csv\")\n",
    "\n",
    "data = pd.read_csv(\"data/obermeyer/obermeyer_data_cleaned.csv\")\n",
    "\n",
    "data[\"age\"] = 0\n",
    "\n",
    "columns = ['dem_age_band_18-24_tm1',\n",
    "       'dem_age_band_25-34_tm1', 'dem_age_band_35-44_tm1',\n",
    "       'dem_age_band_45-54_tm1', 'dem_age_band_55-64_tm1',\n",
    "       'dem_age_band_65-74_tm1', 'dem_age_band_75+_tm1']\n",
    "\n",
    "for i,c in enumerate(columns):\n",
    "    data.loc[data[c]==1, \"age\"] = i"
   ]
  },
  {
   "cell_type": "code",
   "execution_count": 44,
   "id": "a09a4670-3f0f-4940-95fe-032193041d92",
   "metadata": {},
   "outputs": [],
   "source": [
    "def value_counts(ages):\n",
    "    values, counts = np.unique(ages, return_counts=True)\n",
    "    probabilities = []\n",
    "    n = counts.sum()\n",
    "    for i in range(7):\n",
    "        if i in values:\n",
    "            probabilities.append(counts[np.where(values==i)[0][0]]/n)\n",
    "        else:\n",
    "            probabilities.append(0)\n",
    "    return np.array(probabilities)"
   ]
  },
  {
   "cell_type": "code",
   "execution_count": 75,
   "id": "431de1eb-430a-4e2e-8899-d90f34b37d37",
   "metadata": {},
   "outputs": [],
   "source": [
    "ages_selected = []\n",
    "ages_qualified = []\n",
    "ages_unqualified = []\n",
    "k_prime = []\n",
    "\n",
    "\n",
    "a = Allocations(df, TEST_SIZE, SELECTION_RATE, \"y\", RASHOMON_EPSILON, ITERATIONS_PER_SPLIT)\n",
    "allocations, people = a.get_allocations()\n",
    "\n",
    "for seed in allocations[\"seed\"].unique():\n",
    "    for iteration in allocations[\"iteration\"].unique():\n",
    "        curr_people = list(people.loc[((people[\"seed\"]==seed)&(people[\"iteration\"]==iteration)), \"people\"])[0]\n",
    "        test_data = data.loc[data[\"person_id\"].isin(curr_people), [\"person_id\", QUALIFICATION_COLUMN, \"age\"]]\n",
    "        \n",
    "        curr_allocations = allocations.loc[(allocations[\"seed\"]==seed)&(allocations[\"iteration\"]==iteration), \"selected\"].to_list()\n",
    "        selected = []\n",
    "        for a in curr_allocations:\n",
    "            selected += test_data.loc[test_data[\"person_id\"].isin(curr_allocations[0]), \"age\"].to_list()\n",
    "\n",
    "        ages_selected.append(value_counts(selected))\n",
    "        ages_qualified.append(value_counts(test_data.loc[test_data[QUALIFICATION_COLUMN]==1, \"age\"].to_list()))\n",
    "        ages_unqualified.append(value_counts(test_data.loc[test_data[QUALIFICATION_COLUMN]==0, \"age\"].to_list()))\n",
    "        \n",
    "        k_prime.append(allocations.loc[(allocations[\"seed\"]==seed)&(allocations[\"iteration\"]==iteration), \"k'\"].mean())\n",
    "\n",
    "ages_selected = np.array(ages_selected)\n",
    "ages_qualified = np.array(ages_qualified)\n",
    "ages_unqualified = np.array(ages_unqualified)\n",
    "k_prime = np.array(k_prime)"
   ]
  },
  {
   "cell_type": "code",
   "execution_count": 76,
   "id": "3b77de79-6025-4609-adf2-4b2e722cef88",
   "metadata": {},
   "outputs": [],
   "source": [
    "w_q = k_prime / (SELECTION_RATE*TEST_SIZE)\n",
    "w_uq = 1-w_q\n",
    "\n",
    "ages_qualified = ages_qualified * w_q[:, np.newaxis]\n",
    "ages_unqualified = ages_unqualified * w_uq[:, np.newaxis]\n",
    "\n",
    "ages_baseline = ages_qualified + ages_unqualified"
   ]
  },
  {
   "cell_type": "code",
   "execution_count": 90,
   "id": "8497dd04-9437-4c5a-a4ee-fbcdf5fe26a0",
   "metadata": {},
   "outputs": [
    {
     "data": {
      "image/png": "[encoded data removed]",
      "text/plain": [
       "<Figure size 550x400 with 1 Axes>"
      ]
     },
     "metadata": {},
     "output_type": "display_data"
    }
   ],
   "source": [
    "age_labels = ['18-24','25-34', '35-44','45-54', '55-64','65-74', '75+']\n",
    "x = np.arange(len(age_labels))  # Label locations\n",
    "\n",
    "# Bar width\n",
    "width = 0.35\n",
    "\n",
    "fig, ax = plt.subplots(figsize=(5.5,4))\n",
    "\n",
    "# Bar positions and heights\n",
    "bars1 = ax.bar(x - width/2, ages_baseline.mean(axis=0), width, yerr=1.96*(ages_baseline.std(axis=0)/np.sqrt(len(ages_baseline))), label='All', color='blue')\n",
    "bars2 = ax.bar(x + width/2, ages_selected.mean(axis=0), width, yerr=1.96*(ages_selected.std(axis=0)/np.sqrt(len(ages_selected))), label='Recovered', color='orange')\n",
    "\n",
    "# Add labels, title, and custom x-axis tick labels\n",
    "ax.set_xlabel('Age Range')\n",
    "ax.set_ylabel('Proportion of Selected Individuals')\n",
    "ax.set_xticks(x)\n",
    "ax.set_xticklabels(age_labels)\n",
    "ax.legend(title=\"Rashomon Allocations\", loc=\"upper left\")\n",
    "\n",
    "# Show the plot\n",
    "plt.grid(True, axis='y', alpha=0.5)\n",
    "fig.tight_layout()\n",
    "fig.savefig(output_file, dpi=500)"
   ]
  },
  {
   "cell_type": "code",
   "execution_count": null,
   "id": "78767290-f854-4b12-82e7-a0bc9689fb77",
   "metadata": {},
   "outputs": [],
   "source": []
  }
 ],
 "metadata": {
  "kernelspec": {
   "display_name": "Python 3 (ipykernel)",
   "language": "python",
   "name": "python3"
  },
  "language_info": {
   "codemirror_mode": {
    "name": "ipython",
    "version": 3
   },
   "file_extension": ".py",
   "mimetype": "text/x-python",
   "name": "python",
   "nbconvert_exporter": "python",
   "pygments_lexer": "ipython3",
   "version": "3.9.21"
  }
 },
 "nbformat": 4,
 "nbformat_minor": 5
}
