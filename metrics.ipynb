{
 "cells": [
  {
   "cell_type": "code",
   "execution_count": 24,
   "id": "38e9d8b9-3caf-4358-b239-bd706230c672",
   "metadata": {},
   "outputs": [],
   "source": [
    "import pandas as pd\n",
    "import numpy as np\n",
    "import ast"
   ]
  },
  {
   "cell_type": "code",
   "execution_count": 25,
   "id": "785a0d50",
   "metadata": {},
   "outputs": [],
   "source": [
    "INPUT_ALLOCATIONS = \"allocations/obermeyer/allocations_sr_50_qr_75.csv\"\n",
    "QUALIFICATION_COLUMN = 'threshold_25' # 75th percentile translates to 25% qualification"
   ]
  },
  {
   "cell_type": "code",
   "execution_count": 26,
   "id": "2329ff8b-45df-4597-8197-fb35c0c6b880",
   "metadata": {},
   "outputs": [
    {
     "data": {
      "text/html": [
       "<div>\n",
       "<style scoped>\n",
       "    .dataframe tbody tr th:only-of-type {\n",
       "        vertical-align: middle;\n",
       "    }\n",
       "\n",
       "    .dataframe tbody tr th {\n",
       "        vertical-align: top;\n",
       "    }\n",
       "\n",
       "    .dataframe thead th {\n",
       "        text-align: right;\n",
       "    }\n",
       "</style>\n",
       "<table border=\"1\" class=\"dataframe\">\n",
       "  <thead>\n",
       "    <tr style=\"text-align: right;\">\n",
       "      <th></th>\n",
       "      <th>seed</th>\n",
       "      <th>iteration</th>\n",
       "      <th>allocation_idx</th>\n",
       "      <th>selected</th>\n",
       "      <th>unselected</th>\n",
       "      <th>k'</th>\n",
       "      <th>n'</th>\n",
       "      <th>model_count</th>\n",
       "    </tr>\n",
       "  </thead>\n",
       "  <tbody>\n",
       "    <tr>\n",
       "      <th>0</th>\n",
       "      <td>0</td>\n",
       "      <td>0</td>\n",
       "      <td>0</td>\n",
       "      <td>[83, 799, 2217, 2674, 2811, 2903, 2999, 3126, ...</td>\n",
       "      <td>[25525, 35439, 1615, 17799, 15362, 36043, 4198...</td>\n",
       "      <td>47</td>\n",
       "      <td>75</td>\n",
       "      <td>1</td>\n",
       "    </tr>\n",
       "    <tr>\n",
       "      <th>1</th>\n",
       "      <td>0</td>\n",
       "      <td>1</td>\n",
       "      <td>0</td>\n",
       "      <td>[339, 1896, 3602, 5395, 7074, 8704, 9136, 1101...</td>\n",
       "      <td>[46889, 41011, 28019, 3102, 15463, 23367, 3981...</td>\n",
       "      <td>46</td>\n",
       "      <td>81</td>\n",
       "      <td>1</td>\n",
       "    </tr>\n",
       "    <tr>\n",
       "      <th>2</th>\n",
       "      <td>0</td>\n",
       "      <td>1</td>\n",
       "      <td>1</td>\n",
       "      <td>[339, 1896, 3602, 5395, 7074, 8704, 9131, 9136...</td>\n",
       "      <td>[46889, 41011, 28019, 3102, 15463, 23367, 3981...</td>\n",
       "      <td>46</td>\n",
       "      <td>81</td>\n",
       "      <td>2</td>\n",
       "    </tr>\n",
       "    <tr>\n",
       "      <th>3</th>\n",
       "      <td>0</td>\n",
       "      <td>1</td>\n",
       "      <td>2</td>\n",
       "      <td>[339, 1896, 3602, 5395, 7074, 8704, 9136, 1101...</td>\n",
       "      <td>[46889, 41011, 28019, 3102, 15463, 23367, 3981...</td>\n",
       "      <td>46</td>\n",
       "      <td>81</td>\n",
       "      <td>1</td>\n",
       "    </tr>\n",
       "    <tr>\n",
       "      <th>4</th>\n",
       "      <td>0</td>\n",
       "      <td>1</td>\n",
       "      <td>3</td>\n",
       "      <td>[339, 1896, 3602, 5395, 7074, 8704, 9136, 1101...</td>\n",
       "      <td>[46889, 41011, 28019, 3102, 15463, 23367, 3981...</td>\n",
       "      <td>46</td>\n",
       "      <td>81</td>\n",
       "      <td>1</td>\n",
       "    </tr>\n",
       "  </tbody>\n",
       "</table>\n",
       "</div>"
      ],
      "text/plain": [
       "   seed  iteration  allocation_idx  \\\n",
       "0     0          0               0   \n",
       "1     0          1               0   \n",
       "2     0          1               1   \n",
       "3     0          1               2   \n",
       "4     0          1               3   \n",
       "\n",
       "                                            selected  \\\n",
       "0  [83, 799, 2217, 2674, 2811, 2903, 2999, 3126, ...   \n",
       "1  [339, 1896, 3602, 5395, 7074, 8704, 9136, 1101...   \n",
       "2  [339, 1896, 3602, 5395, 7074, 8704, 9131, 9136...   \n",
       "3  [339, 1896, 3602, 5395, 7074, 8704, 9136, 1101...   \n",
       "4  [339, 1896, 3602, 5395, 7074, 8704, 9136, 1101...   \n",
       "\n",
       "                                          unselected  k'  n'  model_count  \n",
       "0  [25525, 35439, 1615, 17799, 15362, 36043, 4198...  47  75            1  \n",
       "1  [46889, 41011, 28019, 3102, 15463, 23367, 3981...  46  81            1  \n",
       "2  [46889, 41011, 28019, 3102, 15463, 23367, 3981...  46  81            2  \n",
       "3  [46889, 41011, 28019, 3102, 15463, 23367, 3981...  46  81            1  \n",
       "4  [46889, 41011, 28019, 3102, 15463, 23367, 3981...  46  81            1  "
      ]
     },
     "execution_count": 26,
     "metadata": {},
     "output_type": "execute_result"
    }
   ],
   "source": [
    "df = pd.read_csv(INPUT_ALLOCATIONS)\n",
    "df['selected'] = df['selected'].apply(ast.literal_eval)\n",
    "df['unselected'] = df['unselected'].apply(ast.literal_eval)\n",
    "df.head()"
   ]
  },
  {
   "cell_type": "code",
   "execution_count": 27,
   "id": "15355101-1766-4b4e-9a81-97e5b98909fb",
   "metadata": {},
   "outputs": [
    {
     "data": {
      "text/html": [
       "<div>\n",
       "<style scoped>\n",
       "    .dataframe tbody tr th:only-of-type {\n",
       "        vertical-align: middle;\n",
       "    }\n",
       "\n",
       "    .dataframe tbody tr th {\n",
       "        vertical-align: top;\n",
       "    }\n",
       "\n",
       "    .dataframe thead th {\n",
       "        text-align: right;\n",
       "    }\n",
       "</style>\n",
       "<table border=\"1\" class=\"dataframe\">\n",
       "  <thead>\n",
       "    <tr style=\"text-align: right;\">\n",
       "      <th></th>\n",
       "      <th>cost_t</th>\n",
       "      <th>race</th>\n",
       "      <th>dem_female</th>\n",
       "      <th>dem_age_band_18-24_tm1</th>\n",
       "      <th>dem_age_band_25-34_tm1</th>\n",
       "      <th>dem_age_band_35-44_tm1</th>\n",
       "      <th>dem_age_band_45-54_tm1</th>\n",
       "      <th>dem_age_band_55-64_tm1</th>\n",
       "      <th>dem_age_band_65-74_tm1</th>\n",
       "      <th>dem_age_band_75+_tm1</th>\n",
       "      <th>...</th>\n",
       "      <th>cost_other_tm1</th>\n",
       "      <th>cost_pharmacy_tm1</th>\n",
       "      <th>cost_physical_therapy_tm1</th>\n",
       "      <th>cost_radiology_tm1</th>\n",
       "      <th>gagne_sum_tm1</th>\n",
       "      <th>gagne_sum_t</th>\n",
       "      <th>threshold_25</th>\n",
       "      <th>threshold_50</th>\n",
       "      <th>threshold_75</th>\n",
       "      <th>person_id</th>\n",
       "    </tr>\n",
       "  </thead>\n",
       "  <tbody>\n",
       "    <tr>\n",
       "      <th>0</th>\n",
       "      <td>0.002180</td>\n",
       "      <td>0.0</td>\n",
       "      <td>0.0</td>\n",
       "      <td>0.0</td>\n",
       "      <td>0.0</td>\n",
       "      <td>0.0</td>\n",
       "      <td>1.0</td>\n",
       "      <td>0.0</td>\n",
       "      <td>0.0</td>\n",
       "      <td>0.0</td>\n",
       "      <td>...</td>\n",
       "      <td>0.003623</td>\n",
       "      <td>0.000065</td>\n",
       "      <td>0.0</td>\n",
       "      <td>0.000000</td>\n",
       "      <td>0.000000</td>\n",
       "      <td>0</td>\n",
       "      <td>1</td>\n",
       "      <td>0</td>\n",
       "      <td>0</td>\n",
       "      <td>0</td>\n",
       "    </tr>\n",
       "    <tr>\n",
       "      <th>1</th>\n",
       "      <td>0.004723</td>\n",
       "      <td>0.0</td>\n",
       "      <td>1.0</td>\n",
       "      <td>0.0</td>\n",
       "      <td>0.0</td>\n",
       "      <td>0.0</td>\n",
       "      <td>1.0</td>\n",
       "      <td>0.0</td>\n",
       "      <td>0.0</td>\n",
       "      <td>0.0</td>\n",
       "      <td>...</td>\n",
       "      <td>0.032091</td>\n",
       "      <td>0.000065</td>\n",
       "      <td>0.0</td>\n",
       "      <td>0.014486</td>\n",
       "      <td>0.222222</td>\n",
       "      <td>3</td>\n",
       "      <td>1</td>\n",
       "      <td>0</td>\n",
       "      <td>0</td>\n",
       "      <td>1</td>\n",
       "    </tr>\n",
       "    <tr>\n",
       "      <th>2</th>\n",
       "      <td>0.000908</td>\n",
       "      <td>0.0</td>\n",
       "      <td>1.0</td>\n",
       "      <td>0.0</td>\n",
       "      <td>1.0</td>\n",
       "      <td>0.0</td>\n",
       "      <td>0.0</td>\n",
       "      <td>0.0</td>\n",
       "      <td>0.0</td>\n",
       "      <td>0.0</td>\n",
       "      <td>...</td>\n",
       "      <td>0.000000</td>\n",
       "      <td>0.000065</td>\n",
       "      <td>0.0</td>\n",
       "      <td>0.000000</td>\n",
       "      <td>0.000000</td>\n",
       "      <td>0</td>\n",
       "      <td>0</td>\n",
       "      <td>0</td>\n",
       "      <td>0</td>\n",
       "      <td>2</td>\n",
       "    </tr>\n",
       "    <tr>\n",
       "      <th>3</th>\n",
       "      <td>0.002361</td>\n",
       "      <td>0.0</td>\n",
       "      <td>1.0</td>\n",
       "      <td>1.0</td>\n",
       "      <td>0.0</td>\n",
       "      <td>0.0</td>\n",
       "      <td>0.0</td>\n",
       "      <td>0.0</td>\n",
       "      <td>0.0</td>\n",
       "      <td>0.0</td>\n",
       "      <td>...</td>\n",
       "      <td>0.000000</td>\n",
       "      <td>0.000065</td>\n",
       "      <td>0.0</td>\n",
       "      <td>0.000000</td>\n",
       "      <td>0.000000</td>\n",
       "      <td>0</td>\n",
       "      <td>1</td>\n",
       "      <td>0</td>\n",
       "      <td>0</td>\n",
       "      <td>3</td>\n",
       "    </tr>\n",
       "    <tr>\n",
       "      <th>4</th>\n",
       "      <td>0.001998</td>\n",
       "      <td>0.0</td>\n",
       "      <td>1.0</td>\n",
       "      <td>0.0</td>\n",
       "      <td>0.0</td>\n",
       "      <td>0.0</td>\n",
       "      <td>0.0</td>\n",
       "      <td>1.0</td>\n",
       "      <td>0.0</td>\n",
       "      <td>0.0</td>\n",
       "      <td>...</td>\n",
       "      <td>0.001035</td>\n",
       "      <td>0.000065</td>\n",
       "      <td>0.0</td>\n",
       "      <td>0.000000</td>\n",
       "      <td>0.055556</td>\n",
       "      <td>1</td>\n",
       "      <td>0</td>\n",
       "      <td>0</td>\n",
       "      <td>0</td>\n",
       "      <td>4</td>\n",
       "    </tr>\n",
       "  </tbody>\n",
       "</table>\n",
       "<p>5 rows × 30 columns</p>\n",
       "</div>"
      ],
      "text/plain": [
       "     cost_t  race  dem_female  dem_age_band_18-24_tm1  dem_age_band_25-34_tm1  \\\n",
       "0  0.002180   0.0         0.0                     0.0                     0.0   \n",
       "1  0.004723   0.0         1.0                     0.0                     0.0   \n",
       "2  0.000908   0.0         1.0                     0.0                     1.0   \n",
       "3  0.002361   0.0         1.0                     1.0                     0.0   \n",
       "4  0.001998   0.0         1.0                     0.0                     0.0   \n",
       "\n",
       "   dem_age_band_35-44_tm1  dem_age_band_45-54_tm1  dem_age_band_55-64_tm1  \\\n",
       "0                     0.0                     1.0                     0.0   \n",
       "1                     0.0                     1.0                     0.0   \n",
       "2                     0.0                     0.0                     0.0   \n",
       "3                     0.0                     0.0                     0.0   \n",
       "4                     0.0                     0.0                     1.0   \n",
       "\n",
       "   dem_age_band_65-74_tm1  dem_age_band_75+_tm1  ...  cost_other_tm1  \\\n",
       "0                     0.0                   0.0  ...        0.003623   \n",
       "1                     0.0                   0.0  ...        0.032091   \n",
       "2                     0.0                   0.0  ...        0.000000   \n",
       "3                     0.0                   0.0  ...        0.000000   \n",
       "4                     0.0                   0.0  ...        0.001035   \n",
       "\n",
       "   cost_pharmacy_tm1  cost_physical_therapy_tm1  cost_radiology_tm1  \\\n",
       "0           0.000065                        0.0            0.000000   \n",
       "1           0.000065                        0.0            0.014486   \n",
       "2           0.000065                        0.0            0.000000   \n",
       "3           0.000065                        0.0            0.000000   \n",
       "4           0.000065                        0.0            0.000000   \n",
       "\n",
       "   gagne_sum_tm1  gagne_sum_t  threshold_25  threshold_50  threshold_75  \\\n",
       "0       0.000000            0             1             0             0   \n",
       "1       0.222222            3             1             0             0   \n",
       "2       0.000000            0             0             0             0   \n",
       "3       0.000000            0             1             0             0   \n",
       "4       0.055556            1             0             0             0   \n",
       "\n",
       "   person_id  \n",
       "0          0  \n",
       "1          1  \n",
       "2          2  \n",
       "3          3  \n",
       "4          4  \n",
       "\n",
       "[5 rows x 30 columns]"
      ]
     },
     "execution_count": 27,
     "metadata": {},
     "output_type": "execute_result"
    }
   ],
   "source": [
    "data = pd.read_csv(\"data/obermeyer/obermeyer_data_cleaned.csv\")\n",
    "data.head()"
   ]
  },
  {
   "cell_type": "markdown",
   "id": "241b0761-3d75-44ed-85c6-35d333399005",
   "metadata": {},
   "source": [
    "#### K' = Number of Qualified Selected\n",
    "#### N' = Number of Qualified in Test Set"
   ]
  },
  {
   "cell_type": "code",
   "execution_count": 5,
   "id": "99389ee9-d85f-474c-a316-274a8d49021c",
   "metadata": {},
   "outputs": [
    {
     "name": "stdout",
     "output_type": "stream",
     "text": [
      "45.68392370572207\n",
      "1.7754265326748322\n",
      "76.9775204359673\n",
      "3.280096256810468\n"
     ]
    }
   ],
   "source": [
    "print(np.mean(df[\"k'\"]))\n",
    "print(np.std(df[\"k'\"]))\n",
    "print(np.mean(df[\"n'\"]))\n",
    "print(np.std(df[\"n'\"]))"
   ]
  },
  {
   "cell_type": "markdown",
   "id": "a39eff75-3ab1-4a3b-9756-2f4eadc13e35",
   "metadata": {},
   "source": [
    "#### Number of Rashomon Allocations\n",
    "#### Number of Rashomon Models\n",
    "#### Number of Rashomon Models Per Allocation\n"
   ]
  },
  {
   "cell_type": "code",
   "execution_count": 6,
   "id": "d0d237fd-3dea-4566-9962-fb63115f13ff",
   "metadata": {},
   "outputs": [
    {
     "name": "stdout",
     "output_type": "stream",
     "text": [
      "11.744\n",
      "14.678367211648576\n",
      "\n",
      "18.184\n",
      "24.659078328274965\n",
      "\n",
      "1.5483651226158037\n",
      "1.9686864173884389\n",
      "\n"
     ]
    }
   ],
   "source": [
    "unique_allocations = df.groupby([\"seed\", \"iteration\"]).count()[\"allocation_idx\"].reset_index()\n",
    "print(np.mean(unique_allocations[\"allocation_idx\"]))\n",
    "print(np.std(unique_allocations[\"allocation_idx\"]))\n",
    "print()\n",
    "unique_allocations = df.groupby([\"seed\", \"iteration\"]).sum()[\"model_count\"].reset_index()\n",
    "print(np.mean(unique_allocations[\"model_count\"]))\n",
    "print(np.std(unique_allocations[\"model_count\"]))\n",
    "print()\n",
    "print(np.mean(df[\"model_count\"]))\n",
    "print(np.std(df[\"model_count\"]))\n",
    "print()"
   ]
  },
  {
   "cell_type": "markdown",
   "id": "e2c4e7ee-df3e-47e1-9f22-b96781b66e3f",
   "metadata": {},
   "source": [
    "#### Number of People Systemically Excluded (Never Selected Across Rashomon Allocations)"
   ]
  },
  {
   "cell_type": "code",
   "execution_count": 7,
   "id": "bf42c712-1ab7-492a-8770-33483cece865",
   "metadata": {},
   "outputs": [
    {
     "name": "stdout",
     "output_type": "stream",
     "text": [
      "45.28\n",
      "3.423682228244905\n"
     ]
    }
   ],
   "source": [
    "metric = []\n",
    "for seed in df[\"seed\"].unique():\n",
    "    for iteration in df[\"iteration\"].unique():        \n",
    "        allocations = df.loc[(df[\"seed\"]==seed)&(df[\"iteration\"]==iteration), \"unselected\"].to_list()\n",
    "        systemic_rejection = set(allocations[0])\n",
    "        for a in allocations:\n",
    "            systemic_rejection = systemic_rejection.intersection(set(a))\n",
    "        metric.append(len(systemic_rejection))\n",
    "print(np.mean(metric))\n",
    "print(np.std(metric))"
   ]
  },
  {
   "cell_type": "code",
   "execution_count": 40,
   "id": "955ec133-636c-4f00-bdc3-a7a5e61122b9",
   "metadata": {},
   "outputs": [
    {
     "data": {
      "image/png": "[encoded data removed]",
      "text/plain": [
       "<Figure size 640x480 with 1 Axes>"
      ]
     },
     "metadata": {},
     "output_type": "display_data"
    }
   ],
   "source": [
    "q = []\n",
    "uq = []\n",
    "\n",
    "for seed in df[\"seed\"].unique():\n",
    "    for iteration in df[\"iteration\"].unique():\n",
    "        selected = df.loc[(df[\"seed\"]==seed)&(df[\"iteration\"]==iteration)&(df[\"allocation_idx\"]==0), \"selected\"].values[0]\n",
    "        unselected = df.loc[(df[\"seed\"]==seed)&(df[\"iteration\"]==iteration)&(df[\"allocation_idx\"]==0), \"unselected\"].values[0]\n",
    "        people = selected + unselected\n",
    "        test_data = data.loc[data[\"person_id\"].isin(people)].copy()\n",
    "        qualified_selections = dict.fromkeys(test_data.loc[test_data[QUALIFICATION_COLUMN]==1, \"person_id\"].to_list(), 0)\n",
    "        unqualified_selections = dict.fromkeys(test_data.loc[test_data[QUALIFICATION_COLUMN]==0, \"person_id\"].to_list(), 0)\n",
    "\n",
    "        allocations = df.loc[(df[\"seed\"]==seed)&(df[\"iteration\"]==iteration), \"selected\"].to_list()\n",
    "        for a in allocations:\n",
    "            for p in a:\n",
    "                if p in qualified_selections:\n",
    "                    qualified_selections[p] += 1\n",
    "                else:\n",
    "                    unqualified_selections[p] += 1\n",
    "\n",
    "        q += list(np.array(list(qualified_selections.values()))/len(allocations))\n",
    "        uq += list(np.array(list(unqualified_selections.values()))/len(allocations))\n",
    "\n",
    "import matplotlib.pyplot as plt\n",
    "\n",
    "# Create the histogram\n",
    "plt.hist(uq, bins=10, edgecolor='black')  # Adjust the number of bins as needed\n",
    "\n",
    "# Add labels and title\n",
    "plt.xlabel('Proportion of times selected across \"found\" rashomon allocations')\n",
    "plt.ylabel('Frequency')\n",
    "\n",
    "# Show the plot\n",
    "plt.tight_layout()\n",
    "plt.savefig('test.jpg')\n",
    "plt.show()"
   ]
  },
  {
   "cell_type": "code",
   "execution_count": null,
   "id": "42c5241e-9290-49d7-bc83-229ae4bf9dd9",
   "metadata": {},
   "outputs": [],
   "source": []
  },
  {
   "cell_type": "markdown",
   "id": "d922bda7-e338-4d10-bde3-4518757b09f9",
   "metadata": {},
   "source": [
    "#### Individual Fairness -- Qualified and Unqualified Selections"
   ]
  },
  {
   "cell_type": "code",
   "execution_count": 28,
   "id": "cc5267f7-9bba-4ff1-8f41-9111ff5fe378",
   "metadata": {},
   "outputs": [
    {
     "name": "stdout",
     "output_type": "stream",
     "text": [
      "0.6050566151342446\n",
      "0.46820337321447136\n",
      "0.1794046301938128\n",
      "0.3621676947369631\n"
     ]
    }
   ],
   "source": [
    "qualified_avg = []\n",
    "qualified_std = []\n",
    "unqualified_avg = []\n",
    "unqualified_std = []\n",
    "\n",
    "for seed in df[\"seed\"].unique():\n",
    "    for iteration in df[\"iteration\"].unique():\n",
    "        selected = df.loc[(df[\"seed\"]==seed)&(df[\"iteration\"]==iteration)&(df[\"allocation_idx\"]==0), \"selected\"].values[0]\n",
    "        unselected = df.loc[(df[\"seed\"]==seed)&(df[\"iteration\"]==iteration)&(df[\"allocation_idx\"]==0), \"unselected\"].values[0]\n",
    "        people = selected + unselected\n",
    "        test_data = data.loc[data[\"person_id\"].isin(people)].copy()\n",
    "        qualified_selections = dict.fromkeys(test_data.loc[test_data[QUALIFICATION_COLUMN]==1, \"person_id\"].to_list(), 0)\n",
    "        unqualified_selections = dict.fromkeys(test_data.loc[test_data[QUALIFICATION_COLUMN]==0, \"person_id\"].to_list(), 0)\n",
    "\n",
    "        allocations = df.loc[(df[\"seed\"]==seed)&(df[\"iteration\"]==iteration), \"selected\"].to_list()\n",
    "        for a in allocations:\n",
    "            for p in a:\n",
    "                if p in qualified_selections:\n",
    "                    qualified_selections[p] += 1\n",
    "                else:\n",
    "                    unqualified_selections[p] += 1\n",
    "\n",
    "        qualified_selections = np.array(list(qualified_selections.values()))/len(allocations)\n",
    "        unqualified_selections = np.array(list(unqualified_selections.values()))/len(allocations)\n",
    "        \n",
    "        qualified_avg.append(np.mean(qualified_selections))\n",
    "        qualified_std.append(np.std(qualified_selections))\n",
    "        unqualified_avg.append(np.mean(unqualified_selections))\n",
    "        unqualified_std.append(np.std(unqualified_selections))\n",
    "print(np.mean(qualified_avg))\n",
    "print(np.mean(qualified_std))\n",
    "print(np.mean(unqualified_avg))\n",
    "print(np.mean(unqualified_std))"
   ]
  },
  {
   "cell_type": "code",
   "execution_count": null,
   "id": "9eacb038-26a8-492a-bb5e-1998d2d63070",
   "metadata": {},
   "outputs": [],
   "source": []
  },
  {
   "cell_type": "markdown",
   "id": "28f110d9-0140-4f7a-a936-e367de523895",
   "metadata": {},
   "source": [
    "#### Individual Fairness -- Num Chronic Illnesses"
   ]
  },
  {
   "cell_type": "code",
   "execution_count": 22,
   "id": "2077a55b-b6bc-4947-bb94-64e12bbf6676",
   "metadata": {},
   "outputs": [
    {
     "name": "stdout",
     "output_type": "stream",
     "text": [
      "0.23798906906618253\n",
      "0.03227925108559802\n",
      "0.227132377548405\n"
     ]
    }
   ],
   "source": [
    "all_metric = []\n",
    "\n",
    "for seed in df[\"seed\"].unique():\n",
    "    for iteration in df[\"iteration\"].unique():\n",
    "        selected = df.loc[(df[\"seed\"]==seed)&(df[\"iteration\"]==iteration)&(df[\"allocation_idx\"]==0), \"selected\"].values[0]\n",
    "        unselected = df.loc[(df[\"seed\"]==seed)&(df[\"iteration\"]==iteration)&(df[\"allocation_idx\"]==0), \"unselected\"].values[0]\n",
    "        people = selected + unselected\n",
    "        test_data = data.loc[data[\"person_id\"].isin(people)].copy()\n",
    "        \n",
    "        allocations = df.loc[(df[\"seed\"]==seed)&(df[\"iteration\"]==iteration), \"selected\"].to_list()\n",
    "        metric = []\n",
    "        for a in allocations:\n",
    "            ind_fairness = 0\n",
    "            for j,p in test_data.iterrows():\n",
    "                neighbors = test_data.loc[test_data[\"gagne_sum_t\"]==p[\"gagne_sum_t\"], \"person_id\"].to_list()\n",
    "                neighbors_selected = 0\n",
    "                for n in neighbors:\n",
    "                    if n in a:\n",
    "                        neighbors_selected += 1\n",
    "                        \n",
    "                p_selected = 0\n",
    "                if p[\"person_id\"] in a:\n",
    "                    p_selected = 1\n",
    "                ind_fairness += (np.abs(p_selected - neighbors_selected/len(neighbors)))\n",
    "            metric.append(ind_fairness/len(test_data))\n",
    "        all_metric.append(metric) \n",
    "\n",
    "all_metric_flattened = [m for metric in all_metric for m in metric]\n",
    "all_metric_min = [min(metric) for metric in all_metric]\n",
    "print(np.nanmean(all_metric_flattened))\n",
    "print(np.nanstd(all_metric_flattened))\n",
    "print(np.nanmean(all_metric_min))"
   ]
  },
  {
   "cell_type": "markdown",
   "id": "6aa27e90",
   "metadata": {},
   "source": [
    "#### Group Fairness -- % Highest Risk Patients That Are Black"
   ]
  },
  {
   "cell_type": "code",
   "execution_count": 23,
   "id": "5cfa246a-3031-45db-81f6-678564ff2fd3",
   "metadata": {},
   "outputs": [
    {
     "name": "stdout",
     "output_type": "stream",
     "text": [
      "0.14062780269058295\n",
      "0.06599515680547101\n",
      "0.1668\n"
     ]
    }
   ],
   "source": [
    "all_props = []\n",
    "\n",
    "black_people = data.loc[data[\"race\"]==1, \"person_id\"].to_list()\n",
    "\n",
    "for seed in df[\"seed\"].unique():\n",
    "    for iteration in df[\"iteration\"].unique():\n",
    "        allocations = df.loc[(df[\"seed\"]==seed)&(df[\"iteration\"]==iteration), \"selected\"].to_list()\n",
    "        props = []\n",
    "        for a in allocations:\n",
    "            black_selected = 0\n",
    "            for p in a:\n",
    "                if p in black_people:\n",
    "                    black_selected += 1\n",
    "            props.append(black_selected/len(a))\n",
    "        all_props.append(props)\n",
    "\n",
    "all_props_flattened = [p for props in all_props for p in props]\n",
    "all_props_max = [max(props) for props in all_props]\n",
    "print(np.nanmean(all_props_flattened))\n",
    "print(np.nanstd(all_props_flattened))\n",
    "print(np.nanmean(all_props_max))"
   ]
  },
  {
   "cell_type": "code",
   "execution_count": 18,
   "id": "f72184e2-c250-4bb1-91c3-36cfc00465ef",
   "metadata": {},
   "outputs": [
    {
     "name": "stdout",
     "output_type": "stream",
     "text": [
      "0.36519999999999997\n",
      "0.11657169467756742\n"
     ]
    }
   ],
   "source": [
    "best_prop = []\n",
    "for seed in df[\"seed\"].unique():\n",
    "    for iteration in df[\"iteration\"].unique():\n",
    "        selected = df.loc[(df[\"seed\"]==seed)&(df[\"iteration\"]==iteration)&(df[\"allocation_idx\"]==0), \"selected\"].values[0]\n",
    "        k = len(selected)\n",
    "        unselected = df.loc[(df[\"seed\"]==seed)&(df[\"iteration\"]==iteration)&(df[\"allocation_idx\"]==0), \"unselected\"].values[0]\n",
    "        people = selected + unselected\n",
    "        \n",
    "        test_data = data.loc[data[\"person_id\"].isin(people)].copy()\n",
    "        test_data = test_data[[\"person_id\", QUALIFICATION_COLUMN, \"race\"]].reset_index(drop=True).copy()\n",
    "        \n",
    "        k_prime = df.loc[(df[\"seed\"]==seed)&(df[\"iteration\"]==iteration), \"k'\"].max()\n",
    "        qualified_black = test_data[(test_data[\"race\"]==1)&(test_data[QUALIFICATION_COLUMN]==1)]\n",
    "        unqualified_black = test_data[(test_data[\"race\"]==1)&(test_data[QUALIFICATION_COLUMN]==0)]\n",
    "        qualified_white = test_data[(test_data[\"race\"]==0)&(test_data[QUALIFICATION_COLUMN]==1)]\n",
    "        unqualified_white = test_data[(test_data[\"race\"]==0)&(test_data[QUALIFICATION_COLUMN]==0)]\n",
    "\n",
    "        # Select as many black patients as possible under k' and (k-k') restrictions\n",
    "        black_selected = 0\n",
    "        if len(qualified_black)>=k_prime:\n",
    "            black_selected += k_prime\n",
    "        else:\n",
    "            black_selected += len(qualified_black)\n",
    "        if len(unqualified_black)>=(k-k_prime):\n",
    "            black_selected += (k-k_prime)\n",
    "        else:\n",
    "            black_selected += len(unqualified_black)\n",
    "        best_prop.append(black_selected/k)\n",
    "print(np.mean(best_prop))\n",
    "print(np.std(best_prop))"
   ]
  },
  {
   "cell_type": "markdown",
   "id": "a5914742-b237-4c24-8d89-ac6eac33265c",
   "metadata": {},
   "source": [
    "#### Group Fairness -- Difference in # Chronic Illnesses Among Selected Patients By Race"
   ]
  },
  {
   "cell_type": "code",
   "execution_count": 16,
   "id": "a82f95d1",
   "metadata": {},
   "outputs": [
    {
     "name": "stdout",
     "output_type": "stream",
     "text": [
      "1.4923815410840582\n",
      "0.5541476531508203\n",
      "1.4296089186531462\n"
     ]
    }
   ],
   "source": [
    "all_ratios = []\n",
    "\n",
    "black_people = data.loc[data[\"race\"]==1, \"person_id\"].to_list()\n",
    "\n",
    "for seed in df[\"seed\"].unique():\n",
    "    for iteration in df[\"iteration\"].unique():\n",
    "        selected = df.loc[(df[\"seed\"]==seed)&(df[\"iteration\"]==iteration)&(df[\"allocation_idx\"]==0), \"selected\"].values[0]\n",
    "        unselected = df.loc[(df[\"seed\"]==seed)&(df[\"iteration\"]==iteration)&(df[\"allocation_idx\"]==0), \"unselected\"].values[0]\n",
    "        people = selected + unselected\n",
    "        test_data = data.loc[data[\"person_id\"].isin(people)].copy()\n",
    "\n",
    "        ratio = []\n",
    "        allocations = df.loc[(df[\"seed\"]==seed)&(df[\"iteration\"]==iteration), \"selected\"].to_list()\n",
    "        for a in allocations:\n",
    "            white_num_illnesses = test_data.loc[(test_data[\"race\"]==0)&(test_data[\"person_id\"].isin(a)), \"gagne_sum_t\"].mean()\n",
    "            black_num_illnesses = test_data.loc[(test_data[\"race\"]==1)&(test_data[\"person_id\"].isin(a)), \"gagne_sum_t\"].mean()\n",
    "            ratio.append(black_num_illnesses/white_num_illnesses)\n",
    "        all_ratios.append(ratio)\n",
    "\n",
    "all_ratios_flattened = [r for ratios in all_ratios for r in ratios]\n",
    "all_ratios_min = [min(ratios) for ratios in all_ratios]\n",
    "print(np.nanmean(all_ratios_flattened))\n",
    "print(np.nanstd(all_ratios_flattened))\n",
    "print(np.nanmean(all_ratios_min))"
   ]
  },
  {
   "cell_type": "code",
   "execution_count": 17,
   "id": "30326dc8-bc02-486f-8e33-e4dd0a39609f",
   "metadata": {},
   "outputs": [
    {
     "name": "stdout",
     "output_type": "stream",
     "text": [
      "1.034217242770166\n",
      "0.4016658781216366\n"
     ]
    }
   ],
   "source": [
    "best_ratio = []\n",
    "for seed in df[\"seed\"].unique():\n",
    "    for iteration in df[\"iteration\"].unique():\n",
    "        selected = df.loc[(df[\"seed\"]==seed)&(df[\"iteration\"]==iteration)&(df[\"allocation_idx\"]==0), \"selected\"].values[0]\n",
    "        k = len(selected)\n",
    "        unselected = df.loc[(df[\"seed\"]==seed)&(df[\"iteration\"]==iteration)&(df[\"allocation_idx\"]==0), \"unselected\"].values[0]\n",
    "        people = selected + unselected\n",
    "        \n",
    "        test_data = data.loc[data[\"person_id\"].isin(people)].copy()\n",
    "        test_data = test_data[[\"person_id\", QUALIFICATION_COLUMN, \"race\", \"gagne_sum_t\"]].reset_index(drop=True).copy()\n",
    "        \n",
    "        k_prime = df.loc[(df[\"seed\"]==seed)&(df[\"iteration\"]==iteration), \"k'\"].max()\n",
    "        qualified = test_data[(test_data[QUALIFICATION_COLUMN]==1)]\n",
    "        unqualified = test_data[(test_data[QUALIFICATION_COLUMN]==0)]\n",
    "\n",
    "        qualified = qualified.sort_values(by=[\"gagne_sum_t\"], ascending=False).reset_index(drop=True)\n",
    "        unqualified = unqualified.sort_values(by=[\"gagne_sum_t\"], ascending=False).reset_index(drop=True)\n",
    "\n",
    "        # Select based on highest chronic illnesses, under k' and (k-k') restrictions\n",
    "        selected = pd.concat([qualified.loc[:k_prime-1], unqualified.loc[:(k-k_prime)-1]])\n",
    "        white_num_illnesses = selected.loc[(test_data[\"race\"]==0), \"gagne_sum_t\"].mean()\n",
    "        black_num_illnesses = selected.loc[(test_data[\"race\"]==1), \"gagne_sum_t\"].mean()\n",
    "        best_ratio.append(black_num_illnesses/white_num_illnesses)\n",
    "print(np.nanmean(best_ratio))\n",
    "print(np.nanstd(best_ratio))"
   ]
  },
  {
   "cell_type": "code",
   "execution_count": null,
   "id": "b6446c39-6c46-4ebc-9735-3b68d7542850",
   "metadata": {},
   "outputs": [],
   "source": []
  }
 ],
 "metadata": {
  "kernelspec": {
   "display_name": "Python 3 (ipykernel)",
   "language": "python",
   "name": "python3"
  },
  "language_info": {
   "codemirror_mode": {
    "name": "ipython",
    "version": 3
   },
   "file_extension": ".py",
   "mimetype": "text/x-python",
   "name": "python",
   "nbconvert_exporter": "python",
   "pygments_lexer": "ipython3",
   "version": "3.13.0"
  }
 },
 "nbformat": 4,
 "nbformat_minor": 5
}
