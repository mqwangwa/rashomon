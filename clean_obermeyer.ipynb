{
 "cells": [
  {
   "cell_type": "code",
   "execution_count": 13,
   "metadata": {},
   "outputs": [],
   "source": [
    "import pandas as pd\n",
    "import regex as re"
   ]
  },
  {
   "cell_type": "code",
   "execution_count": 14,
   "metadata": {},
   "outputs": [
    {
     "name": "stdout",
     "output_type": "stream",
     "text": [
      "['cost_t', 'race', 'dem_female', 'dem_age_band_18-24_tm1', 'dem_age_band_25-34_tm1', 'dem_age_band_35-44_tm1', 'dem_age_band_45-54_tm1', 'dem_age_band_55-64_tm1', 'dem_age_band_65-74_tm1', 'dem_age_band_75+_tm1', 'hypertension_elixhauser_tm1', 'cost_dialysis_tm1', 'cost_emergency_tm1', 'cost_home_health_tm1', 'cost_ip_medical_tm1', 'cost_ip_surgical_tm1', 'cost_laboratory_tm1', 'cost_op_primary_care_tm1', 'cost_op_specialists_tm1', 'cost_op_surgery_tm1', 'cost_other_tm1', 'cost_pharmacy_tm1', 'cost_physical_therapy_tm1', 'cost_radiology_tm1', 'gagne_sum_tm1', 'gagne_sum_t']\n"
     ]
    }
   ],
   "source": [
    "output_file = \"data/obermeyer/obermeyer_data_cleaned.csv\"\n",
    "all_columns = [\"risk_score_t\", \"program_enrolled_t\", \"cost_t\", \"cost_avoidable_t\", \"bps_mean_t\", \"ghba1c_mean_t\", \"hct_mean_t\",\n",
    "               \"cre_mean_t\", \"ldl_mean_t\", \"race\", \"dem_female\", \"dem_age_band_18-24_tm1\", \"dem_age_band_25-34_tm1\",\n",
    "               \"dem_age_band_35-44_tm1\", \"dem_age_band_45-54_tm1\", \"dem_age_band_55-64_tm1\", \"dem_age_band_65-74_tm1\",\n",
    "               \"dem_age_band_75+_tm1\", \"alcohol_elixhauser_tm1\", \"anemia_elixhauser_tm1\", \"arrhythmia_elixhauser_tm1\",\n",
    "               \"arthritis_elixhauser_tm1\", \"bloodlossanemia_elixhauser_tm1\", \"coagulopathy_elixhauser_tm1\", \"compdiabetes_elixhauser_tm1\",\n",
    "               \"depression_elixhauser_tm1\", \"drugabuse_elixhauser_tm1\", \"electrolytes_elixhauser_tm1\", \"hypertension_elixhauser_tm1\",\n",
    "               \"hypothyroid_elixhauser_tm1\", \"liver_elixhauser_tm1\", \"neurodegen_elixhauser_tm1\", \"obesity_elixhauser_tm1\",\n",
    "               \"paralysis_elixhauser_tm1\", \"psychosis_elixhauser_tm1\", \"pulmcirc_elixhauser_tm1\", \"pvd_elixhauser_tm1\",\n",
    "               \"renal_elixhauser_tm1\", \"uncompdiabetes_elixhauser_tm1\", \"valvulardz_elixhauser_tm1\", \"wtloss_elixhauser_tm1\",\n",
    "               \"cerebrovasculardz_romano_tm1\", \"chf_romano_tm1\", \"dementia_romano_tm1\", \"hemiplegia_romano_tm1\", \"hivaids_romano_tm1\",\n",
    "               \"metastatic_romano_tm1\", \"myocardialinfarct_romano_tm1\", \"pulmonarydz_romano_tm1\", \"tumor_romano_tm1\", \"ulcer_romano_tm1\",\n",
    "               \"cost_dialysis_tm1\", \"cost_emergency_tm1\", \"cost_home_health_tm1\", \"cost_ip_medical_tm1\", \"cost_ip_surgical_tm1\",\n",
    "               \"cost_laboratory_tm1\", \"cost_op_primary_care_tm1\", \"cost_op_specialists_tm1\", \"cost_op_surgery_tm1\", \"cost_other_tm1\",\n",
    "               \"cost_pharmacy_tm1\", \"cost_physical_therapy_tm1\", \"cost_radiology_tm1\", \"lasix_dose_count_tm1\", \"lasix_min_daily_dose_tm1\",\n",
    "               \"lasix_mean_daily_dose_tm1\", \"lasix_max_daily_dose_tm1\", \"cre_tests_tm1\", \"crp_tests_tm1\", \"esr_tests_tm1\", \"ghba1c_tests_tm1\",\n",
    "               \"hct_tests_tm1\", \"ldl_tests_tm1\", \"nt_bnp_tests_tm1\", \"sodium_tests_tm1\", \"trig_tests_tm1\", \"cre_min-low_tm1\", \"cre_min-high_tm1\",\n",
    "               \"cre_min-normal_tm1\", \"cre_mean-low_tm1\", \"cre_mean-high_tm1\", \"cre_mean-normal_tm1\", \"cre_max-low_tm1\", \"cre_max-high_tm1\",\n",
    "               \"cre_max-normal_tm1\", \"crp_min-low_tm1\", \"crp_min-high_tm1\", \"crp_min-normal_tm1\", \"crp_mean-low_tm1\", \"crp_mean-high_tm1\",\n",
    "               \"crp_mean-normal_tm1\", \"crp_max-low_tm1\", \"crp_max-high_tm1\", \"crp_max-normal_tm1\", \"esr_min-low_tm1\", \"esr_min-high_tm1\",\n",
    "               \"esr_min-normal_tm1\", \"esr_mean-low_tm1\", \"esr_mean-high_tm1\", \"esr_mean-normal_tm1\", \"esr_max-low_tm1\", \"esr_max-high_tm1\",\n",
    "               \"esr_max-normal_tm1\", \"ghba1c_min-low_tm1\", \"ghba1c_min-high_tm1\", \"ghba1c_min-normal_tm1\", \"ghba1c_mean-low_tm1\",\n",
    "               \"ghba1c_mean-high_tm1\", \"ghba1c_mean-normal_tm1\", \"ghba1c_max-low_tm1\", \"ghba1c_max-high_tm1\", \"ghba1c_max-normal_tm1\",\n",
    "               \"hct_min-low_tm1\", \"hct_min-high_tm1\", \"hct_min-normal_tm1\", \"hct_mean-low_tm1\", \"hct_mean-high_tm1\", \"hct_mean-normal_tm1\",\n",
    "               \"hct_max-low_tm1\", \"hct_max-high_tm1\", \"hct_max-normal_tm1\", \"ldl_min-low_tm1\", \"ldl_min-high_tm1\", \"ldl_min-normal_tm1\",\n",
    "               \"ldl-mean-low_tm1\", \"ldl-mean-high_tm1\", \"ldl-mean-normal_tm1\", \"ldl_max-low_tm1\", \"ldl_max-high_tm1\", \"ldl_max-normal_tm1\",\n",
    "               \"nt_bnp_min-low_tm1\", \"nt_bnp_min-high_tm1\", \"nt_bnp_min-normal_tm1\", \"nt_bnp_mean-low_tm1\", \"nt_bnp_mean-high_tm1\",\n",
    "               \"nt_bnp_mean-normal_tm1\", \"nt_bnp_max-low_tm1\", \"nt_bnp_max-high_tm1\", \"nt_bnp_max-normal_tm1\", \"sodium_min-low_tm1\",\n",
    "               \"sodium_min-high_tm1\", \"sodium_min-normal_tm1\", \"sodium_mean-low_tm1\", \"sodium_mean-high_tm1\", \"sodium_mean-normal_tm1\",\n",
    "               \"sodium_max-low_tm1\", \"sodium_max-high_tm1\", \"sodium_max-normal_tm1\", \"trig_min-low_tm1\", \"trig_min-high_tm1\",\n",
    "               \"trig_min-normal_tm1\", \"trig_mean-low_tm1\", \"trig_mean-high_tm1\", \"trig_mean-normal_tm1\", \"trig_max-low_tm1\",\n",
    "               \"trig_max-high_tm1\", \"trig_max-normal_tm1\", \"gagne_sum_tm1\", \"gagne_sum_t\"]\n",
    "pattern = re.compile(\"(gagne_sum_tm1|hypertension_elixhauser_tm1|^dem_|cost.*tm1)|cost_t|race|gagne_sum_t\") # cost_t, race, gagne_sum_t need to be dropped while training\n",
    "column_names = [column_name for column_name in all_columns if re.match(pattern, column_name)]\n",
    "print(column_names)\n",
    "df = pd.read_csv(\"data/obermeyer/obermeyer_data_v1.csv\", usecols=column_names)\n",
    "df.columns = column_names"
   ]
  },
  {
   "cell_type": "code",
   "execution_count": 15,
   "metadata": {},
   "outputs": [
    {
     "name": "stdout",
     "output_type": "stream",
     "text": [
      "1200.0 2800.0 6600.0\n"
     ]
    }
   ],
   "source": [
    "qualified_cost_75, qualified_cost_50, qualified_cost_25 = df[\"cost_t\"].dropna().quantile([0.25, 0.50, 0.75])\n",
    "print(qualified_cost_75, qualified_cost_50, qualified_cost_25)\n",
    "\n",
    "df['qualified_cost_75'] = df['cost_t'].apply(lambda x: 1 if x >= qualified_cost_75 else 0)\n",
    "df['qualified_cost_50'] = df['cost_t'].apply(lambda x: 1 if x >= qualified_cost_50 else 0)\n",
    "df['qualified_cost_25'] = df['cost_t'].apply(lambda x: 1 if x >= qualified_cost_25 else 0)"
   ]
  },
  {
   "cell_type": "code",
   "execution_count": 16,
   "metadata": {},
   "outputs": [
    {
     "data": {
      "text/plain": [
       "(0.5447072810757625, 0.3161692358150213, 0.18764348966874386)"
      ]
     },
     "execution_count": 16,
     "metadata": {},
     "output_type": "execute_result"
    }
   ],
   "source": [
    "len(df[df[\"gagne_sum_t\"]>=1])/len(df), len(df[df[\"gagne_sum_t\"]>=2])/len(df), len(df[df[\"gagne_sum_t\"]>=3])/len(df)"
   ]
  },
  {
   "cell_type": "code",
   "execution_count": 17,
   "metadata": {},
   "outputs": [],
   "source": [
    "df['qualified_gagne_3'] = df['gagne_sum_t'].apply(lambda x: 1 if x >= 3 else 0)\n",
    "df['qualified_gagne_2'] = df['gagne_sum_t'].apply(lambda x: 1 if x >= 2 else 0)\n",
    "df['qualified_gagne_1'] = df['gagne_sum_t'].apply(lambda x: 1 if x >= 1 else 0)"
   ]
  },
  {
   "cell_type": "code",
   "execution_count": 18,
   "metadata": {},
   "outputs": [],
   "source": [
    "df.loc[:, 'race'] = df['race'].apply(lambda x: 1 if x==\"black\" else 0)\n",
    "for column_name in column_names:\n",
    "    if column_name == \"gagne_sum_t\":\n",
    "        continue\n",
    "    if (df[column_name].max() == df[column_name].min()):\n",
    "        print(column_name, df[column_name].max())\n",
    "    else:\n",
    "        df[column_name] = (df[column_name]-df[column_name].min()) / (df[column_name].max() - df[column_name].min())\n",
    "df['person_id'] = df.index"
   ]
  },
  {
   "cell_type": "code",
   "execution_count": 19,
   "metadata": {},
   "outputs": [
    {
     "data": {
      "text/html": [
       "<div>\n",
       "<style scoped>\n",
       "    .dataframe tbody tr th:only-of-type {\n",
       "        vertical-align: middle;\n",
       "    }\n",
       "\n",
       "    .dataframe tbody tr th {\n",
       "        vertical-align: top;\n",
       "    }\n",
       "\n",
       "    .dataframe thead th {\n",
       "        text-align: right;\n",
       "    }\n",
       "</style>\n",
       "<table border=\"1\" class=\"dataframe\">\n",
       "  <thead>\n",
       "    <tr style=\"text-align: right;\">\n",
       "      <th></th>\n",
       "      <th>cost_t</th>\n",
       "      <th>race</th>\n",
       "      <th>dem_female</th>\n",
       "      <th>dem_age_band_18-24_tm1</th>\n",
       "      <th>dem_age_band_25-34_tm1</th>\n",
       "      <th>dem_age_band_35-44_tm1</th>\n",
       "      <th>dem_age_band_45-54_tm1</th>\n",
       "      <th>dem_age_band_55-64_tm1</th>\n",
       "      <th>dem_age_band_65-74_tm1</th>\n",
       "      <th>dem_age_band_75+_tm1</th>\n",
       "      <th>...</th>\n",
       "      <th>cost_radiology_tm1</th>\n",
       "      <th>gagne_sum_tm1</th>\n",
       "      <th>gagne_sum_t</th>\n",
       "      <th>qualified_cost_75</th>\n",
       "      <th>qualified_cost_50</th>\n",
       "      <th>qualified_cost_25</th>\n",
       "      <th>qualified_gagne_3</th>\n",
       "      <th>qualified_gagne_2</th>\n",
       "      <th>qualified_gagne_1</th>\n",
       "      <th>person_id</th>\n",
       "    </tr>\n",
       "  </thead>\n",
       "  <tbody>\n",
       "    <tr>\n",
       "      <th>0</th>\n",
       "      <td>0.002180</td>\n",
       "      <td>0.0</td>\n",
       "      <td>0.0</td>\n",
       "      <td>0.0</td>\n",
       "      <td>0.0</td>\n",
       "      <td>0.0</td>\n",
       "      <td>1.0</td>\n",
       "      <td>0.0</td>\n",
       "      <td>0.0</td>\n",
       "      <td>0.0</td>\n",
       "      <td>...</td>\n",
       "      <td>0.000000</td>\n",
       "      <td>0.000000</td>\n",
       "      <td>0</td>\n",
       "      <td>1</td>\n",
       "      <td>0</td>\n",
       "      <td>0</td>\n",
       "      <td>0</td>\n",
       "      <td>0</td>\n",
       "      <td>0</td>\n",
       "      <td>0</td>\n",
       "    </tr>\n",
       "    <tr>\n",
       "      <th>1</th>\n",
       "      <td>0.004723</td>\n",
       "      <td>0.0</td>\n",
       "      <td>1.0</td>\n",
       "      <td>0.0</td>\n",
       "      <td>0.0</td>\n",
       "      <td>0.0</td>\n",
       "      <td>1.0</td>\n",
       "      <td>0.0</td>\n",
       "      <td>0.0</td>\n",
       "      <td>0.0</td>\n",
       "      <td>...</td>\n",
       "      <td>0.014486</td>\n",
       "      <td>0.222222</td>\n",
       "      <td>3</td>\n",
       "      <td>1</td>\n",
       "      <td>0</td>\n",
       "      <td>0</td>\n",
       "      <td>1</td>\n",
       "      <td>1</td>\n",
       "      <td>1</td>\n",
       "      <td>1</td>\n",
       "    </tr>\n",
       "    <tr>\n",
       "      <th>2</th>\n",
       "      <td>0.000908</td>\n",
       "      <td>0.0</td>\n",
       "      <td>1.0</td>\n",
       "      <td>0.0</td>\n",
       "      <td>1.0</td>\n",
       "      <td>0.0</td>\n",
       "      <td>0.0</td>\n",
       "      <td>0.0</td>\n",
       "      <td>0.0</td>\n",
       "      <td>0.0</td>\n",
       "      <td>...</td>\n",
       "      <td>0.000000</td>\n",
       "      <td>0.000000</td>\n",
       "      <td>0</td>\n",
       "      <td>0</td>\n",
       "      <td>0</td>\n",
       "      <td>0</td>\n",
       "      <td>0</td>\n",
       "      <td>0</td>\n",
       "      <td>0</td>\n",
       "      <td>2</td>\n",
       "    </tr>\n",
       "    <tr>\n",
       "      <th>3</th>\n",
       "      <td>0.002361</td>\n",
       "      <td>0.0</td>\n",
       "      <td>1.0</td>\n",
       "      <td>1.0</td>\n",
       "      <td>0.0</td>\n",
       "      <td>0.0</td>\n",
       "      <td>0.0</td>\n",
       "      <td>0.0</td>\n",
       "      <td>0.0</td>\n",
       "      <td>0.0</td>\n",
       "      <td>...</td>\n",
       "      <td>0.000000</td>\n",
       "      <td>0.000000</td>\n",
       "      <td>0</td>\n",
       "      <td>1</td>\n",
       "      <td>0</td>\n",
       "      <td>0</td>\n",
       "      <td>0</td>\n",
       "      <td>0</td>\n",
       "      <td>0</td>\n",
       "      <td>3</td>\n",
       "    </tr>\n",
       "    <tr>\n",
       "      <th>4</th>\n",
       "      <td>0.001998</td>\n",
       "      <td>0.0</td>\n",
       "      <td>1.0</td>\n",
       "      <td>0.0</td>\n",
       "      <td>0.0</td>\n",
       "      <td>0.0</td>\n",
       "      <td>0.0</td>\n",
       "      <td>1.0</td>\n",
       "      <td>0.0</td>\n",
       "      <td>0.0</td>\n",
       "      <td>...</td>\n",
       "      <td>0.000000</td>\n",
       "      <td>0.055556</td>\n",
       "      <td>1</td>\n",
       "      <td>0</td>\n",
       "      <td>0</td>\n",
       "      <td>0</td>\n",
       "      <td>0</td>\n",
       "      <td>0</td>\n",
       "      <td>1</td>\n",
       "      <td>4</td>\n",
       "    </tr>\n",
       "  </tbody>\n",
       "</table>\n",
       "<p>5 rows × 33 columns</p>\n",
       "</div>"
      ],
      "text/plain": [
       "     cost_t race  dem_female  dem_age_band_18-24_tm1  dem_age_band_25-34_tm1  \\\n",
       "0  0.002180  0.0         0.0                     0.0                     0.0   \n",
       "1  0.004723  0.0         1.0                     0.0                     0.0   \n",
       "2  0.000908  0.0         1.0                     0.0                     1.0   \n",
       "3  0.002361  0.0         1.0                     1.0                     0.0   \n",
       "4  0.001998  0.0         1.0                     0.0                     0.0   \n",
       "\n",
       "   dem_age_band_35-44_tm1  dem_age_band_45-54_tm1  dem_age_band_55-64_tm1  \\\n",
       "0                     0.0                     1.0                     0.0   \n",
       "1                     0.0                     1.0                     0.0   \n",
       "2                     0.0                     0.0                     0.0   \n",
       "3                     0.0                     0.0                     0.0   \n",
       "4                     0.0                     0.0                     1.0   \n",
       "\n",
       "   dem_age_band_65-74_tm1  dem_age_band_75+_tm1  ...  cost_radiology_tm1  \\\n",
       "0                     0.0                   0.0  ...            0.000000   \n",
       "1                     0.0                   0.0  ...            0.014486   \n",
       "2                     0.0                   0.0  ...            0.000000   \n",
       "3                     0.0                   0.0  ...            0.000000   \n",
       "4                     0.0                   0.0  ...            0.000000   \n",
       "\n",
       "   gagne_sum_tm1  gagne_sum_t  qualified_cost_75  qualified_cost_50  \\\n",
       "0       0.000000            0                  1                  0   \n",
       "1       0.222222            3                  1                  0   \n",
       "2       0.000000            0                  0                  0   \n",
       "3       0.000000            0                  1                  0   \n",
       "4       0.055556            1                  0                  0   \n",
       "\n",
       "   qualified_cost_25  qualified_gagne_3  qualified_gagne_2  qualified_gagne_1  \\\n",
       "0                  0                  0                  0                  0   \n",
       "1                  0                  1                  1                  1   \n",
       "2                  0                  0                  0                  0   \n",
       "3                  0                  0                  0                  0   \n",
       "4                  0                  0                  0                  1   \n",
       "\n",
       "   person_id  \n",
       "0          0  \n",
       "1          1  \n",
       "2          2  \n",
       "3          3  \n",
       "4          4  \n",
       "\n",
       "[5 rows x 33 columns]"
      ]
     },
     "execution_count": 19,
     "metadata": {},
     "output_type": "execute_result"
    }
   ],
   "source": [
    "df.head()"
   ]
  },
  {
   "cell_type": "code",
   "execution_count": 8,
   "metadata": {},
   "outputs": [],
   "source": [
    "#df.to_csv(output_file, index=False)"
   ]
  },
  {
   "cell_type": "markdown",
   "metadata": {},
   "source": [
    "### KMeans Experiment"
   ]
  },
  {
   "cell_type": "code",
   "execution_count": 20,
   "metadata": {},
   "outputs": [],
   "source": [
    "features = ['dem_female', 'dem_age_band_18-24_tm1', 'dem_age_band_25-34_tm1', 'dem_age_band_35-44_tm1', 'dem_age_band_45-54_tm1',\n",
    "            'dem_age_band_55-64_tm1', 'dem_age_band_65-74_tm1', 'dem_age_band_75+_tm1', 'hypertension_elixhauser_tm1', 'cost_dialysis_tm1',\n",
    "            'cost_emergency_tm1', 'cost_home_health_tm1', 'cost_ip_medical_tm1', 'cost_ip_surgical_tm1', 'cost_laboratory_tm1',\n",
    "            'cost_op_primary_care_tm1', 'cost_op_specialists_tm1', 'cost_op_surgery_tm1', 'cost_other_tm1', 'cost_pharmacy_tm1',\n",
    "            'cost_physical_therapy_tm1', 'cost_radiology_tm1', 'gagne_sum_tm1']"
   ]
  },
  {
   "cell_type": "code",
   "execution_count": 21,
   "metadata": {},
   "outputs": [
    {
     "data": {
      "image/png": "[encoded data removed]",
      "text/plain": [
       "<Figure size 640x480 with 1 Axes>"
      ]
     },
     "metadata": {},
     "output_type": "display_data"
    }
   ],
   "source": [
    "import matplotlib.pyplot as plt\n",
    "from sklearn.cluster import KMeans\n",
    "from sklearn.datasets import make_blobs\n",
    "\n",
    "# Generate sample data\n",
    "X = df[features].to_numpy()\n",
    "\n",
    "# Calculate inertia (WCSS) for different values of k\n",
    "inertia = []\n",
    "for k in range(1, 20):\n",
    "    kmeans = KMeans(n_clusters=k)\n",
    "    kmeans.fit(X)\n",
    "    inertia.append(kmeans.inertia_)\n",
    "\n",
    "# Plot the elbow plot\n",
    "plt.plot(range(1, 20), inertia, marker='o')\n",
    "plt.xlabel('Number of Clusters (k)')\n",
    "plt.ylabel('Inertia')\n",
    "plt.title('Elbow Method for Optimal k')\n",
    "plt.show()\n"
   ]
  },
  {
   "cell_type": "code",
   "execution_count": 22,
   "metadata": {},
   "outputs": [],
   "source": [
    "kmeans = KMeans(n_clusters=4)\n",
    "df[\"kmeans_4\"] = kmeans.fit_predict(X)\n",
    "\n",
    "kmeans = KMeans(n_clusters=10)\n",
    "df[\"kmeans_10\"] = kmeans.fit_predict(X)"
   ]
  },
  {
   "cell_type": "code",
   "execution_count": 23,
   "metadata": {},
   "outputs": [],
   "source": [
    "age_cols = [\"dem_age_band_18-24_tm1\", \n",
    "            \"dem_age_band_25-34_tm1\",\n",
    "            \"dem_age_band_35-44_tm1\",\n",
    "            \"dem_age_band_45-54_tm1\", \n",
    "            \"dem_age_band_55-64_tm1\", \n",
    "            \"dem_age_band_65-74_tm1\",\n",
    "            \"dem_age_band_75+_tm1\"]\n",
    "df[\"age\"] = 0\n",
    "for i,a in enumerate(age_cols):\n",
    "    df.loc[df[a]==1, \"age\"] = i"
   ]
  },
  {
   "cell_type": "code",
   "execution_count": 24,
   "metadata": {},
   "outputs": [],
   "source": [
    "df.to_csv(output_file, index=False)"
   ]
  }
 ],
 "metadata": {
  "kernelspec": {
   "display_name": "Python 3",
   "language": "python",
   "name": "python3"
  },
  "language_info": {
   "codemirror_mode": {
    "name": "ipython",
    "version": 3
   },
   "file_extension": ".py",
   "mimetype": "text/x-python",
   "name": "python",
   "nbconvert_exporter": "python",
   "pygments_lexer": "ipython3",
   "version": "3.12.1"
  }
 },
 "nbformat": 4,
 "nbformat_minor": 4
}
