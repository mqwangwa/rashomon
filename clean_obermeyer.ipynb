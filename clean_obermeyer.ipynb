{
 "cells": [
  {
   "cell_type": "code",
   "execution_count": 20,
   "metadata": {},
   "outputs": [],
   "source": [
    "import pandas as pd\n",
    "import regex as re"
   ]
  },
  {
   "cell_type": "code",
   "execution_count": 21,
   "metadata": {},
   "outputs": [
    {
     "name": "stdout",
     "output_type": "stream",
     "text": [
      "['cost_t', 'race', 'dem_female', 'dem_age_band_18-24_tm1', 'dem_age_band_25-34_tm1', 'dem_age_band_35-44_tm1', 'dem_age_band_45-54_tm1', 'dem_age_band_55-64_tm1', 'dem_age_band_65-74_tm1', 'dem_age_band_75+_tm1', 'hypertension_elixhauser_tm1', 'cost_dialysis_tm1', 'cost_emergency_tm1', 'cost_home_health_tm1', 'cost_ip_medical_tm1', 'cost_ip_surgical_tm1', 'cost_laboratory_tm1', 'cost_op_primary_care_tm1', 'cost_op_specialists_tm1', 'cost_op_surgery_tm1', 'cost_other_tm1', 'cost_pharmacy_tm1', 'cost_physical_therapy_tm1', 'cost_radiology_tm1', 'gagne_sum_tm1', 'gagne_sum_t']\n"
     ]
    }
   ],
   "source": [
    "output_file = \"data/obermeyer/obermeyer_data_cleaned.csv\"\n",
    "all_columns = [\"risk_score_t\", \"program_enrolled_t\", \"cost_t\", \"cost_avoidable_t\", \"bps_mean_t\", \"ghba1c_mean_t\", \"hct_mean_t\",\n",
    "               \"cre_mean_t\", \"ldl_mean_t\", \"race\", \"dem_female\", \"dem_age_band_18-24_tm1\", \"dem_age_band_25-34_tm1\",\n",
    "               \"dem_age_band_35-44_tm1\", \"dem_age_band_45-54_tm1\", \"dem_age_band_55-64_tm1\", \"dem_age_band_65-74_tm1\",\n",
    "               \"dem_age_band_75+_tm1\", \"alcohol_elixhauser_tm1\", \"anemia_elixhauser_tm1\", \"arrhythmia_elixhauser_tm1\",\n",
    "               \"arthritis_elixhauser_tm1\", \"bloodlossanemia_elixhauser_tm1\", \"coagulopathy_elixhauser_tm1\", \"compdiabetes_elixhauser_tm1\",\n",
    "               \"depression_elixhauser_tm1\", \"drugabuse_elixhauser_tm1\", \"electrolytes_elixhauser_tm1\", \"hypertension_elixhauser_tm1\",\n",
    "               \"hypothyroid_elixhauser_tm1\", \"liver_elixhauser_tm1\", \"neurodegen_elixhauser_tm1\", \"obesity_elixhauser_tm1\",\n",
    "               \"paralysis_elixhauser_tm1\", \"psychosis_elixhauser_tm1\", \"pulmcirc_elixhauser_tm1\", \"pvd_elixhauser_tm1\",\n",
    "               \"renal_elixhauser_tm1\", \"uncompdiabetes_elixhauser_tm1\", \"valvulardz_elixhauser_tm1\", \"wtloss_elixhauser_tm1\",\n",
    "               \"cerebrovasculardz_romano_tm1\", \"chf_romano_tm1\", \"dementia_romano_tm1\", \"hemiplegia_romano_tm1\", \"hivaids_romano_tm1\",\n",
    "               \"metastatic_romano_tm1\", \"myocardialinfarct_romano_tm1\", \"pulmonarydz_romano_tm1\", \"tumor_romano_tm1\", \"ulcer_romano_tm1\",\n",
    "               \"cost_dialysis_tm1\", \"cost_emergency_tm1\", \"cost_home_health_tm1\", \"cost_ip_medical_tm1\", \"cost_ip_surgical_tm1\",\n",
    "               \"cost_laboratory_tm1\", \"cost_op_primary_care_tm1\", \"cost_op_specialists_tm1\", \"cost_op_surgery_tm1\", \"cost_other_tm1\",\n",
    "               \"cost_pharmacy_tm1\", \"cost_physical_therapy_tm1\", \"cost_radiology_tm1\", \"lasix_dose_count_tm1\", \"lasix_min_daily_dose_tm1\",\n",
    "               \"lasix_mean_daily_dose_tm1\", \"lasix_max_daily_dose_tm1\", \"cre_tests_tm1\", \"crp_tests_tm1\", \"esr_tests_tm1\", \"ghba1c_tests_tm1\",\n",
    "               \"hct_tests_tm1\", \"ldl_tests_tm1\", \"nt_bnp_tests_tm1\", \"sodium_tests_tm1\", \"trig_tests_tm1\", \"cre_min-low_tm1\", \"cre_min-high_tm1\",\n",
    "               \"cre_min-normal_tm1\", \"cre_mean-low_tm1\", \"cre_mean-high_tm1\", \"cre_mean-normal_tm1\", \"cre_max-low_tm1\", \"cre_max-high_tm1\",\n",
    "               \"cre_max-normal_tm1\", \"crp_min-low_tm1\", \"crp_min-high_tm1\", \"crp_min-normal_tm1\", \"crp_mean-low_tm1\", \"crp_mean-high_tm1\",\n",
    "               \"crp_mean-normal_tm1\", \"crp_max-low_tm1\", \"crp_max-high_tm1\", \"crp_max-normal_tm1\", \"esr_min-low_tm1\", \"esr_min-high_tm1\",\n",
    "               \"esr_min-normal_tm1\", \"esr_mean-low_tm1\", \"esr_mean-high_tm1\", \"esr_mean-normal_tm1\", \"esr_max-low_tm1\", \"esr_max-high_tm1\",\n",
    "               \"esr_max-normal_tm1\", \"ghba1c_min-low_tm1\", \"ghba1c_min-high_tm1\", \"ghba1c_min-normal_tm1\", \"ghba1c_mean-low_tm1\",\n",
    "               \"ghba1c_mean-high_tm1\", \"ghba1c_mean-normal_tm1\", \"ghba1c_max-low_tm1\", \"ghba1c_max-high_tm1\", \"ghba1c_max-normal_tm1\",\n",
    "               \"hct_min-low_tm1\", \"hct_min-high_tm1\", \"hct_min-normal_tm1\", \"hct_mean-low_tm1\", \"hct_mean-high_tm1\", \"hct_mean-normal_tm1\",\n",
    "               \"hct_max-low_tm1\", \"hct_max-high_tm1\", \"hct_max-normal_tm1\", \"ldl_min-low_tm1\", \"ldl_min-high_tm1\", \"ldl_min-normal_tm1\",\n",
    "               \"ldl-mean-low_tm1\", \"ldl-mean-high_tm1\", \"ldl-mean-normal_tm1\", \"ldl_max-low_tm1\", \"ldl_max-high_tm1\", \"ldl_max-normal_tm1\",\n",
    "               \"nt_bnp_min-low_tm1\", \"nt_bnp_min-high_tm1\", \"nt_bnp_min-normal_tm1\", \"nt_bnp_mean-low_tm1\", \"nt_bnp_mean-high_tm1\",\n",
    "               \"nt_bnp_mean-normal_tm1\", \"nt_bnp_max-low_tm1\", \"nt_bnp_max-high_tm1\", \"nt_bnp_max-normal_tm1\", \"sodium_min-low_tm1\",\n",
    "               \"sodium_min-high_tm1\", \"sodium_min-normal_tm1\", \"sodium_mean-low_tm1\", \"sodium_mean-high_tm1\", \"sodium_mean-normal_tm1\",\n",
    "               \"sodium_max-low_tm1\", \"sodium_max-high_tm1\", \"sodium_max-normal_tm1\", \"trig_min-low_tm1\", \"trig_min-high_tm1\",\n",
    "               \"trig_min-normal_tm1\", \"trig_mean-low_tm1\", \"trig_mean-high_tm1\", \"trig_mean-normal_tm1\", \"trig_max-low_tm1\",\n",
    "               \"trig_max-high_tm1\", \"trig_max-normal_tm1\", \"gagne_sum_tm1\", \"gagne_sum_t\"]\n",
    "pattern = re.compile(\"(gagne_sum_tm1|hypertension_elixhauser_tm1|^dem_|cost.*tm1)|cost_t|race|gagne_sum_t\") # cost_t, race, gagne_sum_t need to be dropped while training\n",
    "column_names = [column_name for column_name in all_columns if re.match(pattern, column_name)]\n",
    "print(column_names)\n",
    "df = pd.read_csv(\"data/obermeyer/obermeyer_data_v1.csv\", usecols=column_names)\n",
    "df.columns = column_names"
   ]
  },
  {
   "cell_type": "code",
   "execution_count": 22,
   "metadata": {},
   "outputs": [
    {
     "name": "stdout",
     "output_type": "stream",
     "text": [
      "1200.0 2800.0 6600.0\n"
     ]
    }
   ],
   "source": [
    "threshold_25, threshold_50, threshold_75 = df[\"cost_t\"].dropna().quantile([0.25, 0.50, 0.75])\n",
    "print(threshold_25, threshold_50, threshold_75)"
   ]
  },
  {
   "cell_type": "code",
   "execution_count": 23,
   "metadata": {},
   "outputs": [],
   "source": [
    "df.loc[:, 'race'] = df['race'].apply(lambda x: 1 if x==\"black\" else 0)\n",
    "df['threshold_25'] = df['cost_t'].apply(lambda x: 1 if x >= threshold_25 else 0)\n",
    "df['threshold_50'] = df['cost_t'].apply(lambda x: 1 if x >= threshold_50 else 0)\n",
    "df['threshold_75'] = df['cost_t'].apply(lambda x: 1 if x >= threshold_75 else 0)\n",
    "for column_name in column_names:\n",
    "    if column_name == \"gagne_sum_t\":\n",
    "        continue\n",
    "    if (df[column_name].max() == df[column_name].min()):\n",
    "        print(column_name, df[column_name].max())\n",
    "    else:\n",
    "        df[column_name] = (df[column_name]-df[column_name].min()) / (df[column_name].max() - df[column_name].min())\n",
    "df['person_id'] = df.index"
   ]
  },
  {
   "cell_type": "code",
   "execution_count": 24,
   "metadata": {},
   "outputs": [
    {
     "name": "stdout",
     "output_type": "stream",
     "text": [
      "0.0021798365122615805 0.0050862851952770205 0.011989100817438692\n"
     ]
    }
   ],
   "source": [
    "threshold_25, threshold_50, threshold_75 = df[\"cost_t\"].dropna().quantile([0.25, 0.50, 0.75])\n",
    "print(threshold_25, threshold_50, threshold_75)"
   ]
  },
  {
   "cell_type": "code",
   "execution_count": 25,
   "metadata": {},
   "outputs": [],
   "source": [
    "df.to_csv(output_file, index=False)"
   ]
  },
  {
   "cell_type": "code",
   "execution_count": null,
   "metadata": {},
   "outputs": [],
   "source": []
  },
  {
   "cell_type": "code",
   "execution_count": null,
   "metadata": {},
   "outputs": [],
   "source": []
  }
 ],
 "metadata": {
  "kernelspec": {
   "display_name": "Python 3 (ipykernel)",
   "language": "python",
   "name": "python3"
  },
  "language_info": {
   "codemirror_mode": {
    "name": "ipython",
    "version": 3
   },
   "file_extension": ".py",
   "mimetype": "text/x-python",
   "name": "python",
   "nbconvert_exporter": "python",
   "pygments_lexer": "ipython3",
   "version": "3.13.0"
  }
 },
 "nbformat": 4,
 "nbformat_minor": 4
}
